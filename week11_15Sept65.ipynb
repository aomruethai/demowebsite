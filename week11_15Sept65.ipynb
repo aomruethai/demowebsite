{
  "nbformat": 4,
  "nbformat_minor": 0,
  "metadata": {
    "colab": {
      "provenance": [],
      "collapsed_sections": [
        "13kK6g_c_s6t",
        "eYPKYea3Quqp",
        "Wj9J3ZMwVcOJ"
      ],
      "include_colab_link": true
    },
    "kernelspec": {
      "name": "python3",
      "display_name": "Python 3"
    },
    "language_info": {
      "name": "python"
    }
  },
  "cells": [
    {
      "cell_type": "markdown",
      "metadata": {
        "id": "view-in-github",
        "colab_type": "text"
      },
      "source": [
        "<a href=\"https://colab.research.google.com/github/aomruethai/demowebsite/blob/main/week11_15Sept65.ipynb\" target=\"_parent\"><img src=\"https://colab.research.google.com/assets/colab-badge.svg\" alt=\"Open In Colab\"/></a>"
      ]
    },
    {
      "cell_type": "markdown",
      "source": [
        "# Week11: 15 September 2022 (For & Flowchart)"
      ],
      "metadata": {
        "id": "24DgjxR3m4zi"
      }
    },
    {
      "cell_type": "markdown",
      "source": [
        "## (เฉลยการบ้าน)"
      ],
      "metadata": {
        "id": "o7w3AuC7ntOP"
      }
    },
    {
      "cell_type": "code",
      "source": [],
      "metadata": {
        "id": "7a3CWFr7m4iy"
      },
      "execution_count": null,
      "outputs": []
    },
    {
      "cell_type": "markdown",
      "source": [
        "## (in Lab)"
      ],
      "metadata": {
        "id": "_z3nERn_MQ6C"
      }
    },
    {
      "cell_type": "markdown",
      "source": [
        "ฝึกเขียน flowchart จากโค้ดการบ้าน"
      ],
      "metadata": {
        "id": "2121CB_Vn9nq"
      }
    },
    {
      "cell_type": "code",
      "source": [
        "#https://drive.google.com/file/d/1-N1fK4aDnmuMGFBzi6cwPAhZzc9MCLuh/view?usp=sharing"
      ],
      "metadata": {
        "id": "HN46qOrqm4Zi"
      },
      "execution_count": null,
      "outputs": []
    },
    {
      "cell_type": "code",
      "source": [
        "#จงเขียนโค้ดหาผลรวมตั้งแต่ 1-500\n",
        "total = 0\n",
        "for i in range(1, 501):\n",
        "  total = total + i     #total += i\n",
        "\n",
        "print(total)"
      ],
      "metadata": {
        "id": "3ow3cIs7m4En",
        "colab": {
          "base_uri": "https://localhost:8080/"
        },
        "outputId": "c77ff63e-0459-44e7-da0d-e5c9c8427f3a"
      },
      "execution_count": null,
      "outputs": [
        {
          "output_type": "stream",
          "name": "stdout",
          "text": [
            "125250\n"
          ]
        }
      ]
    },
    {
      "cell_type": "code",
      "source": [
        "#ข้อ 1.3\n",
        "m1, m2, m3, m4 = eval(input(\"กรอกตัวเลข 4 ค่าคั่นด้วยคอมม่า \"))\n",
        "grade = (m1+m2+m3+m4)/4\n",
        "if grade < 60:\n",
        "  print(\"Fail\")\n",
        "else:\n",
        "  print(\"Pass\")\n"
      ],
      "metadata": {
        "id": "TpwDckIQokbl",
        "colab": {
          "base_uri": "https://localhost:8080/"
        },
        "outputId": "085fc0d6-ce17-449b-84cf-fdd7a7447f30"
      },
      "execution_count": null,
      "outputs": [
        {
          "output_type": "stream",
          "name": "stdout",
          "text": [
            "กรอกตัวเลข 4 ค่าคั่นด้วยคอมม่า 41,60,60,48\n",
            "Fail\n"
          ]
        }
      ]
    },
    {
      "cell_type": "code",
      "source": [
        "#2.1\n",
        "for i in range(2, 7, 2):\n",
        "  print(i+1)"
      ],
      "metadata": {
        "id": "8hDysqkpokX6",
        "colab": {
          "base_uri": "https://localhost:8080/"
        },
        "outputId": "ab8a3a61-7f72-43f9-8181-54295d2f9aaf"
      },
      "execution_count": null,
      "outputs": [
        {
          "output_type": "stream",
          "name": "stdout",
          "text": [
            "3\n",
            "5\n",
            "7\n"
          ]
        }
      ]
    },
    {
      "cell_type": "code",
      "source": [
        "for i in range(1, 5, 2):\n",
        "  print(i)"
      ],
      "metadata": {
        "colab": {
          "base_uri": "https://localhost:8080/"
        },
        "id": "GrQv3OjrAOEK",
        "outputId": "470530f6-af08-405f-b9f1-79f744743d4c"
      },
      "execution_count": null,
      "outputs": [
        {
          "output_type": "stream",
          "name": "stdout",
          "text": [
            "0\n",
            "1\n",
            "2\n",
            "3\n",
            "4\n"
          ]
        }
      ]
    },
    {
      "cell_type": "code",
      "source": [
        "#2.2\n",
        "score = [2, 4, 8, 1, 9, 3]\n",
        "sum_score = 0\n",
        "min_score = score[0]\n",
        "max_score = score[0]\n",
        "for x in score:\n",
        "  print(x)\n",
        "  sum_score += x\n",
        "  if x < min_score:\n",
        "    min_score = x\n",
        "  if x > max_score:\n",
        "    max_score = x\n",
        "\n",
        "print(f'sum_score = {sum_score}')\n",
        "print(f'min_score = {min_score}')\n",
        "print(f'max_score = {max_score}')"
      ],
      "metadata": {
        "colab": {
          "base_uri": "https://localhost:8080/"
        },
        "id": "Js9D_z0I-mcz",
        "outputId": "578e2295-85ad-4bb9-8825-d24a14713c6b"
      },
      "execution_count": null,
      "outputs": [
        {
          "output_type": "stream",
          "name": "stdout",
          "text": [
            "2\n",
            "4\n",
            "8\n",
            "1\n",
            "9\n",
            "3\n",
            "sum_score = 27\n",
            "min_score = 1\n",
            "max_score = 9\n"
          ]
        }
      ]
    },
    {
      "cell_type": "code",
      "source": [
        "#2.3\n",
        "std_info = ['Name', 'GPA']\n",
        "std_data = [['Olarik', '3.5'], ['Kaveepoj', '3.9'], ['Suwichai', 3.2]]\n",
        "print('=====================')\n",
        "print('index', end='\\t')\n",
        "for i in range(len(std_info)):\n",
        "  print(std_info[i], end='\\t')\n",
        "print('\\n=====================')\n",
        "total = 0\n",
        "for i in range(len(std_data)):\n",
        "  print(i+1, end='\\t\\t')\n",
        "  for j in range(len(std_data[i])):\n",
        "    print(std_data[i][j], end='\\t')\n",
        "  print()\n",
        "  total = total + float(std_data[i][1])\n",
        "\n",
        "print('=====================')\n",
        "print(f'average\\t\\t\\t{total/len(std_data):.2f}')\n",
        "print('=====================')"
      ],
      "metadata": {
        "colab": {
          "base_uri": "https://localhost:8080/"
        },
        "id": "4gkRUjl5-maV",
        "outputId": "73af7609-6530-45df-b632-32024f7531c0"
      },
      "execution_count": null,
      "outputs": [
        {
          "output_type": "stream",
          "name": "stdout",
          "text": [
            "=====================\n",
            "index\tName\tGPA\t\n",
            "=====================\n",
            "1\t\tOlarik\t3.5\t\n",
            "2\t\tKaveepoj\t3.9\t\n",
            "3\t\tSuwichai\t3.2\t\n",
            "=====================\n",
            "average\t\t\t3.53\n",
            "=====================\n"
          ]
        }
      ]
    },
    {
      "cell_type": "markdown",
      "source": [
        "## (การบ้าน)"
      ],
      "metadata": {
        "id": "QX4PUlFALS7K"
      }
    },
    {
      "cell_type": "code",
      "source": [
        "#เขียนโค้ดจากโจทย์และ flowchart ในนี้\n",
        "#https://drive.google.com/file/d/1-N1fK4aDnmuMGFBzi6cwPAhZzc9MCLuh/view?usp=sharing\n",
        "#ข้อ 11, 14, 15, 21"
      ],
      "metadata": {
        "id": "vltMHN-J-mOV"
      },
      "execution_count": null,
      "outputs": []
    },
    {
      "cell_type": "code",
      "source": [
        "#จงเขียนโค้ดโดยใช้ for เพื่อแสดงผลดังข้างล่าง"
      ],
      "metadata": {
        "colab": {
          "base_uri": "https://localhost:8080/"
        },
        "id": "vFjntpWWokPN",
        "outputId": "e687470d-01f2-44ac-c6f9-b66a53dc8296"
      },
      "execution_count": null,
      "outputs": [
        {
          "output_type": "stream",
          "name": "stdout",
          "text": [
            "x-----x\n",
            "-x---x-\n",
            "--x-x--\n",
            "---x---\n",
            "--x-x--\n",
            "-x---x-\n",
            "x-----x\n"
          ]
        }
      ]
    },
    {
      "cell_type": "markdown",
      "source": [
        "# Week11: 14 September 2022 (For Statement: Part2)"
      ],
      "metadata": {
        "id": "xkj1SPyNlnLd"
      }
    },
    {
      "cell_type": "markdown",
      "source": [
        "## (เฉลยการบ้าน)"
      ],
      "metadata": {
        "id": "Vl4suX_-l72Q"
      }
    },
    {
      "cell_type": "code",
      "source": [
        "#เขียนโปรแกรมรับอินพุต 1 ตัวที่เป็นจำนวนเต็ม แล้วตรวจสอบว่าจำนวนนั้นเป็นจำนวนเฉพาะหรือไม่\n",
        "#ถ้าเป็นให้พิมพ์ \"prime number\" ถ้าไม่เป็นพิมพ์ \"not prime\"\n",
        "number = int(input('Please insert number: '))\n",
        "count = 0\n",
        "for i in range(1, number + 1):\n",
        "  if number%i == 0:\n",
        "    count = count + 1\n",
        "if count == 2:\n",
        "  print('prime number')\n",
        "else:\n",
        "  print('not prime')"
      ],
      "metadata": {
        "colab": {
          "base_uri": "https://localhost:8080/"
        },
        "id": "cXZrNmiMlm8d",
        "outputId": "7da284fa-0b26-4655-9d5e-9af628d80f87"
      },
      "execution_count": null,
      "outputs": [
        {
          "output_type": "stream",
          "name": "stdout",
          "text": [
            "Please insert number: 6\n",
            "not prime\n"
          ]
        }
      ]
    },
    {
      "cell_type": "code",
      "source": [
        "#เขียนโปรแกรมรับอินพุต 2 ตัวที่เป็นสายอักขระ (str1, char1)\n",
        "#ให้ตรวจสอบว่าความยาวของ char1 เท่ากับ 1 หรือไม่\n",
        "#ถ้าความยาวเป็น 1 ให้ตรวจสอบว่า char1 ปรากฎที่ index ใดบ้างของ str1 แล้วพิมพ์ออกมา\n",
        "#ถ้าความยาวไม่เป็น 1 ไม่ดำเนินการใดๆ\n",
        "str1 = input('Please insert str1: ')\n",
        "char1 = input('Please insert char1: ')\n",
        "if len(char1) == 1:\n",
        "  n = len(str1)\n",
        "  for i in range(n):\n",
        "    if str1[i] == char1:\n",
        "      print(i)"
      ],
      "metadata": {
        "colab": {
          "base_uri": "https://localhost:8080/"
        },
        "id": "ODzzhZw4sNVB",
        "outputId": "44b84deb-2401-4719-9b9d-7ecb6cb2e820"
      },
      "execution_count": null,
      "outputs": [
        {
          "output_type": "stream",
          "name": "stdout",
          "text": [
            "Please insert str1: i love you\n",
            "Please insert char1: o\n",
            "3\n",
            "8\n"
          ]
        }
      ]
    },
    {
      "cell_type": "code",
      "source": [
        "#เฉลย flowchart คลิก https://drive.google.com/file/d/1-N1fK4aDnmuMGFBzi6cwPAhZzc9MCLuh/view?usp=sharing"
      ],
      "metadata": {
        "id": "eogw5pqe_wap"
      },
      "execution_count": null,
      "outputs": []
    },
    {
      "cell_type": "markdown",
      "source": [
        "## (in Lab)\n",
        "```\n",
        "for + string/list/tuple/dict/set\n",
        "nested for\n",
        "flowchart\n",
        "```\n"
      ],
      "metadata": {
        "id": "BRUg7HYEl_UN"
      }
    },
    {
      "cell_type": "code",
      "source": [
        "#ตัวอย่าง for + string\n",
        "for c in 'Python':\n",
        "  print(c)"
      ],
      "metadata": {
        "id": "XyxnbrsZlmsN",
        "colab": {
          "base_uri": "https://localhost:8080/"
        },
        "outputId": "3ccc75c8-bafd-4c5f-979b-23b86466c18e"
      },
      "execution_count": null,
      "outputs": [
        {
          "output_type": "stream",
          "name": "stdout",
          "text": [
            "P\n",
            "y\n",
            "t\n",
            "h\n",
            "o\n",
            "n\n"
          ]
        }
      ]
    },
    {
      "cell_type": "code",
      "source": [
        "st = \"programming\"\n",
        "for i in st:\n",
        "  print(i, end='  ')"
      ],
      "metadata": {
        "colab": {
          "base_uri": "https://localhost:8080/"
        },
        "id": "soidziLHrEQy",
        "outputId": "25d0435d-d001-4ed8-9d30-f5f0b27d4d3b"
      },
      "execution_count": null,
      "outputs": [
        {
          "output_type": "stream",
          "name": "stdout",
          "text": [
            "p  r  o  g  r  a  m  m  i  n  g  "
          ]
        }
      ]
    },
    {
      "cell_type": "code",
      "source": [
        "for i in range(len(st)):\n",
        "  print(st[i], end='  ')"
      ],
      "metadata": {
        "colab": {
          "base_uri": "https://localhost:8080/"
        },
        "id": "MfRq7Sx0rbAB",
        "outputId": "78cefa1c-1d02-4413-b54d-c1b0c17612ee"
      },
      "execution_count": null,
      "outputs": [
        {
          "output_type": "stream",
          "name": "stdout",
          "text": [
            "p  r  o  g  r  a  m  m  i  n  g  "
          ]
        }
      ]
    },
    {
      "cell_type": "code",
      "source": [
        "#enumerate\n",
        "s = 'Python'\n",
        "for i, c in enumerate(s):\n",
        "  print(i, c)"
      ],
      "metadata": {
        "colab": {
          "base_uri": "https://localhost:8080/"
        },
        "id": "IfHGEt4YsFIl",
        "outputId": "c3d09d2c-33f0-4605-e9d1-502d74ab7338"
      },
      "execution_count": null,
      "outputs": [
        {
          "output_type": "stream",
          "name": "stdout",
          "text": [
            "0 P\n",
            "1 y\n",
            "2 t\n",
            "3 h\n",
            "4 o\n",
            "5 n\n"
          ]
        }
      ]
    },
    {
      "cell_type": "code",
      "source": [
        "#ตัวอย่าง for + list\n",
        "listx = ['a', 'b', 'c']\n",
        "for i in range(len(listx)):\n",
        "  print(listx[i])"
      ],
      "metadata": {
        "id": "I41jYrzaqlNT",
        "colab": {
          "base_uri": "https://localhost:8080/"
        },
        "outputId": "e2990060-af44-4009-f55d-3426b1fb5920"
      },
      "execution_count": null,
      "outputs": [
        {
          "output_type": "stream",
          "name": "stdout",
          "text": [
            "a\n",
            "b\n",
            "c\n"
          ]
        }
      ]
    },
    {
      "cell_type": "code",
      "source": [
        "for i, x in enumerate(listx):\n",
        "  print(i, x)"
      ],
      "metadata": {
        "colab": {
          "base_uri": "https://localhost:8080/"
        },
        "id": "w7lQWEiPtYbv",
        "outputId": "679dae66-c4ce-43ec-c897-040a1b718fae"
      },
      "execution_count": null,
      "outputs": [
        {
          "output_type": "stream",
          "name": "stdout",
          "text": [
            "0 a\n",
            "1 b\n",
            "2 c\n"
          ]
        }
      ]
    },
    {
      "cell_type": "code",
      "source": [
        "#ตัวอย่าง for + tuple\n",
        "tuplex = (1, 2, 3, 4, 5)\n",
        "for i in tuplex:\n",
        "  print(i, end='* ')"
      ],
      "metadata": {
        "id": "KI2Pm146qyc5",
        "colab": {
          "base_uri": "https://localhost:8080/"
        },
        "outputId": "b1dea60c-854a-489d-dd21-52a3fd3644c3"
      },
      "execution_count": null,
      "outputs": [
        {
          "output_type": "stream",
          "name": "stdout",
          "text": [
            "1* 2* 3* 4* 5* "
          ]
        }
      ]
    },
    {
      "cell_type": "code",
      "source": [
        "for i, x in enumerate(tuplex):\n",
        "  print(i, x)"
      ],
      "metadata": {
        "colab": {
          "base_uri": "https://localhost:8080/"
        },
        "id": "9E7ewHCUuAcd",
        "outputId": "7408b690-7cff-4a83-d9d0-cc6537dc87e9"
      },
      "execution_count": null,
      "outputs": [
        {
          "output_type": "stream",
          "name": "stdout",
          "text": [
            "0 1\n",
            "1 2\n",
            "2 3\n",
            "3 4\n",
            "4 5\n"
          ]
        }
      ]
    },
    {
      "cell_type": "code",
      "source": [
        "#ตัวอย่าง for + dictionary\n",
        "dictx = {\n",
        "    \"firstname\": \"Nadh\",\n",
        "    \"lastname\": \"Ditcharoen\",\n",
        "    \"age\": 40\n",
        "}\n",
        "print(dictx['firstname'])\n",
        "print(dictx['age'])\n",
        "\n",
        "for v in dictx.values():\n",
        "  print(v)"
      ],
      "metadata": {
        "id": "gpvqkMFdq1ai",
        "colab": {
          "base_uri": "https://localhost:8080/"
        },
        "outputId": "7b7dc43a-1283-4d4f-811e-9ac50437787b"
      },
      "execution_count": null,
      "outputs": [
        {
          "output_type": "stream",
          "name": "stdout",
          "text": [
            "Nadh\n",
            "40\n",
            "Nadh\n",
            "Ditcharoen\n",
            "40\n"
          ]
        }
      ]
    },
    {
      "cell_type": "code",
      "source": [
        "for k in dictx.keys():\n",
        "  print(k)"
      ],
      "metadata": {
        "colab": {
          "base_uri": "https://localhost:8080/"
        },
        "id": "g2bNf9a-vSc8",
        "outputId": "01f933ef-8555-4fde-91b0-d2db1d1f95ff"
      },
      "execution_count": null,
      "outputs": [
        {
          "output_type": "stream",
          "name": "stdout",
          "text": [
            "firstname\n",
            "lastname\n",
            "age\n"
          ]
        }
      ]
    },
    {
      "cell_type": "code",
      "source": [
        "for i in dictx:\n",
        "  print(i)"
      ],
      "metadata": {
        "colab": {
          "base_uri": "https://localhost:8080/"
        },
        "id": "pQpES2WQviCj",
        "outputId": "35d99fde-1739-419a-b862-9f99843315ae"
      },
      "execution_count": null,
      "outputs": [
        {
          "output_type": "stream",
          "name": "stdout",
          "text": [
            "firstname\n",
            "lastname\n",
            "age\n"
          ]
        }
      ]
    },
    {
      "cell_type": "code",
      "source": [
        "#ตัวอย่าง for + set\n",
        "setx = {1, 2, 3, 'a', 'b', 'c'}\n",
        "for x in setx:\n",
        "  print(x, end=' / ')"
      ],
      "metadata": {
        "id": "P22ujsm5q-PO",
        "colab": {
          "base_uri": "https://localhost:8080/"
        },
        "outputId": "743df5ba-9fea-4cde-a880-5da2ebd858f0"
      },
      "execution_count": null,
      "outputs": [
        {
          "output_type": "stream",
          "name": "stdout",
          "text": [
            "1 / 2 / 3 / b / c / a / "
          ]
        }
      ]
    },
    {
      "cell_type": "code",
      "source": [
        "list1 = []\n",
        "for i in range(5):\n",
        "  element = int(input())\n",
        "  if element not in list1:\n",
        "    list1.append(element)\n",
        "\n",
        "print(list1)"
      ],
      "metadata": {
        "colab": {
          "base_uri": "https://localhost:8080/"
        },
        "id": "lIOj0z86w91n",
        "outputId": "c984f0de-0d7d-4974-ecc5-b2f3253d4acb"
      },
      "execution_count": null,
      "outputs": [
        {
          "output_type": "stream",
          "name": "stdout",
          "text": [
            "4\n",
            "1\n",
            "3\n",
            "4\n",
            "5\n",
            "[4, 1, 3, 5]\n"
          ]
        }
      ]
    },
    {
      "cell_type": "markdown",
      "source": [
        "### nested for\n",
        "__EX1102__ เขียนคำสังแสดงข้อความต่อไปนี้\n",
        "\n",
        "        *\n",
        "        **\n",
        "        ***\n",
        "        ****\n",
        "        *****\n",
        "        \n",
        "__EX1103__ เขียนคำสั่งแสดงข้อความต่อไปนี้\n",
        "\n",
        "        *****\n",
        "        ****\n",
        "        ***\n",
        "        **\n",
        "        *\n",
        "        "
      ],
      "metadata": {
        "id": "aCZS-FsirIL1"
      }
    },
    {
      "cell_type": "code",
      "source": [
        "#nested for\n",
        "for i in range(0, 5):\n",
        "  for j in range(0, 3):\n",
        "    print(i, j)"
      ],
      "metadata": {
        "id": "o6rQb-Gnq-KD",
        "colab": {
          "base_uri": "https://localhost:8080/"
        },
        "outputId": "4273e13f-4e5a-421a-f90d-6d42f4a1fed6"
      },
      "execution_count": null,
      "outputs": [
        {
          "output_type": "stream",
          "name": "stdout",
          "text": [
            "0 0\n",
            "0 1\n",
            "0 2\n",
            "1 0\n",
            "1 1\n",
            "1 2\n",
            "2 0\n",
            "2 1\n",
            "2 2\n",
            "3 0\n",
            "3 1\n",
            "3 2\n",
            "4 0\n",
            "4 1\n",
            "4 2\n"
          ]
        }
      ]
    },
    {
      "cell_type": "code",
      "source": [
        "#EX1102\n",
        "for x in range(1, 6):\n",
        "  for y in range(x):\n",
        "    print('*', end='')\n",
        "  print()"
      ],
      "metadata": {
        "id": "2_Hjws5PtN4v",
        "colab": {
          "base_uri": "https://localhost:8080/"
        },
        "outputId": "f5243735-15e5-4557-decf-7778a759be01"
      },
      "execution_count": null,
      "outputs": [
        {
          "output_type": "stream",
          "name": "stdout",
          "text": [
            "*\n",
            "**\n",
            "***\n",
            "****\n",
            "*****\n"
          ]
        }
      ]
    },
    {
      "cell_type": "code",
      "source": [
        "#EX1103\n",
        "for x in range(5, 0, -1):\n",
        "  for y in range(x):\n",
        "    print('*', end='')\n",
        "  print()"
      ],
      "metadata": {
        "id": "fwouCt2utO66",
        "colab": {
          "base_uri": "https://localhost:8080/"
        },
        "outputId": "d5f9d7fa-54a7-4d5b-ecee-7aa284b40bf9"
      },
      "execution_count": null,
      "outputs": [
        {
          "output_type": "stream",
          "name": "stdout",
          "text": [
            "*****\n",
            "****\n",
            "***\n",
            "**\n",
            "*\n"
          ]
        }
      ]
    },
    {
      "cell_type": "code",
      "source": [
        "for x in range(5, 0, -1):\n",
        "  for y in range(x):\n",
        "    print(y, end='')\n",
        "  print()"
      ],
      "metadata": {
        "id": "RyUlp764tRL7",
        "colab": {
          "base_uri": "https://localhost:8080/"
        },
        "outputId": "3a8b294f-f420-42a6-c93b-92228d4ee5dd"
      },
      "execution_count": null,
      "outputs": [
        {
          "output_type": "stream",
          "name": "stdout",
          "text": [
            "01234\n",
            "0123\n",
            "012\n",
            "01\n",
            "0\n"
          ]
        }
      ]
    },
    {
      "cell_type": "code",
      "source": [
        "for x in range(1,6):\n",
        "  for y in range(x):\n",
        "    print (\"*\",end=\"\")\n",
        "  print(x,end=\"\")\n",
        "  print()"
      ],
      "metadata": {
        "id": "XvwD9a1ntTN3",
        "colab": {
          "base_uri": "https://localhost:8080/"
        },
        "outputId": "b6cb0168-7d06-4c43-e4ed-4e435d705ba4"
      },
      "execution_count": null,
      "outputs": [
        {
          "output_type": "stream",
          "name": "stdout",
          "text": [
            "*1\n",
            "**2\n",
            "***3\n",
            "****4\n",
            "*****5\n"
          ]
        }
      ]
    },
    {
      "cell_type": "code",
      "source": [
        "n = 15\n",
        "for x in range(1,n):\n",
        "  for y in range(n - x):\n",
        "    print (\"*\",end=\"\")\n",
        "\n",
        "  for y in range(x * 2 - 1):\n",
        "    print(x,end=\"\")\n",
        "\n",
        "  print()"
      ],
      "metadata": {
        "id": "NiJyBiC3tW0e",
        "colab": {
          "base_uri": "https://localhost:8080/"
        },
        "outputId": "60737f71-6af2-4e1d-a6ad-0a1b2c16734f"
      },
      "execution_count": null,
      "outputs": [
        {
          "output_type": "stream",
          "name": "stdout",
          "text": [
            "**************1\n",
            "*************222\n",
            "************33333\n",
            "***********4444444\n",
            "**********555555555\n",
            "*********66666666666\n",
            "********7777777777777\n",
            "*******888888888888888\n",
            "******99999999999999999\n",
            "*****10101010101010101010101010101010101010\n",
            "****111111111111111111111111111111111111111111\n",
            "***1212121212121212121212121212121212121212121212\n",
            "**13131313131313131313131313131313131313131313131313\n",
            "*141414141414141414141414141414141414141414141414141414\n"
          ]
        }
      ]
    },
    {
      "cell_type": "markdown",
      "source": [
        "### `flowchart`"
      ],
      "metadata": {
        "id": "mlW0A7yzMnRa"
      }
    },
    {
      "cell_type": "code",
      "source": [
        "#เขียนโค้ดจาก flowchart https://drive.google.com/file/d/1-N1fK4aDnmuMGFBzi6cwPAhZzc9MCLuh/view?usp=sharing"
      ],
      "metadata": {
        "id": "XyIGIxCXTPKt"
      },
      "execution_count": null,
      "outputs": []
    },
    {
      "cell_type": "code",
      "source": [
        "for i in range(8):\n",
        "  for j in range(6, -3, -1):\n",
        "    print(i, j)"
      ],
      "metadata": {
        "colab": {
          "base_uri": "https://localhost:8080/"
        },
        "id": "71nhzjUS3Y42",
        "outputId": "cd385b66-7437-48cb-c9a8-b3bd385ea09a"
      },
      "execution_count": null,
      "outputs": [
        {
          "output_type": "stream",
          "name": "stdout",
          "text": [
            "0 6\n",
            "0 5\n",
            "0 4\n",
            "0 3\n",
            "0 2\n",
            "0 1\n",
            "0 0\n",
            "0 -1\n",
            "0 -2\n",
            "1 6\n",
            "1 5\n",
            "1 4\n",
            "1 3\n",
            "1 2\n",
            "1 1\n",
            "1 0\n",
            "1 -1\n",
            "1 -2\n",
            "2 6\n",
            "2 5\n",
            "2 4\n",
            "2 3\n",
            "2 2\n",
            "2 1\n",
            "2 0\n",
            "2 -1\n",
            "2 -2\n",
            "3 6\n",
            "3 5\n",
            "3 4\n",
            "3 3\n",
            "3 2\n",
            "3 1\n",
            "3 0\n",
            "3 -1\n",
            "3 -2\n",
            "4 6\n",
            "4 5\n",
            "4 4\n",
            "4 3\n",
            "4 2\n",
            "4 1\n",
            "4 0\n",
            "4 -1\n",
            "4 -2\n",
            "5 6\n",
            "5 5\n",
            "5 4\n",
            "5 3\n",
            "5 2\n",
            "5 1\n",
            "5 0\n",
            "5 -1\n",
            "5 -2\n",
            "6 6\n",
            "6 5\n",
            "6 4\n",
            "6 3\n",
            "6 2\n",
            "6 1\n",
            "6 0\n",
            "6 -1\n",
            "6 -2\n",
            "7 6\n",
            "7 5\n",
            "7 4\n",
            "7 3\n",
            "7 2\n",
            "7 1\n",
            "7 0\n",
            "7 -1\n",
            "7 -2\n"
          ]
        }
      ]
    },
    {
      "cell_type": "code",
      "source": [
        "for i in range(12, -1, -2):\n",
        "  for j in range(-5, 1, 1):\n",
        "    print(i, j)"
      ],
      "metadata": {
        "colab": {
          "base_uri": "https://localhost:8080/"
        },
        "id": "MS_IWfVb5Gwe",
        "outputId": "884dfde5-b106-4e2b-d0c8-6717946f0c81"
      },
      "execution_count": null,
      "outputs": [
        {
          "output_type": "stream",
          "name": "stdout",
          "text": [
            "12 -5\n",
            "12 -4\n",
            "12 -3\n",
            "12 -2\n",
            "12 -1\n",
            "12 0\n",
            "10 -5\n",
            "10 -4\n",
            "10 -3\n",
            "10 -2\n",
            "10 -1\n",
            "10 0\n",
            "8 -5\n",
            "8 -4\n",
            "8 -3\n",
            "8 -2\n",
            "8 -1\n",
            "8 0\n",
            "6 -5\n",
            "6 -4\n",
            "6 -3\n",
            "6 -2\n",
            "6 -1\n",
            "6 0\n",
            "4 -5\n",
            "4 -4\n",
            "4 -3\n",
            "4 -2\n",
            "4 -1\n",
            "4 0\n",
            "2 -5\n",
            "2 -4\n",
            "2 -3\n",
            "2 -2\n",
            "2 -1\n",
            "2 0\n",
            "0 -5\n",
            "0 -4\n",
            "0 -3\n",
            "0 -2\n",
            "0 -1\n",
            "0 0\n"
          ]
        }
      ]
    },
    {
      "cell_type": "markdown",
      "source": [
        "### โจทย์ฝึกทำเพิ่มเติม nested for"
      ],
      "metadata": {
        "id": "0hILP8Y2AgIF"
      }
    },
    {
      "cell_type": "code",
      "source": [],
      "metadata": {
        "colab": {
          "base_uri": "https://localhost:8080/"
        },
        "id": "C8qVbraRAeJK",
        "outputId": "41615aa7-981f-41eb-a9e4-716bb313ad43"
      },
      "execution_count": null,
      "outputs": [
        {
          "output_type": "stream",
          "name": "stdout",
          "text": [
            "     1\n",
            "    12\n",
            "   123\n",
            "  1234\n",
            " 12345\n"
          ]
        }
      ]
    },
    {
      "cell_type": "code",
      "source": [],
      "metadata": {
        "colab": {
          "base_uri": "https://localhost:8080/"
        },
        "id": "LnEEf5ycAoeX",
        "outputId": "86490d6d-5c82-4b0f-b028-20cbdd1eaef3"
      },
      "execution_count": null,
      "outputs": [
        {
          "output_type": "stream",
          "name": "stdout",
          "text": [
            "     1\n",
            "    121\n",
            "   12321\n",
            "  1234321\n",
            " 123454321\n"
          ]
        }
      ]
    },
    {
      "cell_type": "code",
      "source": [],
      "metadata": {
        "colab": {
          "base_uri": "https://localhost:8080/"
        },
        "id": "di7iB45uA7JB",
        "outputId": "dfddc677-67d8-4eee-ef48-3f3821c7bae9"
      },
      "execution_count": null,
      "outputs": [
        {
          "output_type": "stream",
          "name": "stdout",
          "text": [
            "     1\n",
            "    12\n",
            "   123\n",
            "  1234\n",
            " 12345\n",
            "  1234\n",
            "   123\n",
            "    12\n",
            "     1\n"
          ]
        }
      ]
    },
    {
      "cell_type": "code",
      "source": [],
      "metadata": {
        "colab": {
          "base_uri": "https://localhost:8080/"
        },
        "id": "dkrnmFpSBEe9",
        "outputId": "88bb8d7e-8842-488b-9478-f4585dae47af"
      },
      "execution_count": null,
      "outputs": [
        {
          "output_type": "stream",
          "name": "stdout",
          "text": [
            "     1\n",
            "    121\n",
            "   12321\n",
            "  1234321\n",
            " 123454321\n",
            "  1234321\n",
            "   12321\n",
            "    121\n",
            "     1\n"
          ]
        }
      ]
    },
    {
      "cell_type": "code",
      "source": [],
      "metadata": {
        "colab": {
          "base_uri": "https://localhost:8080/"
        },
        "id": "Ei2kfIZMAuyw",
        "outputId": "97084e16-2efc-4311-c6e9-dad5ed4a8a60"
      },
      "execution_count": null,
      "outputs": [
        {
          "output_type": "stream",
          "name": "stdout",
          "text": [
            "กรอกตัวเลข >> 9\n",
            "         1\n",
            "        121\n",
            "       12321\n",
            "      1234321\n",
            "     123454321\n",
            "    12345654321\n",
            "   1234567654321\n",
            "  123456787654321\n",
            " 12345678987654321\n"
          ]
        }
      ]
    },
    {
      "cell_type": "code",
      "source": [],
      "metadata": {
        "colab": {
          "base_uri": "https://localhost:8080/"
        },
        "id": "QQX14xDABIIz",
        "outputId": "51eeeb13-6d84-4d1c-a36d-a35fc8e49f82"
      },
      "execution_count": null,
      "outputs": [
        {
          "output_type": "stream",
          "name": "stdout",
          "text": [
            "กรอกตัวเลข 2-9: 8\n",
            "        1\n",
            "       121\n",
            "      12321\n",
            "     1234321\n",
            "    123454321\n",
            "   12345654321\n",
            "  1234567654321\n",
            " 123456787654321\n",
            "  1234567654321\n",
            "   12345654321\n",
            "    123454321\n",
            "     1234321\n",
            "      12321\n",
            "       121\n",
            "        1\n"
          ]
        }
      ]
    },
    {
      "cell_type": "markdown",
      "source": [
        "### โจทย์เกี่ยวกับ for"
      ],
      "metadata": {
        "id": "brai9wmnrUYj"
      }
    },
    {
      "cell_type": "code",
      "source": [
        "#EX1106 เขียนคำสั่งเพื่อไล่แสดงสมาชิก ของ tuple ('Andy','Betty','Cathy','Eddy','Franky')\n",
        "for a in ('Andy','Betty','Cathy','Eddy','Franky'):\n",
        "  print(a)"
      ],
      "metadata": {
        "id": "wXwRwmWJrUCz",
        "colab": {
          "base_uri": "https://localhost:8080/"
        },
        "outputId": "ad5a2839-63a2-46f6-ea02-4aa11f805dc9"
      },
      "execution_count": null,
      "outputs": [
        {
          "output_type": "stream",
          "name": "stdout",
          "text": [
            "Andy\n",
            "Betty\n",
            "Cathy\n",
            "Eddy\n",
            "Franky\n"
          ]
        }
      ]
    },
    {
      "cell_type": "code",
      "source": [
        "#EX1107 เขียนคำสั่งเพื่อไล่แสดงสมาชิก ของ list [2,4,6,8,10]\n"
      ],
      "metadata": {
        "id": "tSNHWBNHNATq"
      },
      "execution_count": null,
      "outputs": []
    },
    {
      "cell_type": "code",
      "source": [
        "#EX1108 เขียนคำสั่งเพื่อไล่แสดงสมาชิกของ list ที่ผู้ใช้กรอกใน 1 บรรทัด เช่น 1,3,4,5,6,7,9\n",
        "line = eval(input())\n",
        "for i in line:\n",
        "  print(i)"
      ],
      "metadata": {
        "id": "udO2LnpnNES8",
        "colab": {
          "base_uri": "https://localhost:8080/"
        },
        "outputId": "d73be6ab-ebfd-42a7-c246-c51c0d8b0a15"
      },
      "execution_count": null,
      "outputs": [
        {
          "output_type": "stream",
          "name": "stdout",
          "text": [
            "1,3,4,5,6,7,9\n",
            "1\n",
            "3\n",
            "4\n",
            "5\n",
            "6\n",
            "7\n",
            "9\n"
          ]
        }
      ]
    },
    {
      "cell_type": "code",
      "source": [
        "#EX1109 เขียนคำสั่งเพื่อไล่แสดงสมาชิกของ list ที่ผู้ใช้กรอกใน 2 บรรทัด\n",
        "#โดยแต่ละบรรทัดมีสมาชิกหลายตัวเลขคั่นด้วย ,\n",
        "a = []\n",
        "\n",
        "#รับบรรทัดที่ 1\n",
        "line = eval(input())\n",
        "for i in line:\n",
        "  a.append(i)\n",
        "\n",
        "#รับบรรทัดที่ 2\n",
        "line = eval(input())\n",
        "for i in line:\n",
        "  a.append(i)\n",
        "\n",
        "#แสดงผล\n",
        "print(a)"
      ],
      "metadata": {
        "id": "jxCeQ7hBNHaj",
        "colab": {
          "base_uri": "https://localhost:8080/"
        },
        "outputId": "cdb5e9a2-d262-4de9-dfa4-567d3ad2f0e7"
      },
      "execution_count": null,
      "outputs": [
        {
          "output_type": "stream",
          "name": "stdout",
          "text": [
            "1,2,3,4\n",
            "8,9,5\n",
            "[1, 2, 3, 4, 8, 9, 5]\n"
          ]
        }
      ]
    },
    {
      "cell_type": "code",
      "source": [
        "a = []\n",
        "for x in range(2):\n",
        "  line = eval(input())\n",
        "  for i in line:\n",
        "    a.append(i)\n",
        "\n",
        "#แสดงผล\n",
        "print(a)"
      ],
      "metadata": {
        "colab": {
          "base_uri": "https://localhost:8080/"
        },
        "id": "pUq5XONl73Jl",
        "outputId": "0429aafa-3d5a-4b02-c506-8a559c2cf565"
      },
      "execution_count": null,
      "outputs": [
        {
          "output_type": "stream",
          "name": "stdout",
          "text": [
            "1,5,6,8\n",
            "8,9,7\n",
            "[1, 5, 6, 8, 8, 9, 7]\n"
          ]
        }
      ]
    },
    {
      "cell_type": "code",
      "source": [
        "#EX1110 เขียนคำสั่งเพื่อไล่แสดงสมาชิกของ list ที่ผู้ใช้กรอกใน n บรรทัด\n",
        "#โดยแต่ละบรรทัดมีสมาชิกหลายตัวเลขคั่นด้วย ,"
      ],
      "metadata": {
        "id": "p1Tcj5GeNX_u"
      },
      "execution_count": null,
      "outputs": []
    },
    {
      "cell_type": "code",
      "source": [
        "#EX1111 เขียนคำสั่งเพื่อเก็บข้อมูลนักศึกษา 10 คน เป็น dictionary\n",
        "#โดยให้ผู้ใช้กรอก ชื่อ และ อายุ เป็นข้อมูลของนักศึกษาแต่ละคน\n",
        "\n",
        "d = {}\n",
        "for i in range(3):\n",
        "  name = input('ชื่อ-สกุล :')\n",
        "  age = int(input('อายุ :'))\n",
        "  d[name] = age\n",
        "\n",
        "print(d)"
      ],
      "metadata": {
        "id": "QuuyL_u_Nw10",
        "colab": {
          "base_uri": "https://localhost:8080/"
        },
        "outputId": "28963a05-ba23-4359-8e65-f6337ed0c7b7"
      },
      "execution_count": null,
      "outputs": [
        {
          "output_type": "stream",
          "name": "stdout",
          "text": [
            "ชื่อ-สกุล :aaa\n",
            "อายุ :20\n",
            "ชื่อ-สกุล :bbb\n",
            "อายุ :1\n",
            "ชื่อ-สกุล :cc\n",
            "อายุ :3\n",
            "{'aaa': 20, 'bbb': 1, 'cc': 3}\n"
          ]
        }
      ]
    },
    {
      "cell_type": "markdown",
      "source": [
        "## (การบ้าน)"
      ],
      "metadata": {
        "id": "A9BvMcdmmCRe"
      }
    },
    {
      "cell_type": "code",
      "source": [
        "#EX1112 เขียนคำสั่งเพื่อเก็บข้อมูลนักศึกษา n คน ตามที่ผู้ใช้ระบุ เป็น dictionary\n",
        "#โดยข้อมูลของนักศึกษาแต่ละคนมี อายุ, เกรดเฉลี่ย และ email โดยให้ใช้ email เป็น key\n",
        "\n",
        "#dict1 = {'email':[อายุ,เกรดเฉลี่ย], 'email2':[อายุ2,เกรดเฉลี่ย2]}\n",
        "#20,3.5,nadh@mail.com"
      ],
      "metadata": {
        "id": "Edq7gNf0mB2C"
      },
      "execution_count": null,
      "outputs": []
    },
    {
      "cell_type": "markdown",
      "source": [
        "# Week10: 8 September 2022 (For Statement)"
      ],
      "metadata": {
        "id": "TQpp9b_Cu1de"
      }
    },
    {
      "cell_type": "markdown",
      "source": [
        "## (เฉลยการบ้าน)"
      ],
      "metadata": {
        "id": "0IgOyHKuvQHM"
      }
    },
    {
      "cell_type": "code",
      "source": [
        "#อยู่ด้านล่างใน Week09"
      ],
      "metadata": {
        "id": "GLAXBY-Ju1GK"
      },
      "execution_count": null,
      "outputs": []
    },
    {
      "cell_type": "markdown",
      "source": [
        "## (in Lab)\n",
        "## คำสั่งทำซ้ำ `for`\n",
        "\n",
        "## จุดประสงค์รายสัปดาห์\n",
        "\n",
        "1. ระบุข้อแตกต่างระหว่างการทำซ้ำแบบ for และ while ได้\n",
        "2. ใช้คำสั่ง for เพื่อไล่แสดงสมาชิกของ tuple, list และ dict ได้\n",
        "3. เขียนโปรแกรมแก้ปัญหาโดยใช้การทำซ้ำและ nested loop ได้"
      ],
      "metadata": {
        "id": "4siq-erpvUA5"
      }
    },
    {
      "cell_type": "markdown",
      "source": [
        "ในการเขียนโปรแกรมโดยส่วนใหญ่จำเป็นต้องเขียนคำสั่งเพื่อทำงานเดิมซ้ำกันหลายๆครั้ง การใช้คำสั่งทำซ้ำวนไปหลายๆรอบนั้นเรียกว่า Loop\n",
        "\n",
        "การใช้คำสั่ง Loop มีสองแบบได้แก่\n",
        "\n",
        "1. แบบที่รู้จำนวนครั้งในการทำซ้ำแน่นอน เรียกว่า definite loop\n",
        "2. แบบที่ไม่รู้จำนวนครั้งในการทำซ้ำ เรียกว่า indefinite loop จำเป็นต้องตั้งเงื่อนไขในการทำงาน ถ้าเงื่อนไขในการทำงานเป็นเท็จก็จะหยุดทำงาน\n",
        "\n",
        "โดยปกติแล้วถ้าเป็นรู้จำนวนครั้งที่ต้องทำงานซ้ำแน่นอนจะใช้คำสั่ง `for` แต่ถ้าไม่รู้จำนวนครั้งที่แน่นอนต้องใช้เงื่อนไขตรวจสอบการทำงานจะใช้คำสั่ง `while`\n",
        "\n",
        "เนื้อหาสัปดาห์นี้จะเน้น การใช้งานคำสั่ง `for`"
      ],
      "metadata": {
        "id": "aNUPaaHYi0DV"
      }
    },
    {
      "cell_type": "code",
      "source": [
        "for i in range(3):\n",
        "  print('Aj Nadh')"
      ],
      "metadata": {
        "id": "v9JK1GcXu08x",
        "colab": {
          "base_uri": "https://localhost:8080/"
        },
        "outputId": "28944e12-a30b-4038-f27e-1b8305e410bb"
      },
      "execution_count": null,
      "outputs": [
        {
          "output_type": "stream",
          "name": "stdout",
          "text": [
            "Aj Nadh\n",
            "Aj Nadh\n",
            "Aj Nadh\n"
          ]
        }
      ]
    },
    {
      "cell_type": "code",
      "source": [
        "for i in (1,2,3,4):\n",
        "  print(i)"
      ],
      "metadata": {
        "colab": {
          "base_uri": "https://localhost:8080/"
        },
        "id": "f9w5kd-qwz1M",
        "outputId": "fa814c22-dc08-4370-ca4a-334abf96fba0"
      },
      "execution_count": null,
      "outputs": [
        {
          "output_type": "stream",
          "name": "stdout",
          "text": [
            "1\n",
            "2\n",
            "3\n",
            "4\n"
          ]
        }
      ]
    },
    {
      "cell_type": "code",
      "source": [
        "b = ['a', 'b', 1, 2, 3]\n",
        "for x in b:\n",
        "  print(x)"
      ],
      "metadata": {
        "colab": {
          "base_uri": "https://localhost:8080/"
        },
        "id": "WDydcna4w6pc",
        "outputId": "67659f8c-c4ec-4eef-94ca-ea30594f4917"
      },
      "execution_count": null,
      "outputs": [
        {
          "output_type": "stream",
          "name": "stdout",
          "text": [
            "a\n",
            "b\n",
            "1\n",
            "2\n",
            "3\n"
          ]
        }
      ]
    },
    {
      "cell_type": "code",
      "source": [
        "for a in range(0, 5):\n",
        "  print(a)"
      ],
      "metadata": {
        "colab": {
          "base_uri": "https://localhost:8080/"
        },
        "id": "b6mVCd7NxIOT",
        "outputId": "9531a59f-04a8-4037-f53a-1088b7d0dd6f"
      },
      "execution_count": null,
      "outputs": [
        {
          "output_type": "stream",
          "name": "stdout",
          "text": [
            "0\n",
            "1\n",
            "2\n",
            "3\n",
            "4\n"
          ]
        }
      ]
    },
    {
      "cell_type": "code",
      "source": [
        "for b in range(1, 10, 2):\n",
        "  print(b)"
      ],
      "metadata": {
        "colab": {
          "base_uri": "https://localhost:8080/"
        },
        "id": "s5DCY-C-xRle",
        "outputId": "1780ca3c-d5ec-456d-dde9-4f125897462c"
      },
      "execution_count": null,
      "outputs": [
        {
          "output_type": "stream",
          "name": "stdout",
          "text": [
            "1\n",
            "3\n",
            "5\n",
            "7\n",
            "9\n"
          ]
        }
      ]
    },
    {
      "cell_type": "code",
      "source": [
        "for c in range(50, 2, -5):\n",
        "  print(c, end='  ')"
      ],
      "metadata": {
        "colab": {
          "base_uri": "https://localhost:8080/"
        },
        "id": "LHWU9df1xjnE",
        "outputId": "5e3fde81-547a-498e-e0d9-40832a72dd25"
      },
      "execution_count": null,
      "outputs": [
        {
          "output_type": "stream",
          "name": "stdout",
          "text": [
            "50  45  40  35  30  25  20  15  10  5  "
          ]
        }
      ]
    },
    {
      "cell_type": "markdown",
      "source": [
        "### คำสั่งทำซ้ำ `n` ครั้ง\n",
        "\n",
        "```python\n",
        "for i in range(n):\n",
        "    print(i)\n",
        "```\n",
        "\n",
        "## <i class=\"fa fa-question-circle\" aria-hidden=\"true\"></i> Exercises\n",
        "\n",
        "__EX1101__ เขียนคำสั่งแสดงข้อความ `hello` ทั้งหมด `10` บรรทัด\n",
        "\n",
        "__EX1104__ เขียนคำสั่งเพื่อรับตัวเลข `10` ตัวจากผู้ใช้ มาเก็บไว้ใน list ชื่อ `a`\n",
        "\n",
        "__EX1105__ เขียนคำสั่งเพื่อรับตัวเลข `n` ตัวจากผู้ใช้ มาเก็บไว้ใน list ชื่อ `a` โดยให้ผู้ใช้ระบุ ค่า `n`"
      ],
      "metadata": {
        "id": "p-_Xbx6CjGg4"
      }
    },
    {
      "cell_type": "code",
      "source": [
        "#EX1104\n",
        "a = []\n",
        "for i in range(10):\n",
        "  num = int(input())\n",
        "  a.append(num)\n",
        "\n",
        "print(a)"
      ],
      "metadata": {
        "id": "q3R_8rw7i_m7",
        "colab": {
          "base_uri": "https://localhost:8080/"
        },
        "outputId": "e2f23738-d89c-4df9-8a84-e1d198cc4667"
      },
      "execution_count": null,
      "outputs": [
        {
          "output_type": "stream",
          "name": "stdout",
          "text": [
            "1\n",
            "5\n",
            "8\n",
            "7\n",
            "5\n",
            "4\n",
            "4\n",
            "1\n",
            "1\n",
            "0\n",
            "[1, 5, 8, 7, 5, 4, 4, 1, 1, 0]\n"
          ]
        }
      ]
    },
    {
      "cell_type": "code",
      "source": [
        "n = int(input())\n",
        "a = []\n",
        "for i in range(n):\n",
        "  x = input()\n",
        "  a.append(x)\n",
        "\n",
        "print(a)"
      ],
      "metadata": {
        "colab": {
          "base_uri": "https://localhost:8080/"
        },
        "id": "n2osEFlzz6wk",
        "outputId": "a1191946-5880-4e2f-bf2f-65e7c657cfb8"
      },
      "execution_count": null,
      "outputs": [
        {
          "output_type": "stream",
          "name": "stdout",
          "text": [
            "3\n",
            "a\n",
            "b\n",
            "5\n",
            "['a', 'b', '5']\n"
          ]
        }
      ]
    },
    {
      "cell_type": "markdown",
      "source": [
        "### ให้เขียน flowchart ของ `for`"
      ],
      "metadata": {
        "id": "5eZ7WKOTjhBp"
      }
    },
    {
      "cell_type": "code",
      "source": [
        "for i in range(10):\n",
        "  print(i)"
      ],
      "metadata": {
        "id": "MH7k4CaDjpJ4",
        "colab": {
          "base_uri": "https://localhost:8080/"
        },
        "outputId": "72dca9a2-0d52-4add-c64d-ff6c31b8f548"
      },
      "execution_count": null,
      "outputs": [
        {
          "output_type": "stream",
          "name": "stdout",
          "text": [
            "0\n",
            "1\n",
            "2\n",
            "3\n",
            "4\n",
            "5\n",
            "6\n",
            "7\n",
            "8\n",
            "9\n"
          ]
        }
      ]
    },
    {
      "cell_type": "code",
      "source": [
        "for i in range(0, 10):\n",
        "  print(i)"
      ],
      "metadata": {
        "id": "4w7jtifyjpGe",
        "colab": {
          "base_uri": "https://localhost:8080/"
        },
        "outputId": "49c3f060-8fb0-476c-f229-2630a9363fe1"
      },
      "execution_count": null,
      "outputs": [
        {
          "output_type": "stream",
          "name": "stdout",
          "text": [
            "0\n",
            "1\n",
            "2\n",
            "3\n",
            "4\n",
            "5\n",
            "6\n",
            "7\n",
            "8\n",
            "9\n"
          ]
        }
      ]
    },
    {
      "cell_type": "code",
      "source": [
        "for i in range(1, 10):\n",
        "  print(i)"
      ],
      "metadata": {
        "id": "gLrfrNEBjo6r",
        "colab": {
          "base_uri": "https://localhost:8080/"
        },
        "outputId": "3e753f99-189c-4493-e128-c5a09f0dabad"
      },
      "execution_count": null,
      "outputs": [
        {
          "output_type": "stream",
          "name": "stdout",
          "text": [
            "1\n",
            "2\n",
            "3\n",
            "4\n",
            "5\n",
            "6\n",
            "7\n",
            "8\n",
            "9\n"
          ]
        }
      ]
    },
    {
      "cell_type": "code",
      "source": [
        "for i in range(3, 11):\n",
        "  print(i)"
      ],
      "metadata": {
        "id": "6gJP-Ca0j6tf",
        "colab": {
          "base_uri": "https://localhost:8080/"
        },
        "outputId": "fbe297e5-97e1-4166-c046-6ffa9f60f2af"
      },
      "execution_count": null,
      "outputs": [
        {
          "output_type": "stream",
          "name": "stdout",
          "text": [
            "3\n",
            "4\n",
            "5\n",
            "6\n",
            "7\n",
            "8\n",
            "9\n",
            "10\n"
          ]
        }
      ]
    },
    {
      "cell_type": "code",
      "source": [
        "for i in range(-2, 8):\n",
        "  print(i)"
      ],
      "metadata": {
        "id": "-PJMKqt4j9W8"
      },
      "execution_count": null,
      "outputs": []
    },
    {
      "cell_type": "code",
      "source": [
        "for i in range(-7, 1):\n",
        "  print(i)"
      ],
      "metadata": {
        "id": "fVmoFSIYkBId"
      },
      "execution_count": null,
      "outputs": []
    },
    {
      "cell_type": "code",
      "source": [
        "for i in range(-11, -5):\n",
        "  print(i)"
      ],
      "metadata": {
        "id": "_066fCMykD1N"
      },
      "execution_count": null,
      "outputs": []
    },
    {
      "cell_type": "code",
      "source": [
        "for i in range(0, 11, 2):\n",
        "  print(i)"
      ],
      "metadata": {
        "id": "q6YZ7bdYkHAd"
      },
      "execution_count": null,
      "outputs": []
    },
    {
      "cell_type": "code",
      "source": [
        "for i in range(3, 14, 3):\n",
        "  print(i)"
      ],
      "metadata": {
        "id": "xdKU2OLRkKoN"
      },
      "execution_count": null,
      "outputs": []
    },
    {
      "cell_type": "code",
      "source": [
        "for i in range(-15, 4, 4):\n",
        "  print(i)"
      ],
      "metadata": {
        "id": "7qz96NqKkN-G"
      },
      "execution_count": null,
      "outputs": []
    },
    {
      "cell_type": "code",
      "source": [
        "for i in range(10, 2, -1):\n",
        "  print(i)"
      ],
      "metadata": {
        "id": "9ugQrL5xkR2C",
        "colab": {
          "base_uri": "https://localhost:8080/"
        },
        "outputId": "675b9f84-0215-42f7-f490-ff03c0adb6ac"
      },
      "execution_count": null,
      "outputs": [
        {
          "output_type": "stream",
          "name": "stdout",
          "text": [
            "10\n",
            "9\n",
            "8\n",
            "7\n",
            "6\n",
            "5\n",
            "4\n",
            "3\n"
          ]
        }
      ]
    },
    {
      "cell_type": "markdown",
      "source": [
        "### ให้เขียนโค้ดจาก flowchart โดยใช้ `for`\n",
        "\n",
        "\n"
      ],
      "metadata": {
        "id": "RHu9PlOEkcCM"
      }
    },
    {
      "cell_type": "code",
      "source": [
        "#https://app.diagrams.net/#G1h8oVjv93XCw7UoFpCyz5hWCfBBeISniR"
      ],
      "metadata": {
        "id": "MWtA93NantIJ"
      },
      "execution_count": null,
      "outputs": []
    },
    {
      "cell_type": "code",
      "source": [
        "for i in range(10, -1, -1):\n",
        "  print(i)"
      ],
      "metadata": {
        "colab": {
          "base_uri": "https://localhost:8080/"
        },
        "id": "rwQyZqEZ6hmi",
        "outputId": "f52eab76-f49c-4fb8-be6f-7d3facc9f800"
      },
      "execution_count": null,
      "outputs": [
        {
          "output_type": "stream",
          "name": "stdout",
          "text": [
            "10\n",
            "9\n",
            "8\n",
            "7\n",
            "6\n",
            "5\n",
            "4\n",
            "3\n",
            "2\n",
            "1\n",
            "0\n"
          ]
        }
      ]
    },
    {
      "cell_type": "code",
      "source": [
        "for i in range(15, -4, -5):\n",
        "  print(i)"
      ],
      "metadata": {
        "colab": {
          "base_uri": "https://localhost:8080/"
        },
        "id": "jJcPzkFa7rH7",
        "outputId": "d3ebb799-b8c5-443d-fbff-8867491b3320"
      },
      "execution_count": null,
      "outputs": [
        {
          "output_type": "stream",
          "name": "stdout",
          "text": [
            "15\n",
            "10\n",
            "5\n",
            "0\n"
          ]
        }
      ]
    },
    {
      "cell_type": "markdown",
      "source": [
        "### ฝึกเขียนโค้ดจากโจทย์"
      ],
      "metadata": {
        "id": "DWqA1VVwncPt"
      }
    },
    {
      "cell_type": "code",
      "source": [
        "#เขียนโปรแกรมพิมพ์ค่า 0, 1, 2, ..., 19 โดยใช้ for\n",
        "for i in range(20):\n",
        "  print(i, end=' ')"
      ],
      "metadata": {
        "id": "cxH3AOhknbI3",
        "colab": {
          "base_uri": "https://localhost:8080/"
        },
        "outputId": "ca9460d7-7d18-40a3-d59c-dc50f8342eaf"
      },
      "execution_count": null,
      "outputs": [
        {
          "output_type": "stream",
          "name": "stdout",
          "text": [
            "0 1 2 3 4 5 6 7 8 9 10 11 12 13 14 15 16 17 18 19 "
          ]
        }
      ]
    },
    {
      "cell_type": "code",
      "source": [
        "#เขียนโปรแกรมพิมพ์ค่า 19, 18, 17, ..., 0 โดยใช้ for\n",
        "for i in range(19, -1, -1):\n",
        "  print(i, end='  ')"
      ],
      "metadata": {
        "id": "bcql9mZMnjtl",
        "colab": {
          "base_uri": "https://localhost:8080/"
        },
        "outputId": "b29d6bf0-5148-4416-8f94-759b2820ccb3"
      },
      "execution_count": null,
      "outputs": [
        {
          "output_type": "stream",
          "name": "stdout",
          "text": [
            "19  18  17  16  15  14  13  12  11  10  9  8  7  6  5  4  3  2  1  0  "
          ]
        }
      ]
    },
    {
      "cell_type": "code",
      "source": [
        "#เขียนโปรแกรมพิมพ์ค่า -3, -2, -1, 0, ..., 9 โดยใช้ for\n",
        "for i in range(-3, 10):\n",
        "  print(i, end='  ')"
      ],
      "metadata": {
        "id": "fz4uJEpFnkYt",
        "colab": {
          "base_uri": "https://localhost:8080/"
        },
        "outputId": "005834ce-0ec7-495b-a903-9160d96901be"
      },
      "execution_count": null,
      "outputs": [
        {
          "output_type": "stream",
          "name": "stdout",
          "text": [
            "-3  -2  -1  0  1  2  3  4  5  6  7  8  9  "
          ]
        }
      ]
    },
    {
      "cell_type": "code",
      "source": [
        "#เขียนโปรแกรมหาค่าผลรวมเลขคี่ตั้งแต่ 100-500 โดยใช้ for\n",
        "sumi = 0\n",
        "for i in range(101, 501, 2):\n",
        "  print(i, end=' ')\n",
        "  sumi = sumi + i\n",
        "\n",
        "print()\n",
        "print(f'{sumi:,.2f}')"
      ],
      "metadata": {
        "id": "XgUIYjW2nmuL",
        "colab": {
          "base_uri": "https://localhost:8080/"
        },
        "outputId": "3f0f72db-b34d-4f11-fe76-4e5939eed70d"
      },
      "execution_count": null,
      "outputs": [
        {
          "output_type": "stream",
          "name": "stdout",
          "text": [
            "101 103 105 107 109 111 113 115 117 119 121 123 125 127 129 131 133 135 137 139 141 143 145 147 149 151 153 155 157 159 161 163 165 167 169 171 173 175 177 179 181 183 185 187 189 191 193 195 197 199 201 203 205 207 209 211 213 215 217 219 221 223 225 227 229 231 233 235 237 239 241 243 245 247 249 251 253 255 257 259 261 263 265 267 269 271 273 275 277 279 281 283 285 287 289 291 293 295 297 299 301 303 305 307 309 311 313 315 317 319 321 323 325 327 329 331 333 335 337 339 341 343 345 347 349 351 353 355 357 359 361 363 365 367 369 371 373 375 377 379 381 383 385 387 389 391 393 395 397 399 401 403 405 407 409 411 413 415 417 419 421 423 425 427 429 431 433 435 437 439 441 443 445 447 449 451 453 455 457 459 461 463 465 467 469 471 473 475 477 479 481 483 485 487 489 491 493 495 497 499 \n",
            "60,000.00\n"
          ]
        }
      ]
    },
    {
      "cell_type": "code",
      "source": [
        "for i in range(100, 501):\n",
        "  if i%2>0:\n",
        "    print(i, end=' ')"
      ],
      "metadata": {
        "colab": {
          "base_uri": "https://localhost:8080/"
        },
        "id": "NNnDDJqPCw4m",
        "outputId": "0d470f0b-6e0f-4b34-843f-5c60c3e13d63"
      },
      "execution_count": null,
      "outputs": [
        {
          "output_type": "stream",
          "name": "stdout",
          "text": [
            "101 103 105 107 109 111 113 115 117 119 121 123 125 127 129 131 133 135 137 139 141 143 145 147 149 151 153 155 157 159 161 163 165 167 169 171 173 175 177 179 181 183 185 187 189 191 193 195 197 199 201 203 205 207 209 211 213 215 217 219 221 223 225 227 229 231 233 235 237 239 241 243 245 247 249 251 253 255 257 259 261 263 265 267 269 271 273 275 277 279 281 283 285 287 289 291 293 295 297 299 301 303 305 307 309 311 313 315 317 319 321 323 325 327 329 331 333 335 337 339 341 343 345 347 349 351 353 355 357 359 361 363 365 367 369 371 373 375 377 379 381 383 385 387 389 391 393 395 397 399 401 403 405 407 409 411 413 415 417 419 421 423 425 427 429 431 433 435 437 439 441 443 445 447 449 451 453 455 457 459 461 463 465 467 469 471 473 475 477 479 481 483 485 487 489 491 493 495 497 499 "
          ]
        }
      ]
    },
    {
      "cell_type": "code",
      "source": [
        "#เขียนโปรแกรมรับค่า n แล้วคำนวณหาค่า 1+2+3+...+n โดยใช้ for\n",
        "n = int(input())\n",
        "sum = 0\n",
        "for i in range(1, n+1):\n",
        "  print(i, end='  ')\n",
        "  sum += i\n",
        "\n",
        "print()\n",
        "print(sum)"
      ],
      "metadata": {
        "id": "7CJZs-ackbeX",
        "colab": {
          "base_uri": "https://localhost:8080/"
        },
        "outputId": "8804a99f-88ad-46c7-8263-26a5b7daa542"
      },
      "execution_count": null,
      "outputs": [
        {
          "output_type": "stream",
          "name": "stdout",
          "text": [
            "9\n",
            "1  2  3  4  5  6  7  8  9  \n",
            "45\n"
          ]
        }
      ]
    },
    {
      "cell_type": "code",
      "source": [
        "#เขียนโปรแกรมพิมพ์จำนวนที่หารด้วย 3 หรือ 5 ลงตัวเพียงตัวใดตัวหนึ่งซึ่งอยู่ระหว่าง 0-100 โดยใช้ for\n",
        "for i in range(0, 101):\n",
        "  #print(i, end=' ')\n",
        "  if (i%3==0) or (i%5==0)   :\n",
        "    print(i, end=' ')\n"
      ],
      "metadata": {
        "id": "MWDXlRBQn7LK",
        "colab": {
          "base_uri": "https://localhost:8080/"
        },
        "outputId": "d4cdad37-317e-4cf4-e46b-3b1dffab428e"
      },
      "execution_count": null,
      "outputs": [
        {
          "output_type": "stream",
          "name": "stdout",
          "text": [
            "0 3 5 6 9 10 12 15 18 20 21 24 25 27 30 33 35 36 39 40 42 45 48 50 51 54 55 57 60 63 65 66 69 70 72 75 78 80 81 84 85 87 90 93 95 96 99 100 "
          ]
        }
      ]
    },
    {
      "cell_type": "code",
      "source": [
        "#เขียนโปรแกรมรับอินพุต 5 ตัวที่เป็นสายอักขระโดยใช้ for\n",
        "#จากนั้นนับความยาวรวมของสายอักขระที่รับเข้ามาและพิมพ์ออกมา\n",
        "sum = 0\n",
        "for i in range(5):\n",
        "  n = len(input())\n",
        "  sum = sum + n\n",
        "\n",
        "print(sum)"
      ],
      "metadata": {
        "id": "ZXN8OqugoEDy",
        "colab": {
          "base_uri": "https://localhost:8080/"
        },
        "outputId": "16059eaf-03c7-4e75-c06d-57bb89051bf6"
      },
      "execution_count": null,
      "outputs": [
        {
          "output_type": "stream",
          "name": "stdout",
          "text": [
            "i lov\n",
            "i lo\n",
            "lo\n",
            "nk\n",
            "pp\n",
            "15\n"
          ]
        }
      ]
    },
    {
      "cell_type": "code",
      "source": [],
      "metadata": {
        "id": "wuUjYr1joG7U"
      },
      "execution_count": null,
      "outputs": []
    },
    {
      "cell_type": "markdown",
      "source": [
        "## (การบ้าน)\n",
        "\n",
        "\n",
        "*   เขียนโค้ดจากโจทย์ 2 ข้อ\n",
        "*   เขียน flowchart จากโจทย์ 2 ข้อ\n",
        "\n",
        "\n"
      ],
      "metadata": {
        "id": "WYdz3NfuvZCe"
      }
    },
    {
      "cell_type": "code",
      "source": [
        "#เขียนโปรแกรมรับอินพุต 1 ตัวที่เป็นจำนวนเต็ม แล้วตรวจสอบว่าจำนวนั้นเป็นจำนวนเฉพาะหรือไม่\n",
        "#ถ้าเป็นให้พิมพ์ \"prime number\" ถ้าไม่เป็นพิมพ์ \"not prime\""
      ],
      "metadata": {
        "id": "CF6Jpo62J47L"
      },
      "execution_count": null,
      "outputs": []
    },
    {
      "cell_type": "code",
      "source": [
        "#เขียนโปรแกรมรับอินพุต 2 ตัวที่เป็นสายอักขระ (str1, char1)\n",
        "#ให้ตรวจสอบว่าความยาวของ char1 เท่ากับ 1 หรือไม่\n",
        "#ถ้าความยาวเป็น 1 ให้ตรวจสอบว่า char1 ปรากฎที่ index ใดบ้างของ str1 แล้วพิมพ์ออกมา\n",
        "#ถ้าความยาวไม่เป็น 1 ไม่ดำเนินการใดๆ"
      ],
      "metadata": {
        "id": "hzK6tWlzvYpb"
      },
      "execution_count": null,
      "outputs": []
    },
    {
      "cell_type": "code",
      "source": [
        "#flowchart: โปรแกรมพิมพ์จำนวนที่หารด้วย 3 หรือ 5 ลงตัวเพียงตัวใดตัวหนึ่งซึ่งอยู่ระหว่าง 0-100 โดยใช้ for\n",
        "for i in range(0, 101):\n",
        "  if (i%3==0) or (i%5==0)   :\n",
        "    print(i, end=' ')"
      ],
      "metadata": {
        "colab": {
          "base_uri": "https://localhost:8080/"
        },
        "id": "anPzFZO5cWXd",
        "outputId": "f3623f6a-8c6f-4c00-a7dd-3eab2d8b9ca4"
      },
      "execution_count": null,
      "outputs": [
        {
          "output_type": "stream",
          "name": "stdout",
          "text": [
            "0 3 5 6 9 10 12 15 18 20 21 24 25 27 30 33 35 36 39 40 42 45 48 50 51 54 55 57 60 63 65 66 69 70 72 75 78 80 81 84 85 87 90 93 95 96 99 100 "
          ]
        }
      ]
    },
    {
      "cell_type": "code",
      "source": [
        "#flowchart: โปรแกรมรับค่า n แล้วคำนวณหาค่า 1+2+3+...+n โดยใช้ for\n",
        "n = int(input())\n",
        "sum = 0\n",
        "for i in range(1, n+1):\n",
        "  print(i, end='  ')\n",
        "  sum += i\n",
        "\n",
        "print()\n",
        "print(sum)"
      ],
      "metadata": {
        "colab": {
          "base_uri": "https://localhost:8080/"
        },
        "id": "PttkUaqxcfOy",
        "outputId": "de3217d3-9830-419f-a3b7-e8c4893df6e0"
      },
      "execution_count": null,
      "outputs": [
        {
          "output_type": "stream",
          "name": "stdout",
          "text": [
            "5\n",
            "1  2  3  4  5  \n",
            "15\n"
          ]
        }
      ]
    },
    {
      "cell_type": "markdown",
      "source": [
        "# Week10: 7 September 2022 (Midterm #2)"
      ],
      "metadata": {
        "id": "2c8DPNqku0ez"
      }
    },
    {
      "cell_type": "markdown",
      "source": [
        "# Week09: 1 September 2022 (Conditional Statement: if)"
      ],
      "metadata": {
        "id": "hUiscK-F0PXw"
      }
    },
    {
      "cell_type": "markdown",
      "source": [
        "## (เฉลยการบ้าน)"
      ],
      "metadata": {
        "id": "XE8MCMUJ02ge"
      }
    },
    {
      "cell_type": "code",
      "source": [
        "#EX0901\n",
        "#จงเขียนโปรแกรมเพื่อรับข้อมูลของนักศึกษาชั้นปีที่หนึ่งของหลักสูตรหนึ่งเพื่อเรียงลำดับตามเกรดเฉลี่ย\n",
        "#step 1 - เขียนรับค่าก่อน ซึ่งเก็บลง list1\n",
        "#step 2 - สร้างลิสต์มาอีกตัวเพื่อเก็บ list1 (ตั้งชื่อ list2)\n",
        "#step 3 - เรียงลำดับ list2 ด้วย itemgetter\n",
        "#step 4 - แสดงผลที่เรียงแล้ว"
      ],
      "metadata": {
        "id": "I_SNS8W00PE-"
      },
      "execution_count": null,
      "outputs": []
    },
    {
      "cell_type": "code",
      "source": [
        "#EX0902\n",
        "#โปรแกรมเมอร์คนหนึ่งต้องการเขียนโปรแกรมเพื่อนับคำในเอกสารภาษาอังกฤษแผ่นหนึ่ง\n",
        "#ซึ่งประกอบไปด้วย หลายประโยค แต่ละประโยคมีหลายคำ\n",
        "#เงื่อนไขการนำคำให้ถือว่าตัวพิมพ์ใหญ่หรือตัวพิมพ์เล็กเป็นคำเดียวกัน เช่น Once และ once ถือเป็นคำเดียว\n",
        "#step 1 - เขียนรับค่าเก็บลง list1\n",
        "#step 2 - วนค่าใน list1 เก็บลง set\n",
        "#step 3 - หาขนาดของ set"
      ],
      "metadata": {
        "id": "b0S2Q5d21G6w"
      },
      "execution_count": null,
      "outputs": []
    },
    {
      "cell_type": "code",
      "source": [
        "#EX0903\n",
        "#โปรแกรมเมอร์คนหนึ่งต้องการเขียนโปรแกรมเพื่อนับความถี่ของคำในเอกสารภาษาอังกฤษแผ่นหนึ่ง\n",
        "#ซึ่งประกอบไปด้วย หลายประโยค แต่ละประโยคมีหลายคำ\n",
        "#เงื่อนไขการนำคำให้ถือว่าตัวพิมพ์ใหญ่หรือตัวพิมพ์เล็กเป็นคำเดียวกัน เช่น Once และ once ถือเป็นคำเดียว\n",
        "#step 1 - รับค่าแล้ว split ด้วยช่องว่าง (จะได้ตัวแปรที่เป็น list)\n",
        "#step 2 - วนลูปใน list เก็บลง dict โดยให้ key เป็นคำและ value เป็นจำนวนคำนั้น\n",
        "#step 3 - แสดงผล dict"
      ],
      "metadata": {
        "id": "ytFoDOI01MFn"
      },
      "execution_count": null,
      "outputs": []
    },
    {
      "cell_type": "markdown",
      "source": [
        "## (in Lab)"
      ],
      "metadata": {
        "id": "To9m0rt105NO"
      }
    },
    {
      "cell_type": "markdown",
      "source": [
        "### if..else.. (flowchart-code) vs (code-flowchart)"
      ],
      "metadata": {
        "id": "kN-p_xc51bBx"
      }
    },
    {
      "cell_type": "code",
      "source": [
        "name = input()\n",
        "if name=='John':\n",
        "  print('hi John')\n",
        "\n",
        "print('Nice to meet you')"
      ],
      "metadata": {
        "id": "rHc3o4H_0O6i",
        "colab": {
          "base_uri": "https://localhost:8080/"
        },
        "outputId": "bb10fa45-3183-4749-8ea5-0570802fffcb"
      },
      "execution_count": null,
      "outputs": [
        {
          "output_type": "stream",
          "name": "stdout",
          "text": [
            "Jame\n",
            "Nice to meet you\n"
          ]
        }
      ]
    },
    {
      "cell_type": "code",
      "source": [
        "score = int(input())\n",
        "if score>=50:\n",
        "  print('Pass')\n",
        "else:\n",
        "  print('Fail')"
      ],
      "metadata": {
        "colab": {
          "base_uri": "https://localhost:8080/"
        },
        "id": "I7t5Y4xcvze5",
        "outputId": "2458f0e8-d452-48a7-85f2-22ba94bebc65"
      },
      "execution_count": null,
      "outputs": [
        {
          "output_type": "stream",
          "name": "stdout",
          "text": [
            "43\n",
            "Fail\n"
          ]
        }
      ]
    },
    {
      "cell_type": "code",
      "source": [
        "name = input()\n",
        "if name=='Alan Turing':\n",
        "  print('Oh God')\n",
        "elif name=='Isac Newton':\n",
        "  print('OMG!')\n",
        "\n",
        "print('Glad to see you')"
      ],
      "metadata": {
        "colab": {
          "base_uri": "https://localhost:8080/"
        },
        "id": "q0hdQXFFwzyI",
        "outputId": "dde58684-327e-4af2-ea94-9c00e30df335"
      },
      "execution_count": null,
      "outputs": [
        {
          "output_type": "stream",
          "name": "stdout",
          "text": [
            "Nadh Ditcharoen\n",
            "Glad to see you\n"
          ]
        }
      ]
    },
    {
      "cell_type": "code",
      "source": [
        "name = input()\n",
        "\n",
        "if name=='Gift':\n",
        "  print('I miss you')\n",
        "elif name=='Cherry':\n",
        "  print('I love you')\n",
        "elif name=='Wine':\n",
        "  print('I need you')\n",
        "else:\n",
        "  print('Leave me alone')"
      ],
      "metadata": {
        "colab": {
          "base_uri": "https://localhost:8080/"
        },
        "id": "oFAAdntXyvwA",
        "outputId": "aab5e93d-299e-48a2-96f3-607007a71c4e"
      },
      "execution_count": null,
      "outputs": [
        {
          "output_type": "stream",
          "name": "stdout",
          "text": [
            "Nadh\n",
            "Leave me alone\n"
          ]
        }
      ]
    },
    {
      "cell_type": "code",
      "source": [
        "#ข้อ 16\n",
        "if condition1:\n",
        "  operation1\n",
        "  if condition2:\n",
        "    operation2\n",
        "  elif condition3:\n",
        "    operation3\n",
        "  else:\n",
        "    operation4\n",
        "else:\n",
        "  if condition4:\n",
        "    operation5\n",
        "  elif condition5:\n",
        "    operation6\n",
        "  operation7\n",
        "operation8"
      ],
      "metadata": {
        "id": "BjAUmKbC8QpN"
      },
      "execution_count": null,
      "outputs": []
    },
    {
      "cell_type": "code",
      "source": [
        "#ข้อ 18\n",
        "if condition1:\n",
        "  operation1\n",
        "  if condition2:\n",
        "    operation2\n",
        "  else:\n",
        "    operation3\n",
        "\n",
        "operation4\n",
        "operation5"
      ],
      "metadata": {
        "id": "p4kHK1_88Xf9"
      },
      "execution_count": null,
      "outputs": []
    },
    {
      "cell_type": "markdown",
      "source": [
        "### if..else.. (problem)"
      ],
      "metadata": {
        "id": "FrN0qct319GZ"
      }
    },
    {
      "cell_type": "code",
      "source": [
        "#EX1001 - Grraderr"
      ],
      "metadata": {
        "id": "6Jbpg_Xd13HU"
      },
      "execution_count": null,
      "outputs": []
    },
    {
      "cell_type": "code",
      "source": [
        "#EX1002 - GPAS\n",
        "grade = input().split(',')\n",
        "print(grade)"
      ],
      "metadata": {
        "id": "lE06z45I128g",
        "colab": {
          "base_uri": "https://localhost:8080/"
        },
        "outputId": "b1ec766e-5823-4d5e-a02a-9f013eaaa934"
      },
      "execution_count": null,
      "outputs": [
        {
          "output_type": "stream",
          "name": "stdout",
          "text": [
            "a, b, c, d\n",
            "['a', ' b', ' c', ' d']\n"
          ]
        }
      ]
    },
    {
      "cell_type": "code",
      "source": [
        "num = input().split(',')\n",
        "print(num)\n",
        "inum = []\n",
        "for i in num:\n",
        "  inum.append(float(i))\n",
        "\n",
        "print(inum)"
      ],
      "metadata": {
        "colab": {
          "base_uri": "https://localhost:8080/"
        },
        "id": "cQkH4MWABD1l",
        "outputId": "e47b4af7-ddd0-42bf-b012-0c49b874e586"
      },
      "execution_count": null,
      "outputs": [
        {
          "output_type": "stream",
          "name": "stdout",
          "text": [
            "1,2,3.5,6\n",
            "['1', '2', '3.5', '6']\n",
            "[1.0, 2.0, 3.5, 6.0]\n"
          ]
        }
      ]
    },
    {
      "cell_type": "code",
      "source": [
        "#เขียนโปรแกรมรับอินพุต 1 ตัวที่เป็นปี ค.ศ. และตรวจสอบว่า จำนวนที่รับมามีค่ามากกว่าหรือเท่ากับ 0 หรือไม่\n",
        "#   -ถ้ามีค่ามากกว่าหรือเท่ากับ 0 ให้คำนวณปี พ.ศ. แล้วพิมพ์ค่าออกมา\n",
        "#   -ถ้ามีค่าน้อยกว่า 0 ให้พิมพ์ \"กรุณากรอกข้อมูลที่มากกว่าหรือเท่ากับ 0\"\n",
        "\n",
        "x = int(input())\n",
        "if x>=0:\n",
        "  print(x+543)\n",
        "else:\n",
        "  print('กรุณากรอกข้อมูลที่มากกว่าหรือเท่ากับ 0')"
      ],
      "metadata": {
        "id": "bk1R7rpg2Z9L",
        "colab": {
          "base_uri": "https://localhost:8080/"
        },
        "outputId": "7a3581e5-16f5-4011-bf33-5b55b34750d3"
      },
      "execution_count": null,
      "outputs": [
        {
          "output_type": "stream",
          "name": "stdout",
          "text": [
            "2022\n",
            "2565\n"
          ]
        }
      ]
    },
    {
      "cell_type": "code",
      "source": [
        "#เขียนโปรแกรมรับอินพุต 2 ตัวที่เป็นจำนวนจริง และตรวจสอบว่า จำนวนที่รับมาตัวใดมีค่ามากกว่า\n",
        "#และพิมพ์จำนวนนั้นออกมา แต่ถ้าจำนวนทั้งสองมีค่าเท่ากัน ให้พิมพ์ \"มีค่าเท่ากัน\"\n",
        "num1 = float(input())\n",
        "num2 = float(input())\n",
        "if num1>num2:\n",
        "  print(num1)\n",
        "elif num2>num1:\n",
        "  print(num2)\n",
        "else:\n",
        "  print('มีค่าเท่ากัน')"
      ],
      "metadata": {
        "id": "H8Z0APsc2d6U",
        "colab": {
          "base_uri": "https://localhost:8080/"
        },
        "outputId": "6c6703f9-b344-42a0-9366-b5656d2faddc"
      },
      "execution_count": null,
      "outputs": [
        {
          "output_type": "stream",
          "name": "stdout",
          "text": [
            "9\n",
            "9\n",
            "มีค่าเท่ากัน\n"
          ]
        }
      ]
    },
    {
      "cell_type": "code",
      "source": [
        "num1, num2 = eval(input())\n",
        "if num1>num2:\n",
        "  print(num1)\n",
        "elif num2>num1:\n",
        "  print(num2)\n",
        "else:\n",
        "  print('มีค่าเท่ากัน')"
      ],
      "metadata": {
        "colab": {
          "base_uri": "https://localhost:8080/"
        },
        "id": "4r57NdIaEXr8",
        "outputId": "71183a46-e87f-4c2f-b5aa-ff7c8412bb63"
      },
      "execution_count": null,
      "outputs": [
        {
          "output_type": "stream",
          "name": "stdout",
          "text": [
            "5,9.5\n",
            "9.5\n"
          ]
        }
      ]
    },
    {
      "cell_type": "code",
      "source": [
        "#เขียนโปรแกรมสุ่มตัวเลขมาสร้างโจทย์บวกกัน\n",
        "import random\n",
        "num1 = random.randint(0, 10)\n",
        "num2 = random.randint(0, 10)\n",
        "\n",
        "question = str(num1) + ' + ' + str(num2) + ' = ?  '\n",
        "ans = int(input(question))\n",
        "if ans == (num1+num2):\n",
        "  print('ถูกต้อง')\n",
        "else:\n",
        "  print('เป็นคำตอบที่ผิด')"
      ],
      "metadata": {
        "id": "F0_qYGmZ32QR",
        "colab": {
          "base_uri": "https://localhost:8080/"
        },
        "outputId": "d4196df7-e35f-467b-f45f-e58d576d2fb8"
      },
      "execution_count": null,
      "outputs": [
        {
          "output_type": "stream",
          "name": "stdout",
          "text": [
            "5 + 8 = ?  18\n",
            "เป็นคำตอบที่ผิด\n"
          ]
        }
      ]
    },
    {
      "cell_type": "code",
      "source": [
        "#เขียนโปรแกรมสุ่มตัวเลขมาสร้างโจทย์ลบกัน โดยถ้าตัวแรกน้อยกว่าตัวที่สองให้สลับ\n",
        "import random\n",
        "num1 = random.randint(0, 10)\n",
        "num2 = random.randint(0, 10)\n",
        "\n",
        "if num1<num2:\n",
        "  #สลับ\n",
        "  temp = num1\n",
        "  num1 = num2\n",
        "  num2 = temp\n",
        "\n",
        "question = str(num1) + ' - ' + str(num2) + ' = ?  '\n",
        "ans = int(input(question))\n",
        "if ans == (num1-num2):\n",
        "  print('ถูกต้อง')\n",
        "else:\n",
        "  print('เป็นคำตอบที่ผิด')\n"
      ],
      "metadata": {
        "colab": {
          "base_uri": "https://localhost:8080/"
        },
        "id": "tXD5a7pIGUie",
        "outputId": "204e2bbd-e96a-47d5-d683-1caf68729f2b"
      },
      "execution_count": null,
      "outputs": [
        {
          "output_type": "stream",
          "name": "stdout",
          "text": [
            "4 - 2 = ?  2\n",
            "ถูกต้อง\n"
          ]
        }
      ]
    },
    {
      "cell_type": "code",
      "source": [
        "#เขียนโปรแกรมรับอินพุต 1 ตัวที่เป็นจำนวนเต็ม และตรวจสอบว่าจำนวนที่รับมาหารด้วย 3 และ 5 ลงตัวหรือไม่\n",
        "#   -ถ้าลงตัวให้พิมพ์ \"หารด้วย 3 และ 5 ลงตัว\"\n",
        "#   -ถ้าไม่ลงตัวให้พิมพ์ \"หารด้วย 3 และ 5 ไม่ลงตัว\"\n",
        "num = int(input())\n",
        "if (num%3==0) and (num%5==0):\n",
        "  print('หารด้วย 3 และ 5 ลงตัว')\n",
        "else:\n",
        "  print('หารด้วย 3 และ 5 ไม่ลงตัว')"
      ],
      "metadata": {
        "id": "RSanjvEZ4EgB",
        "colab": {
          "base_uri": "https://localhost:8080/"
        },
        "outputId": "d06156c5-cebb-4624-c091-1c2e1c1bdc25"
      },
      "execution_count": null,
      "outputs": [
        {
          "output_type": "stream",
          "name": "stdout",
          "text": [
            "11\n",
            "หารด้วย 3 และ 5 ไม่ลงตัว\n"
          ]
        }
      ]
    },
    {
      "cell_type": "code",
      "source": [
        "#เขียนโปรแกรมรับอินพุต 3 ตัวที่เป็นจำนวนจริง และตรวจสอบว่าผลบวกของจำนวนที่หนึ่งและจำนวนที่สอง\n",
        "#มากกว่าจำนวนที่สามหรือไม่\n",
        "#   -ถ้ามากกว่า ให้พิมพ์ \"a+b > c\"\n",
        "#   -ถ้าไม่มากกว่า ไม่ดำเนินการใดๆ\n",
        "a, b, c = eval(input())\n",
        "if a+b>c:\n",
        "  print('a+b > c')"
      ],
      "metadata": {
        "id": "vyEo2Gv74HrD",
        "colab": {
          "base_uri": "https://localhost:8080/"
        },
        "outputId": "b4a7e7f5-1352-47f0-d465-93b970c0eaba"
      },
      "execution_count": null,
      "outputs": [
        {
          "output_type": "stream",
          "name": "stdout",
          "text": [
            "4,5,6\n",
            "a+b > c\n"
          ]
        }
      ]
    },
    {
      "cell_type": "code",
      "source": [
        "#คุณเป็นโปรแกรมเมอร์ที่ห้างสรรพสินค้าแห่งหนึ่ง คุณได้รับมอบหมายให้เขียนโปรแกรมรายละเอียดดังนี้\n",
        "#   -รับอินพุต 2 ตัวที่เป็นจำนวนเต็ม (hour, minute) เพื่อคำนวณค่าจอดรถ\n",
        "#   -โดยชั่วโมงแรกจอดฟรี หลังจากนั้นเสียค่าจอดชั่วโมงละ 30 บาท\n",
        "#   -เศษของชั่วโมงนับเป็น 1 ชั่วโมง จากนั้นให้พิมพ์ค่าจอดรถออกมา\n",
        "#   -แต่ถ้าผู้ใช้ป้อนอินพุตตัวใดตัวหนึ่งหรือทั้งสองตัวเป็นจำนวนเต็มลบ ให้พิมพ์ \"ท่านกรอกข้อมูลติดลบ\" และไม่ต้องคำนวณค่าจอดรถ\n",
        "\n",
        "#hour, min = eval(input())\n",
        "hour = int(input('กรอกจำนวนชั่วโมง :'))\n",
        "minute = int(input('กรอกจำนวนนาที :'))\n",
        "\n",
        "if (hour<0) or (minute<0):\n",
        "  print('ท่านกรอกข้อมูลติดลบ')\n",
        "else:\n",
        "  total_min = hour*60+minute\n",
        "  total_min = total_min - 60\n",
        "  if total_min > 0:\n",
        "    h = total_min//60\n",
        "    m = total_min%60\n",
        "    if m>0:\n",
        "      h = h+1\n",
        "    print(f'ต้องจ่ายค่าจอดรถ {h*30} บาท')\n",
        "\n"
      ],
      "metadata": {
        "id": "LG1yWIPj4Kox",
        "colab": {
          "base_uri": "https://localhost:8080/"
        },
        "outputId": "7bf4949a-787d-442f-e96f-ddc92405a0c7"
      },
      "execution_count": null,
      "outputs": [
        {
          "output_type": "stream",
          "name": "stdout",
          "text": [
            "กรอกจำนวนชั่วโมง :1\n",
            "กรอกจำนวนนาที :2\n",
            "ต้องจ่ายค่าจอดรถ 30 บาท\n"
          ]
        }
      ]
    },
    {
      "cell_type": "markdown",
      "source": [
        "## (การบ้าน) - เฉลย"
      ],
      "metadata": {
        "id": "CVHUG_H309I5"
      }
    },
    {
      "cell_type": "code",
      "source": [
        "#เฉลยการบ้าน\n",
        "#คุณเป็นโปรแกรมเมอร์ที่ห้างสรรพสินค้าแห่งหนึ่ง คุณได้รับมอบหมายให้เขียนโปรแกรมคำนวณค่าจอดรถรายละเอียดดังนี้\n",
        "#รับอินพุต 3 ตัวที่เป็นจำนวนเต็ม (bill, hour, minute) คำนวณค่าจอดรถ ตามเงื่อนไขดังนี้\n",
        "#   -ถ้า bill >= 1,000 จะจอดรถฟรี 4 ชั่วโมง หลังจากนั้นเสียค่าจอดชั่วโมงละ 30 บาท\n",
        "#   -ถ้า bill < 1,000 จะจอดรถฟรี 1 ชั่วโมง หลังจากนั้นเสียค่าจอดชั่วโมงละ 30 บาท\n",
        "#   -เศษของชั่วโมงนับเป็น 1 ชั่วโมง จากนั้นให้พิมพ์ค่าจอดรถออกมา\n",
        "bill = int(input('Please insert bill: '))\n",
        "hour = int(input('Please insert hour: '))\n",
        "minute = int(input('Please insert minute: '))\n",
        "if minute > 0:\n",
        "  hour = hour + 1\n",
        "if bill >= 1000:\n",
        "  fee = (hour - 4)*30\n",
        "  if fee < 0:\n",
        "    fee = 0\n",
        "else:\n",
        "  fee = (hour - 1)*30\n",
        "print(fee)"
      ],
      "metadata": {
        "id": "T0JpgXefIbq5",
        "colab": {
          "base_uri": "https://localhost:8080/"
        },
        "outputId": "05acfe52-9c35-4fb9-df60-847d71c4bf79"
      },
      "execution_count": null,
      "outputs": [
        {
          "output_type": "stream",
          "name": "stdout",
          "text": [
            "Please insert bill: 1500\n",
            "Please insert hour: 5\n",
            "Please insert minute: 15\n",
            "60\n"
          ]
        }
      ]
    },
    {
      "cell_type": "code",
      "source": [
        "#เฉลยการบ้าน\n",
        "#คุณเป็นฟิตเนสเทรนเนอร์ในยิมแห่งหนึ่ง ในแต่ละวันมีคนมาขอปรึกษาเบื้องต้นเกี่ยวกับการดูแลรูปร่างกับคุณมากมาย\n",
        "#คุณหมดเวลาไปกับการให้คำปรึกษาและรู้สึกเหนื่อย โชคดีที่คุณมีความรู้ในการเขียนโปรแกรม คุณจึงวางแผนที่จะสร้าง\n",
        "#ระบบอัตโนมัติเพื่อให้คำปรึกษาเบื้องต้นกับลูกค้าที่มาใช้บริการยิม ซึ่งมีรายละเอียดดังนี้\n",
        "#    -รับอินพุต 3 ตัวที่เป็นสายอักขระ, จำนวนจริง, และจำนวนเต็ม (gender, weight, height) โดยมีเงื่อนไขดังนี้\n",
        "#    -ถ้าเป็นเพศชาย ให้พิจารณาว่าน้ำหนัก (กิโลกรัม) มากกว่าส่วนสูง (เซนติเมตร) - 100 หรือไม่\n",
        "#        -ถ้ามากกว่า ให้พิมพ์ \"ควรออกกำลังกาย\"\n",
        "#        -ถ้าไม่มากกว่า ให้พิมพ์ \"คุณผู้ชายหุ่นดีเยี่ยม\"\n",
        "#    -ถ้าเป็นเพศหญิง ให้พิจารณาว่าน้ำหนัก (กิโลกรัม) มากกว่าส่วนสูง (เซนติเมตร) - 110 หรือไม่\n",
        "#        -ถ้ามากกว่า ให้พิมพ์ \"ควรออกกำลังกาย\"\n",
        "#        -ถ้าไม่มากกว่า ให้พิมพ์ \"คุณผู้หญิงหุ่นดีเยี่ยม\"\n",
        "gender = input('Please insert gender: ')\n",
        "weight = float(input('Please insert weight(kg): '))\n",
        "height = int(input('Please insert height(cm): '))\n",
        "if gender == 'ชาย':\n",
        "  if height - 100 >= weight:\n",
        "    print('คุณผู้ชายหุ่นดีเยี่ยม')\n",
        "  else:\n",
        "    print('ควรออกกำลังกาย')\n",
        "elif gender == 'หญิง':\n",
        "  if height - 110 >= weight:\n",
        "    print('คุณผู้หญิงหุ่นดีเยี่ยม')\n",
        "  else:\n",
        "    print('ควรออกกำลังกาย')"
      ],
      "metadata": {
        "id": "si8-YCtkIbar"
      },
      "execution_count": null,
      "outputs": []
    },
    {
      "cell_type": "code",
      "source": [
        "#เฉลยการบ้าน\n",
        "#คุณเป็นโปรแกรมเมอร์ในร้ายขายของจิปาถะแห่งหนึ่ง ร้านแห่งนี้มีระบบสมาชิก\n",
        "#ซึ่งผู้เป็นสมาชิกจะได้รับส่วนลดพิเศษ คุณจึงเขียนโปรแกรมซึ่งมีรายละเอียดดังนี้\n",
        "#รับอินพุต 2 ตัวที่เป็นสายอักขระ และจำนวนจริง (isMember, bill) แล้วคำนวณส่วนลดจาก\n",
        "#การเป็นสมาชิกและพิมพ์ออกมา ตามเงื่อนไขต่อไปนี้\n",
        "#  -ถ้า isMember เท่ากับ \"yes\" ให้พิจารณา bill\n",
        "#    -ถ้า bill มากกว่าหรือเท่ากับ 500 จะได้รับส่วนลด 5%\n",
        "#    -ถ้า bill มากกว่าหรือเท่ากับ 1,000 จะได้รับส่วนลด 10%\n",
        "#    -ถ้า bill มากกว่าหรือเท่ากับ 5,000 จะได้รับส่วนลด 15%\n",
        "#  -ถ้า isMember เท่ากับ \"no\" จะไม่ได้รับส่วนลด\n",
        "\n",
        "isMember = input('Member (yes/no) ?: ')\n",
        "bill = float(input('Enter bill: '))\n",
        "if isMember == 'yes':\n",
        "  if bill >= 5000:\n",
        "    discount = bill*0.15\n",
        "  elif bill >= 1000:\n",
        "    discount = bill*0.10\n",
        "  elif bill >= 500:\n",
        "    discount = bill*0.05\n",
        "  else:\n",
        "    discount = 0\n",
        "else:\n",
        "  discount = 0\n",
        "\n",
        "print(discount)"
      ],
      "metadata": {
        "id": "lXflvoHp0OvT"
      },
      "execution_count": null,
      "outputs": []
    },
    {
      "cell_type": "markdown",
      "source": [
        "# Week09: 31 August 2022 (Data Types & Data Structure: Set, Dict)"
      ],
      "metadata": {
        "id": "1Kv3O3-moSGA"
      }
    },
    {
      "cell_type": "markdown",
      "source": [
        "## (เฉลยการบ้าน)"
      ],
      "metadata": {
        "id": "lJgvQ2c-owIV"
      }
    },
    {
      "cell_type": "code",
      "source": [
        "#ดูใน Week08: 24 August 2022"
      ],
      "metadata": {
        "id": "xm82XzIeoRou"
      },
      "execution_count": null,
      "outputs": []
    },
    {
      "cell_type": "markdown",
      "source": [
        "## (in lab)"
      ],
      "metadata": {
        "id": "4fNhAQxrorHb"
      }
    },
    {
      "cell_type": "markdown",
      "source": [
        "### ทบทวน list\n",
        "\n",
        "*  การสร้าง ใช้ [] หรือ list()\n",
        "*  การเพิ่ม ด้วย append\n",
        "*  การเพิ่ม ด้วย extend\n",
        "*  การเพิ่ม ด้วย insert\n",
        "*  การลบ ด้วย del หรือ remove\n",
        "*  การลบ ด้วย clear\n",
        "*  การเรียงลำดับ ด้วย sort()\n",
        "*  การเรียงลำดับ ด้วย import itemgetter\n",
        "*  การค้นหาในลำดับ ด้วย in"
      ],
      "metadata": {
        "id": "5fVXPye5qEL4"
      }
    },
    {
      "cell_type": "code",
      "source": [
        "a = []\n",
        "b = list()\n",
        "c = [1, 2, 'b']\n",
        "d = list(range(1, 10, 2))\n",
        "print(d)"
      ],
      "metadata": {
        "id": "aDbBLSJboRl7",
        "colab": {
          "base_uri": "https://localhost:8080/"
        },
        "outputId": "5708382f-8f41-4fb7-e199-4f598bb0b679"
      },
      "execution_count": null,
      "outputs": [
        {
          "output_type": "stream",
          "name": "stdout",
          "text": [
            "[1, 3, 5, 7, 9]\n"
          ]
        }
      ]
    },
    {
      "cell_type": "code",
      "source": [
        "d.append(10)\n",
        "print(d)"
      ],
      "metadata": {
        "colab": {
          "base_uri": "https://localhost:8080/"
        },
        "id": "4NFf8bZQj58R",
        "outputId": "aa954367-346d-4475-fe25-aa1d7023dea5"
      },
      "execution_count": null,
      "outputs": [
        {
          "output_type": "stream",
          "name": "stdout",
          "text": [
            "[1, 3, 5, 7, 9, 10]\n"
          ]
        }
      ]
    },
    {
      "cell_type": "code",
      "source": [
        "d.extend([9,9,9])\n",
        "print(d)"
      ],
      "metadata": {
        "colab": {
          "base_uri": "https://localhost:8080/"
        },
        "id": "QNZF-AddkCJA",
        "outputId": "464c476d-abd5-4cc5-b7df-745d8bae95bb"
      },
      "execution_count": null,
      "outputs": [
        {
          "output_type": "stream",
          "name": "stdout",
          "text": [
            "[1, 3, 5, 7, 9, 10, 9, 9, 9]\n"
          ]
        }
      ]
    },
    {
      "cell_type": "code",
      "source": [
        "d.insert(4, 11)\n",
        "print(d)"
      ],
      "metadata": {
        "colab": {
          "base_uri": "https://localhost:8080/"
        },
        "id": "Yr5Gee3DkN6Z",
        "outputId": "59683f68-8a2b-47bb-dca5-63d55bf812d3"
      },
      "execution_count": null,
      "outputs": [
        {
          "output_type": "stream",
          "name": "stdout",
          "text": [
            "[1, 3, 5, 7, 11, 9, 10, 9, 9, 9]\n"
          ]
        }
      ]
    },
    {
      "cell_type": "code",
      "source": [
        "del d[2]\n",
        "print(d)"
      ],
      "metadata": {
        "colab": {
          "base_uri": "https://localhost:8080/"
        },
        "id": "t_MswD2hke0S",
        "outputId": "b6dce587-6ddd-4de4-8236-3bc628b6f370"
      },
      "execution_count": null,
      "outputs": [
        {
          "output_type": "stream",
          "name": "stdout",
          "text": [
            "[1, 3, 7, 11, 9, 10, 9, 9, 9]\n"
          ]
        }
      ]
    },
    {
      "cell_type": "code",
      "source": [
        "d.remove(11)\n",
        "print(d)"
      ],
      "metadata": {
        "colab": {
          "base_uri": "https://localhost:8080/"
        },
        "id": "Vp25XIuNkqKh",
        "outputId": "65e2cc6b-5137-4c12-ea65-25e8cf163764"
      },
      "execution_count": null,
      "outputs": [
        {
          "output_type": "stream",
          "name": "stdout",
          "text": [
            "[1, 3, 7, 9, 10, 9, 9, 9]\n"
          ]
        }
      ]
    },
    {
      "cell_type": "code",
      "source": [
        "d.clear()\n",
        "print(d)"
      ],
      "metadata": {
        "colab": {
          "base_uri": "https://localhost:8080/"
        },
        "id": "7tKwABXQk5-B",
        "outputId": "c9c2de34-2012-43cf-d4af-5865f85ddffd"
      },
      "execution_count": null,
      "outputs": [
        {
          "output_type": "stream",
          "name": "stdout",
          "text": [
            "[]\n"
          ]
        }
      ]
    },
    {
      "cell_type": "code",
      "source": [
        "students = [\n",
        "    [ 'Andy', 3.34, 20],\n",
        "    [ 'Cathy', 2.23, 19],\n",
        "    [ 'Betty', 3.55, 21],\n",
        "    [ 'Dorothy', 3.10, 20]\n",
        "]\n",
        "\n",
        "for i in students:\n",
        "  for j in i:\n",
        "    print(j)"
      ],
      "metadata": {
        "colab": {
          "base_uri": "https://localhost:8080/"
        },
        "id": "oXRKZqx_lMAZ",
        "outputId": "061cf4e3-567c-46a1-8d6a-707b37bdef39"
      },
      "execution_count": null,
      "outputs": [
        {
          "output_type": "stream",
          "name": "stdout",
          "text": [
            "Andy\n",
            "3.34\n",
            "20\n",
            "Cathy\n",
            "2.23\n",
            "19\n",
            "Betty\n",
            "3.55\n",
            "21\n",
            "Dorothy\n",
            "3.1\n",
            "20\n"
          ]
        }
      ]
    },
    {
      "cell_type": "code",
      "source": [
        "from operator import itemgetter\n",
        "students.sort(key=itemgetter(1))\n",
        "#print(students)\n",
        "for i in students:\n",
        "  print(i)"
      ],
      "metadata": {
        "colab": {
          "base_uri": "https://localhost:8080/"
        },
        "id": "AKJBFnjrmQ5x",
        "outputId": "191efbe4-ca1b-4faa-fc21-c9e2a9d01114"
      },
      "execution_count": null,
      "outputs": [
        {
          "output_type": "stream",
          "name": "stdout",
          "text": [
            "['Cathy', 2.23, 19]\n",
            "['Dorothy', 3.1, 20]\n",
            "['Andy', 3.34, 20]\n",
            "['Betty', 3.55, 21]\n"
          ]
        }
      ]
    },
    {
      "cell_type": "markdown",
      "source": [
        "### ฝึกทำโจทย์ - list"
      ],
      "metadata": {
        "id": "6eO4PaddqRyx"
      }
    },
    {
      "cell_type": "code",
      "source": [
        "#EX0901\n",
        "#จงเขียนโปรแกรมเพื่อรับข้อมูลของนักศึกษาชั้นปีที่หนึ่งของหลักสูตรหนึ่งเพื่อเรียงลำดับตามเกรดเฉลี่ย\n",
        "#step 1 - เขียนรับค่าก่อน ซึ่งเก็บลง list1\n",
        "#step 2 - สร้างลิสต์มาอีกตัวเพื่อเก็บ list1 (ตั้งชื่อ list2)\n",
        "#step 3 - เรียงลำดับ list2 ด้วย itemgetter\n",
        "#step 4 - แสดงผลที่เรียงแล้ว"
      ],
      "metadata": {
        "id": "M8e2GSgJoRdI"
      },
      "execution_count": null,
      "outputs": []
    },
    {
      "cell_type": "markdown",
      "source": [
        "### Set (Non-sequence Collection)\n",
        "\n",
        "*   การสร้าง ด้วย {}  หรือ set()\n",
        "*   การเข้าถึงสมาชิก ด้วย for\n",
        "*   การเพิ่ม ด้วย add, union\n",
        "*   การลบ ด้วย remove, discard, difference"
      ],
      "metadata": {
        "id": "bjtesCb9qe_l"
      }
    },
    {
      "cell_type": "code",
      "source": [
        "a = {1, 2, 3, 4, 5, 5, 7}\n",
        "b = set()\n",
        "c = {}  #dict"
      ],
      "metadata": {
        "id": "jtZ58Wreqgpv"
      },
      "execution_count": null,
      "outputs": []
    },
    {
      "cell_type": "code",
      "source": [
        "for i in a:\n",
        "  print(i)\n",
        "\n",
        "\n",
        "print(len(a))"
      ],
      "metadata": {
        "colab": {
          "base_uri": "https://localhost:8080/"
        },
        "id": "AiZFSluMnmCg",
        "outputId": "ec1e94bb-bf8f-4aae-8ed4-10d65531d58e"
      },
      "execution_count": null,
      "outputs": [
        {
          "output_type": "stream",
          "name": "stdout",
          "text": [
            "1\n",
            "2\n",
            "3\n",
            "4\n",
            "5\n",
            "7\n",
            "6\n"
          ]
        }
      ]
    },
    {
      "cell_type": "code",
      "source": [
        "b.add('aa')\n",
        "print(b)\n",
        "b.add('cc')\n",
        "print(b)"
      ],
      "metadata": {
        "colab": {
          "base_uri": "https://localhost:8080/"
        },
        "id": "59iqzNA9ojXg",
        "outputId": "6a057c2c-4862-46c5-8366-8d7d45c860c5"
      },
      "execution_count": null,
      "outputs": [
        {
          "output_type": "stream",
          "name": "stdout",
          "text": [
            "{'aa'}\n",
            "{'cc', 'aa'}\n"
          ]
        }
      ]
    },
    {
      "cell_type": "code",
      "source": [
        "d = b.union({'dd', 'ee'})\n",
        "print(d)"
      ],
      "metadata": {
        "colab": {
          "base_uri": "https://localhost:8080/"
        },
        "id": "1eSGDZPeo0TI",
        "outputId": "fe4a208a-d852-4b98-dbfd-102fdce4c6d1"
      },
      "execution_count": null,
      "outputs": [
        {
          "output_type": "stream",
          "name": "stdout",
          "text": [
            "{'dd', 'cc', 'ee', 'aa'}\n"
          ]
        }
      ]
    },
    {
      "cell_type": "markdown",
      "source": [
        "### ฝึกทำโจทย์เกี่ยวกับ set"
      ],
      "metadata": {
        "id": "zFsCbCq2qiS9"
      }
    },
    {
      "cell_type": "code",
      "source": [
        "#EX0902\n",
        "#โปรแกรมเมอร์คนหนึ่งต้องการเขียนโปรแกรมเพื่อนับคำในเอกสารภาษาอังกฤษแผ่นหนึ่ง\n",
        "#ซึ่งประกอบไปด้วย หลายประโยค แต่ละประโยคมีหลายคำ\n",
        "#เงื่อนไขการนำคำให้ถือว่าตัวพิมพ์ใหญ่หรือตัวพิมพ์เล็กเป็นคำเดียวกัน เช่น Once และ once ถือเป็นคำเดียว\n",
        "#step 1 - เขียนรับค่าเก็บลง list1\n",
        "#step 2 - วนค่าใน list1 เก็บลง set\n",
        "#step 3 - หาขนาดของ set"
      ],
      "metadata": {
        "id": "23LCMwvoqljF"
      },
      "execution_count": null,
      "outputs": []
    },
    {
      "cell_type": "markdown",
      "source": [
        "### Dict (Non-sequence Collection)\n",
        "\n",
        "*   การสร้าง ด้วย {}  หรือ dict()\n",
        "*   การแสดงรายการ key, value\n",
        "*   การเข้าถึงสมาชิก ด้วย for\n",
        "*   การเพิ่มค่า\n",
        "*   การตรวจสอบ key, value"
      ],
      "metadata": {
        "id": "JgTJF3IKqv1-"
      }
    },
    {
      "cell_type": "code",
      "source": [
        "a = {}\n",
        "b = dict()\n",
        "ages = {\n",
        "    'a': 20,\n",
        "    'b': 15,\n",
        "    'c': 30\n",
        "}\n",
        "print(len(ages))"
      ],
      "metadata": {
        "id": "7QpHRmpeqvDL",
        "colab": {
          "base_uri": "https://localhost:8080/"
        },
        "outputId": "e4db0b22-598b-4e90-b165-2296d09696f7"
      },
      "execution_count": null,
      "outputs": [
        {
          "output_type": "stream",
          "name": "stdout",
          "text": [
            "3\n"
          ]
        }
      ]
    },
    {
      "cell_type": "code",
      "source": [
        "print(ages.keys())\n",
        "print(ages.values())"
      ],
      "metadata": {
        "colab": {
          "base_uri": "https://localhost:8080/"
        },
        "id": "267JrVsMqmyv",
        "outputId": "ae0bde8b-fcc2-4b98-c5d6-c1814b4a141f"
      },
      "execution_count": null,
      "outputs": [
        {
          "output_type": "stream",
          "name": "stdout",
          "text": [
            "dict_keys(['a', 'b', 'c'])\n",
            "dict_values([20, 15, 30])\n"
          ]
        }
      ]
    },
    {
      "cell_type": "code",
      "source": [
        "for i in ages:\n",
        "  print(i)"
      ],
      "metadata": {
        "colab": {
          "base_uri": "https://localhost:8080/"
        },
        "id": "5c5ibsnYq2d4",
        "outputId": "65640c65-fd4a-4894-e8d8-bc1a227faa30"
      },
      "execution_count": null,
      "outputs": [
        {
          "output_type": "stream",
          "name": "stdout",
          "text": [
            "a\n",
            "b\n",
            "c\n"
          ]
        }
      ]
    },
    {
      "cell_type": "code",
      "source": [
        "for i in ages.keys():\n",
        "  print(i)"
      ],
      "metadata": {
        "colab": {
          "base_uri": "https://localhost:8080/"
        },
        "id": "tsjae_Z-rA3A",
        "outputId": "d56d0fc7-889e-4cae-b4ad-b8b69169c55f"
      },
      "execution_count": null,
      "outputs": [
        {
          "output_type": "stream",
          "name": "stdout",
          "text": [
            "a\n",
            "b\n",
            "c\n"
          ]
        }
      ]
    },
    {
      "cell_type": "code",
      "source": [
        "print(ages['b'])"
      ],
      "metadata": {
        "colab": {
          "base_uri": "https://localhost:8080/"
        },
        "id": "kIMnpgqXrYEY",
        "outputId": "7c621d3d-954c-4907-f15f-f8a41a73814d"
      },
      "execution_count": null,
      "outputs": [
        {
          "output_type": "stream",
          "name": "stdout",
          "text": [
            "15\n"
          ]
        }
      ]
    },
    {
      "cell_type": "code",
      "source": [
        "ages['b'] = 40"
      ],
      "metadata": {
        "id": "Dmh6TxSUsVAx"
      },
      "execution_count": null,
      "outputs": []
    },
    {
      "cell_type": "code",
      "source": [
        "for i in ages:\n",
        "  print(f'คุณ {i} อายุ {ages[i]}')"
      ],
      "metadata": {
        "colab": {
          "base_uri": "https://localhost:8080/"
        },
        "id": "5NGA2zpirjv_",
        "outputId": "ff25447e-26bc-4577-8d98-49bf0595d3ff"
      },
      "execution_count": null,
      "outputs": [
        {
          "output_type": "stream",
          "name": "stdout",
          "text": [
            "คุณ a อายุ 20\n",
            "คุณ b อายุ 40\n",
            "คุณ c อายุ 30\n"
          ]
        }
      ]
    },
    {
      "cell_type": "code",
      "source": [
        "print('d' in ages)"
      ],
      "metadata": {
        "colab": {
          "base_uri": "https://localhost:8080/"
        },
        "id": "K0lSqYxlsvfj",
        "outputId": "3559b640-f54b-4c09-a5a4-419c28e4b920"
      },
      "execution_count": null,
      "outputs": [
        {
          "output_type": "stream",
          "name": "stdout",
          "text": [
            "False\n"
          ]
        }
      ]
    },
    {
      "cell_type": "code",
      "source": [
        "print(25 in ages.values())"
      ],
      "metadata": {
        "colab": {
          "base_uri": "https://localhost:8080/"
        },
        "id": "1DC5Jmmfs8br",
        "outputId": "e8140bae-e515-453b-f2ea-c6257896eca0"
      },
      "execution_count": null,
      "outputs": [
        {
          "output_type": "stream",
          "name": "stdout",
          "text": [
            "False\n"
          ]
        }
      ]
    },
    {
      "cell_type": "markdown",
      "source": [
        "### ฝึกทำโจทย์เกี่ยวกับ dict"
      ],
      "metadata": {
        "id": "61p4Xrzeq4s9"
      }
    },
    {
      "cell_type": "code",
      "source": [
        "#EX0903\n",
        "#โปรแกรมเมอร์คนหนึ่งต้องการเขียนโปรแกรมเพื่อนับความถี่ของคำในเอกสารภาษาอังกฤษแผ่นหนึ่ง\n",
        "#ซึ่งประกอบไปด้วย หลายประโยค แต่ละประโยคมีหลายคำ\n",
        "#เงื่อนไขการนำคำให้ถือว่าตัวพิมพ์ใหญ่หรือตัวพิมพ์เล็กเป็นคำเดียวกัน เช่น Once และ once ถือเป็นคำเดียว\n",
        "#step 1 - รับค่าแล้ว split ด้วยช่องว่าง (จะได้ตัวแปรที่เป็น list)\n",
        "#step 2 - วนลูปใน list เก็บลง dict โดยให้ key เป็นคำและ value เป็นจำนวนคำนั้น\n",
        "#step 3 - แสดงผล dict"
      ],
      "metadata": {
        "id": "5KtI1AFGq4Q6"
      },
      "execution_count": null,
      "outputs": []
    },
    {
      "cell_type": "markdown",
      "source": [
        "## (การบ้าน) โจทย์ฝึกปฏิบัติ (ทำในชั่วโมง ให้ได้มากที่สุดเท่าที่จะทำได้)"
      ],
      "metadata": {
        "id": "yKF3xevJon5E"
      }
    },
    {
      "cell_type": "markdown",
      "source": [
        "### {set}"
      ],
      "metadata": {
        "id": "_vmEw-AzugBm"
      }
    },
    {
      "cell_type": "code",
      "source": [
        "#จงเขียนโปรแกรมสร้าง set ที่มีสมาชิกเป็น 1, 2, 3, 'i', 'ii', 'iii'\n",
        "#จากนั้นให้พิมพ์ค่าและชนิดข้อมูลของ set ที่สร้างออกมา\n",
        "s = {1, 2, 3, 'i', 'ii', 'iii'}\n",
        "print(s)"
      ],
      "metadata": {
        "id": "g8Jw5eynoRTW",
        "colab": {
          "base_uri": "https://localhost:8080/"
        },
        "outputId": "abf59a03-5acf-4b11-ed58-164921b6e26d"
      },
      "execution_count": null,
      "outputs": [
        {
          "output_type": "stream",
          "name": "stdout",
          "text": [
            "{1, 2, 3, 'iii', 'i', 'ii'}\n"
          ]
        }
      ]
    },
    {
      "cell_type": "code",
      "source": [
        "#กำหนดให้ set1 = {1, 2, 3, 'i', 'ii', 'iii'}\n",
        "#จงเขียนโปรแกรมเพื่อพิมพ์สมาชิกทุกตัวใน set1 ออกมา\n",
        "set1 = {1, 2, 3, 'i', 'ii', 'iii'}\n",
        "for i in set1:\n",
        "  print(i)"
      ],
      "metadata": {
        "id": "0CXcctE8uI-F",
        "colab": {
          "base_uri": "https://localhost:8080/"
        },
        "outputId": "3b45169e-0aa1-4d2b-bb1d-ab237e872764"
      },
      "execution_count": null,
      "outputs": [
        {
          "output_type": "stream",
          "name": "stdout",
          "text": [
            "1\n",
            "2\n",
            "3\n",
            "iii\n",
            "i\n",
            "ii\n"
          ]
        }
      ]
    },
    {
      "cell_type": "code",
      "source": [
        "#กำหนดให้ set1 = {1, 2, 3, 'i', 'ii', 'iii'}\n",
        "#จงเขียนโปรแกรมเพื่อเพิ่ม 'iv' ไปเป็นสมาชิกใน set1\n",
        "#จากนั้นพิมพ์ค่า set1 ออกมา\n",
        "set1 = {1, 2, 3, 'i', 'ii', 'iii'}\n",
        "set1.add('iv')\n",
        "print(set1)"
      ],
      "metadata": {
        "id": "4XjH_YpluLUn",
        "colab": {
          "base_uri": "https://localhost:8080/"
        },
        "outputId": "94bf5b12-ab37-43f4-d6e0-a58733e3b591"
      },
      "execution_count": null,
      "outputs": [
        {
          "output_type": "stream",
          "name": "stdout",
          "text": [
            "{1, 2, 3, 'iii', 'iv', 'i', 'ii'}\n"
          ]
        }
      ]
    },
    {
      "cell_type": "code",
      "source": [
        "#จงเขียนโปรแกรมสร้าง set ว่าง แล้วรับอินพุต 3 ค่าที่เป็น string (str1, str2, str3)\n",
        "#จากนั้นให้เพิ่ม string ทั้งสามไปเป็นสมาชิกใน set\n",
        "#จากนั้นพิมพ์ค่า set ที่สร้างออกมา\n",
        "set1 = set()\n",
        "\n",
        "s = input()\n",
        "set1.add(s)\n",
        "s = input()\n",
        "set1.add(s)\n",
        "s = input()\n",
        "set1.add(s)\n",
        "\n",
        "print(set1)"
      ],
      "metadata": {
        "id": "rvGDDu6duOMs",
        "colab": {
          "base_uri": "https://localhost:8080/"
        },
        "outputId": "aabfb337-53e3-4e5c-c8d8-61f30217b524"
      },
      "execution_count": null,
      "outputs": [
        {
          "output_type": "stream",
          "name": "stdout",
          "text": [
            "aaa\n",
            "bbb\n",
            "ccc\n",
            "{'bbb', 'aaa', 'ccc'}\n"
          ]
        }
      ]
    },
    {
      "cell_type": "code",
      "source": [
        "set1 = set()\n",
        "\n",
        "for i in range(3):\n",
        "  s = input()\n",
        "  set1.add(s)\n",
        "\n",
        "print(set1)"
      ],
      "metadata": {
        "colab": {
          "base_uri": "https://localhost:8080/"
        },
        "id": "71xGbrU7xM6n",
        "outputId": "e8be91ee-1d72-46bb-9187-ebae9d735897"
      },
      "execution_count": null,
      "outputs": [
        {
          "output_type": "stream",
          "name": "stdout",
          "text": [
            "aaa\n",
            "bbb\n",
            "ccc\n",
            "{'bbb', 'aaa', 'ccc'}\n"
          ]
        }
      ]
    },
    {
      "cell_type": "code",
      "source": [
        "set1 = set()\n",
        "\n",
        "s = input().split(',')\n",
        "set1.update( {s[0],    s[1],   s[2]}   )\n",
        "\n",
        "print(set1)"
      ],
      "metadata": {
        "colab": {
          "base_uri": "https://localhost:8080/"
        },
        "id": "yPcnmYTRxYOT",
        "outputId": "cd791385-d066-4d95-9780-6dc165f15684"
      },
      "execution_count": null,
      "outputs": [
        {
          "output_type": "stream",
          "name": "stdout",
          "text": [
            "aa, bbb, cc\n",
            "{' cc', ' bbb', 'aa'}\n"
          ]
        }
      ]
    },
    {
      "cell_type": "code",
      "source": [
        "#กำหนดให้ set1 = {1, 2, 3, 'i', 'ii', 'iii'}\n",
        "#จงเขียนโปรแกรมเพื่อลบ 'i' ออกจาก set1\n",
        "#จากนั้นพิมพ์ค่า set1 ออกมา\n",
        "set1 = {1, 2, 3, 'i', 'ii', 'iii'}\n",
        "set1.remove('i')\n",
        "print(set1)"
      ],
      "metadata": {
        "id": "Wj4FxFEOuQty",
        "colab": {
          "base_uri": "https://localhost:8080/"
        },
        "outputId": "209e1002-dea0-46ff-ad81-0fc95c9d1c55"
      },
      "execution_count": null,
      "outputs": [
        {
          "output_type": "stream",
          "name": "stdout",
          "text": [
            "{1, 2, 3, 'iii', 'ii'}\n"
          ]
        }
      ]
    },
    {
      "cell_type": "code",
      "source": [
        "#กำหนดให้ set1 = {1, 2, 3, 'i', 'ii', 'iii'}\n",
        "#จงเขียนโปรแกรมเพื่อพิมพ์จำนวนสมาชิกใน set1 ออกมา\n",
        "set1 = {1, 2, 3, 'i', 'ii', 'iii'}\n",
        "print(len(set1))"
      ],
      "metadata": {
        "id": "ixurP14KuTuA",
        "colab": {
          "base_uri": "https://localhost:8080/"
        },
        "outputId": "150a6f26-d73c-4082-8c49-936cd182b0c2"
      },
      "execution_count": null,
      "outputs": [
        {
          "output_type": "stream",
          "name": "stdout",
          "text": [
            "6\n"
          ]
        }
      ]
    },
    {
      "cell_type": "code",
      "source": [
        "#กำหนดให้ set1 = {1, 2, 3, 'i', 'ii', 'iii'}\n",
        "#จงเขียนโปรแกรมรับอินพุต 1 ตัว ที่เป็นจำนวนเต็ม (int1)\n",
        "#ให้ตรวจสอบว่า int1 เป็นสมาชิกของ set1 หรือไม่\n",
        "#แล้วพิมพ์ผลลัพธ์ออกมา\n",
        "set1 = {1, 2, 3, 'i', 'ii', 'iii'}\n",
        "int1 = int(input())\n",
        "print(int1 in set1)"
      ],
      "metadata": {
        "id": "ND5Nr5sSuWEG",
        "colab": {
          "base_uri": "https://localhost:8080/"
        },
        "outputId": "c8ef381c-d355-4838-989f-12b8d003dfcf"
      },
      "execution_count": null,
      "outputs": [
        {
          "output_type": "stream",
          "name": "stdout",
          "text": [
            "2\n",
            "True\n"
          ]
        }
      ]
    },
    {
      "cell_type": "code",
      "source": [
        "#กำหนดให้ set1 = {1, 2, 3, 4, 5} และ set2 = {3, 4, 5, 6}\n",
        "#จงเขียนโปรแกรมเพื่อพิมพ์ผลลัพธ์ที่เกิดจากการ union ระหว่าง set1 และ set2 ออกมา\n",
        "set1 = {1, 2, 3, 4, 5}\n",
        "set2 = {3, 4, 5, 6}\n",
        "print(set1.union(set2))"
      ],
      "metadata": {
        "id": "RmmvZam-uYiG",
        "colab": {
          "base_uri": "https://localhost:8080/"
        },
        "outputId": "e264b8d2-45b0-4ff1-eb72-0d883d413224"
      },
      "execution_count": null,
      "outputs": [
        {
          "output_type": "stream",
          "name": "stdout",
          "text": [
            "{1, 2, 3, 4, 5, 6}\n"
          ]
        }
      ]
    },
    {
      "cell_type": "code",
      "source": [
        "print(set1 | set2)"
      ],
      "metadata": {
        "colab": {
          "base_uri": "https://localhost:8080/"
        },
        "id": "MXyB232YyTOU",
        "outputId": "5daffc54-f453-4a12-afda-8a4b683901bf"
      },
      "execution_count": null,
      "outputs": [
        {
          "output_type": "stream",
          "name": "stdout",
          "text": [
            "{1, 2, 3, 4, 5, 6}\n"
          ]
        }
      ]
    },
    {
      "cell_type": "code",
      "source": [
        "#กำหนดให้ set1 = {1, 2, 3, 4, 5} และ set2 = {3, 4, 5, 6}\n",
        "#จงเขียนโปรแกรมเพื่อพิมพ์ผลลัพธ์ที่เกิดจากการ intersection ระหว่าง set1 และ set2 ออกมา\n",
        "set1 = {1, 2, 3, 4, 5}\n",
        "set2 = {3, 4, 5, 6}\n",
        "print(set1.intersection(set2))"
      ],
      "metadata": {
        "id": "DfMcToc5ua_Z",
        "colab": {
          "base_uri": "https://localhost:8080/"
        },
        "outputId": "79aba510-1fa1-4572-bbeb-3ec6be933987"
      },
      "execution_count": null,
      "outputs": [
        {
          "output_type": "stream",
          "name": "stdout",
          "text": [
            "{3, 4, 5}\n"
          ]
        }
      ]
    },
    {
      "cell_type": "code",
      "source": [
        "print(set1 & set2)"
      ],
      "metadata": {
        "colab": {
          "base_uri": "https://localhost:8080/"
        },
        "id": "0Gay1Qddynig",
        "outputId": "d8e58326-bf3a-4d35-95b1-b1743eb69988"
      },
      "execution_count": null,
      "outputs": [
        {
          "output_type": "stream",
          "name": "stdout",
          "text": [
            "{3, 4, 5}\n"
          ]
        }
      ]
    },
    {
      "cell_type": "code",
      "source": [
        "#กำหนดให้ set1 = {1, 2, 3, 4, 5} และ set2 = {3, 4, 5, 6}\n",
        "#จงเขียนโปรแกรมเพื่อพิมพ์ผลลัพธ์ที่เกิดจาก set1 - set2 ออกมา\n",
        "set1 = {1, 2, 3, 4, 5}\n",
        "set2 = {3, 4, 5, 6}\n",
        "print(set1 - set2)"
      ],
      "metadata": {
        "id": "s8kOzN-JudV2",
        "colab": {
          "base_uri": "https://localhost:8080/"
        },
        "outputId": "d3e0eac9-0be8-4721-f37a-98618de5e7ab"
      },
      "execution_count": null,
      "outputs": [
        {
          "output_type": "stream",
          "name": "stdout",
          "text": [
            "{1, 2}\n"
          ]
        }
      ]
    },
    {
      "cell_type": "markdown",
      "source": [
        "### {dict}"
      ],
      "metadata": {
        "id": "qHHH6XtjumO-"
      }
    },
    {
      "cell_type": "code",
      "source": [
        "#จงเขียนโปรแกรมสร้าง dictionary ที่มี key เป็น firstname และ lastname\n",
        "#และมี value คือ John และ Son ตามลำดับ\n",
        "#จากนั้นให้พิมพ์ค่าและชนิดข้อมูล ของ dictionary ที่สร้างออกมา\n",
        "dict1 = {\n",
        "    'firstname': 'John',\n",
        "    'lastname': 'Son'\n",
        "}\n",
        "print(dict1)\n",
        "print(type(dict1))"
      ],
      "metadata": {
        "id": "ySviooU9uomJ",
        "colab": {
          "base_uri": "https://localhost:8080/"
        },
        "outputId": "2218ce04-2d94-4e26-f175-fbac6244535c"
      },
      "execution_count": null,
      "outputs": [
        {
          "output_type": "stream",
          "name": "stdout",
          "text": [
            "{'firstname': 'John', 'lastname': 'Son'}\n",
            "<class 'dict'>\n"
          ]
        }
      ]
    },
    {
      "cell_type": "code",
      "source": [
        "#กำหนดให้ dict1 = {'firstname': 'John', 'lastname': 'Smith'}\n",
        "#จงเขียนโปรแกรมพิมพ์ value ของ key 'firstname' ออกมา\n",
        "dict1 = {'firstname': 'John', 'lastname': 'Smith'}\n",
        "print(dict1['firstname'])"
      ],
      "metadata": {
        "id": "5Td3uW50utC9",
        "colab": {
          "base_uri": "https://localhost:8080/"
        },
        "outputId": "0a601374-42f8-4424-ad00-f749612ae9d5"
      },
      "execution_count": null,
      "outputs": [
        {
          "output_type": "stream",
          "name": "stdout",
          "text": [
            "John\n"
          ]
        }
      ]
    },
    {
      "cell_type": "code",
      "source": [
        "#กำหนดให้ dict1 = {'firstname': 'John', 'lastname': 'Smith'}\n",
        "#จงเขียนโปรแกรมพิมพ์ list ของ value ทั้งหมดใน dict1 ออกมา\n",
        "dict1 = {'firstname': 'John', 'lastname': 'Smith'}\n",
        "print(dict1.values())"
      ],
      "metadata": {
        "id": "4URU3zGjuvri",
        "colab": {
          "base_uri": "https://localhost:8080/"
        },
        "outputId": "d5c6e953-d15c-453c-940f-6b1077c4f698"
      },
      "execution_count": null,
      "outputs": [
        {
          "output_type": "stream",
          "name": "stdout",
          "text": [
            "dict_values(['John', 'Smith'])\n"
          ]
        }
      ]
    },
    {
      "cell_type": "code",
      "source": [
        "#กำหนดให้ dict1 = {'firstname': 'John', 'lastname': 'Smith'}\n",
        "#จงเขียนโปรแกรมเปลี่ยน value ของ key 'firstname' เป็น Jane\n",
        "#จากนั้นให้พิมพ์ dict1 ออกมา\n",
        "dict1 = {'firstname': 'John', 'lastname': 'Smith'}\n",
        "dict1['firstname'] = 'Jane'\n",
        "print(dict1)"
      ],
      "metadata": {
        "id": "L6587kRYuyQ0",
        "colab": {
          "base_uri": "https://localhost:8080/"
        },
        "outputId": "ff48549b-a787-42b6-dd06-f4b5ed88fab5"
      },
      "execution_count": null,
      "outputs": [
        {
          "output_type": "stream",
          "name": "stdout",
          "text": [
            "{'firstname': 'Jane', 'lastname': 'Smith'}\n"
          ]
        }
      ]
    },
    {
      "cell_type": "code",
      "source": [
        "#กำหนดให้ dict1 = {'firstname': 'John', 'lastname': 'Smith'}\n",
        "#จงเขียนโปรแกรมสร้าง key ใหม่ชื่อ 'age' และกำหนดค่าเป็น 20\n",
        "#จากนั้นให้พิมพ์ dict1 ออกมา\n",
        "dict1 = {'firstname': 'John', 'lastname': 'Smith'}\n",
        "dict1['age'] = 20\n",
        "print(dict1)"
      ],
      "metadata": {
        "id": "TP8LzKjtu0lZ",
        "colab": {
          "base_uri": "https://localhost:8080/"
        },
        "outputId": "cb03e016-929e-46c4-f4c0-3142f0c57a42"
      },
      "execution_count": null,
      "outputs": [
        {
          "output_type": "stream",
          "name": "stdout",
          "text": [
            "{'firstname': 'John', 'lastname': 'Smith', 'age': 20}\n"
          ]
        }
      ]
    },
    {
      "cell_type": "code",
      "source": [
        "#กำหนดให้ dict1 = {'firstname': 'John', 'lastname': 'Smith'}\n",
        "#จงเขียนโปรแกรมสร้าง key ใหม่ชื่อ 'age' และ 'hobby'\n",
        "#โดยกำหนดค่าเป็น 20 และ ['coding', 'studying']ตามลำดับ\n",
        "#จากนั้นให้พิมพ์ dict1 ออกมา\n",
        "dict1 = {'firstname': 'John', 'lastname': 'Smith'}\n",
        "dict1.update(  {'age': 20 ,  'hobby': ['coding', 'studying']}   )\n",
        "print(dict1)"
      ],
      "metadata": {
        "id": "8VCSCUcdu2_H",
        "colab": {
          "base_uri": "https://localhost:8080/"
        },
        "outputId": "820582e9-fa9b-4e9c-b32d-67b8cb7d20cb"
      },
      "execution_count": null,
      "outputs": [
        {
          "output_type": "stream",
          "name": "stdout",
          "text": [
            "{'firstname': 'John', 'lastname': 'Smith', 'age': 20, 'hobby': ['coding', 'studying']}\n"
          ]
        }
      ]
    },
    {
      "cell_type": "code",
      "source": [
        "#จงเขียนโปรแกรมสร้าง dictionary ว่าง แล้วรับอินพุต 2 ตัว ที่เป็น string (str1, str2)\n",
        "#โดยให้ str1 เป็น key และ str2 เป็น value\n",
        "#จากนั้นให้พิมพ์ dictionary ที่สร้างออกมา\n",
        "dict1 = {}\n",
        "\n",
        "s = input().split(',')\n",
        "dict1[  s[0]   ] = s[1]\n",
        "\n",
        "print(dict1)"
      ],
      "metadata": {
        "id": "llyfLbbEu5Dc",
        "colab": {
          "base_uri": "https://localhost:8080/"
        },
        "outputId": "38f1ad25-6096-4ebc-9e47-ed769dcce3b1"
      },
      "execution_count": null,
      "outputs": [
        {
          "output_type": "stream",
          "name": "stdout",
          "text": [
            "nadh, 20\n",
            "{'nadh': ' 20'}\n"
          ]
        }
      ]
    },
    {
      "cell_type": "code",
      "source": [
        "#กำหนดให้ dict1 = {'firstname': 'John', 'lastname': 'Smith', 'age':20}\n",
        "#จงเขียนโปรแกรมเพื่อลบ key 'age' ออกจาก dict1\n",
        "#จากนั้นให้พิมพ์ dict1 ออกมา\n",
        "dict1 = {'firstname': 'John', 'lastname': 'Smith', 'age':20}\n",
        "del dict1['age']\n",
        "print(dict1)"
      ],
      "metadata": {
        "id": "vpS64PGju80m",
        "colab": {
          "base_uri": "https://localhost:8080/"
        },
        "outputId": "5cd98c56-5750-4114-e9f7-5ad85eaef4a9"
      },
      "execution_count": null,
      "outputs": [
        {
          "output_type": "stream",
          "name": "stdout",
          "text": [
            "{'firstname': 'John', 'lastname': 'Smith'}\n"
          ]
        }
      ]
    },
    {
      "cell_type": "code",
      "source": [
        "#กำหนดให้ dict1 = {'firstname': 'John', 'lastname': 'Smith', 'age':20}\n",
        "#จงเขียนโปรแกรมเพื่อลบข้อมูลทั้งหมดออกจาก dict1\n",
        "#จากนั้นให้พิมพ์ dict1 ออกมา\n",
        "dict1 = {'firstname': 'John', 'lastname': 'Smith', 'age':20}\n",
        "dict1.clear()\n",
        "print(dict1)"
      ],
      "metadata": {
        "id": "Io30dFnxu_sr",
        "colab": {
          "base_uri": "https://localhost:8080/"
        },
        "outputId": "8030d483-9733-40bb-a691-5782aa338f87"
      },
      "execution_count": null,
      "outputs": [
        {
          "output_type": "stream",
          "name": "stdout",
          "text": [
            "{}\n"
          ]
        }
      ]
    },
    {
      "cell_type": "code",
      "source": [
        "#กำหนดให้ dict1 = {'firstname': 'John', 'lastname': 'Smith', 'age':20}\n",
        "#จงเขียนโปรแกรมเพื่อพิมพ์จำนวน key ของ dict1 ออกมา\n",
        "dict1 = {'firstname': 'John', 'lastname': 'Smith', 'age':20}\n",
        "print(len(dict1))"
      ],
      "metadata": {
        "id": "6_frN--ovAdx",
        "colab": {
          "base_uri": "https://localhost:8080/"
        },
        "outputId": "125647a5-a139-445d-e415-abbae041223e"
      },
      "execution_count": null,
      "outputs": [
        {
          "output_type": "stream",
          "name": "stdout",
          "text": [
            "3\n"
          ]
        }
      ]
    },
    {
      "cell_type": "code",
      "source": [
        "#กำหนดให้ dict1 = {'firstname': 'John', 'lastname': 'Smith', 'age':20}\n",
        "#จงเขียนโปรแกรมรับอินพุต 1 ตัว ที่เป็น string (str1)\n",
        "#ให้ตรวจสอบว่า str1 เป็น value ของ dict1 หรือไม่\n",
        "#แล้วพิมพ์ผลลัพธ์ออกมา\n",
        "dict1 = {'firstname': 'John', 'lastname': 'Smith', 'age':20}\n",
        "s = input()\n",
        "print(s in dict1.values())"
      ],
      "metadata": {
        "id": "Pe12JudQvC5a",
        "colab": {
          "base_uri": "https://localhost:8080/"
        },
        "outputId": "c65e49a6-c649-4ed0-acc5-83414ddffc9c"
      },
      "execution_count": null,
      "outputs": [
        {
          "output_type": "stream",
          "name": "stdout",
          "text": [
            "nadh\n",
            "False\n"
          ]
        }
      ]
    },
    {
      "cell_type": "markdown",
      "source": [
        "# 25 August 2022 งดเรียนให้ทำแบบฝึกหัดเพิ่มเติม Tuple, List"
      ],
      "metadata": {
        "id": "8STMspLqF2zg"
      }
    },
    {
      "cell_type": "markdown",
      "source": [
        "# Week08: 24 August 2022 (Data Types & Data Structure: Tuple, List)\n",
        "ให้ฝึกเขียนโค้ดจากโจทย์ต่อไปนี้\n",
        "<br>เป็นแบบฝึกหัดฝึกทำในชั่วโมง และส่วนเพิ่มเติมจะทำหรือไม่ทำก็ได้\n",
        "\n",
        "\n",
        "*   การหาค่ากลาง (median)\n",
        "*   การหาค่าส่วนเบี่ยงเบนมาตรฐาน (standard deviation)"
      ],
      "metadata": {
        "id": "pDaH-MKR-njh"
      }
    },
    {
      "cell_type": "markdown",
      "source": [
        "## (การบ้าน)"
      ],
      "metadata": {
        "id": "qxy9uWnj_UAA"
      }
    },
    {
      "cell_type": "code",
      "source": [
        "#ให้ทำโจทย์เพิ่มเติมอย่างน้อย 15 ข้อ"
      ],
      "metadata": {
        "id": "JEnwprG6-nIt"
      },
      "execution_count": null,
      "outputs": []
    },
    {
      "cell_type": "markdown",
      "source": [
        "## (in Lab)"
      ],
      "metadata": {
        "id": "_ZPlgTQt_Qym"
      }
    },
    {
      "cell_type": "markdown",
      "source": [
        "### Tuple เขียนอยู่ใน ( )"
      ],
      "metadata": {
        "id": "2I6kWtrcB9Lg"
      }
    },
    {
      "cell_type": "code",
      "source": [
        "#ให้สร้าง tuple เก็บข้อมูลอะไรก็ได้\n",
        "a = (1, 2, 3, 4)\n",
        "print(a)"
      ],
      "metadata": {
        "id": "m7JPQ-LM-m_j",
        "colab": {
          "base_uri": "https://localhost:8080/"
        },
        "outputId": "8c88be80-29a7-4531-c30d-ff0c2aaef599"
      },
      "execution_count": null,
      "outputs": [
        {
          "output_type": "stream",
          "name": "stdout",
          "text": [
            "(1, 2, 3, 4)\n"
          ]
        }
      ]
    },
    {
      "cell_type": "code",
      "source": [
        "#เขียนแสดงค่าใน tuple ที่สร้าง โดยแสดงค่าในตำแหน่งแรก และตำแหน่งสุดท้าย\n",
        "print(f'{a[0]}    {a[-1]}')"
      ],
      "metadata": {
        "id": "ALSl8XJk_NH0",
        "colab": {
          "base_uri": "https://localhost:8080/"
        },
        "outputId": "40efe3db-1245-4343-a7de-e7bfba3baafa"
      },
      "execution_count": null,
      "outputs": [
        {
          "output_type": "stream",
          "name": "stdout",
          "text": [
            "1    4\n"
          ]
        }
      ]
    },
    {
      "cell_type": "code",
      "source": [
        "#เราเปลี่ยนค่าใน tuple หรือลบได้หรือไม่ เช่น x[2] = 5"
      ],
      "metadata": {
        "id": "YQtplxPI_NE7"
      },
      "execution_count": null,
      "outputs": []
    },
    {
      "cell_type": "code",
      "source": [
        "#เขียนแสดงจำนวนสมาชิกใน tuple"
      ],
      "metadata": {
        "id": "MwOTIrwhCJjd"
      },
      "execution_count": null,
      "outputs": []
    },
    {
      "cell_type": "markdown",
      "source": [
        "### List เขียนอยู่ใน [ ]"
      ],
      "metadata": {
        "id": "nzohpjdyCRtu"
      }
    },
    {
      "cell_type": "code",
      "source": [
        "#ให้สร้าง list เก็บข้อมูลอะไรก็ได้"
      ],
      "metadata": {
        "id": "CZ0u0dW1CSUc"
      },
      "execution_count": null,
      "outputs": []
    },
    {
      "cell_type": "code",
      "source": [
        "#เขียนแสดงค่าใน list ที่สร้าง โดยแสดงค่าในตำแหน่งแรก และตำแหน่งสุดท้าย"
      ],
      "metadata": {
        "id": "3xSPZq2NCae3"
      },
      "execution_count": null,
      "outputs": []
    },
    {
      "cell_type": "code",
      "source": [
        "#เปลี่ยนค่าในตำแหน่งสุดท้ายของ list ที่สร้าง แล้วแสดงผล"
      ],
      "metadata": {
        "id": "lTNOZNKpCd0f"
      },
      "execution_count": null,
      "outputs": []
    },
    {
      "cell_type": "code",
      "source": [
        "#เขียนลบค่าที่อยู่ตรงกลาง list"
      ],
      "metadata": {
        "id": "t-vZ8g6TCdqp"
      },
      "execution_count": null,
      "outputs": []
    },
    {
      "cell_type": "code",
      "source": [
        "#เขียนแสดงจำนวนสมาชิกใน list"
      ],
      "metadata": {
        "id": "gjNb1cePCdhh"
      },
      "execution_count": null,
      "outputs": []
    },
    {
      "cell_type": "code",
      "source": [
        "#เขียนเพิ่มสมาชิกต่อท้าย list สองค่า"
      ],
      "metadata": {
        "id": "vEh9zU7qCkgt"
      },
      "execution_count": null,
      "outputs": []
    },
    {
      "cell_type": "code",
      "source": [
        "#เขียนเพิ่มสมาชิกจาก list นี้ >> a = [1, 2, 3]"
      ],
      "metadata": {
        "id": "Gou-9g1rCmuJ"
      },
      "execution_count": null,
      "outputs": []
    },
    {
      "cell_type": "code",
      "source": [
        "#เขียนตรวจสอบว่ามีค่า x ใน list หรือไม่ โดยให้ผู้ใช้กรอกค่า x"
      ],
      "metadata": {
        "id": "NSgH-5GpCo6a"
      },
      "execution_count": null,
      "outputs": []
    },
    {
      "cell_type": "code",
      "source": [
        "#เขียนแสดงค่าใน list จากตำแหน่งที่ 2-4 (หากมีข้อมูลไม่ถึง ให้เพิ่มข้อมูลใน list )"
      ],
      "metadata": {
        "id": "CyhTM7vbCs5x"
      },
      "execution_count": null,
      "outputs": []
    },
    {
      "cell_type": "code",
      "source": [
        "#เขียนหาค่าส่วนเบี่ยงเบนมาตรฐาน จาก list ที่สร้างขึ้น"
      ],
      "metadata": {
        "id": "-fBopeYZCs21"
      },
      "execution_count": null,
      "outputs": []
    },
    {
      "cell_type": "code",
      "source": [
        "#เขียนฟังก์ชัน def stdev(x) เพื่อใช้หาค่าส่วนเบี่ยงเบนมาตรฐาน จาก list x ที่ส่งเข้าไป"
      ],
      "metadata": {
        "id": "qeJyPS5FCs0A"
      },
      "execution_count": null,
      "outputs": []
    },
    {
      "cell_type": "code",
      "source": [
        "#เขียนฟังก์ชัน def median(x) เพื่อใช้หาค่ากลาง จาก list x ที่ส่งเข้าไป"
      ],
      "metadata": {
        "id": "3AWwh8JjCsqn"
      },
      "execution_count": null,
      "outputs": []
    },
    {
      "cell_type": "markdown",
      "source": [
        "## (เฉลยการบ้าน)"
      ],
      "metadata": {
        "id": "_DfmOnwT_N8E"
      }
    },
    {
      "cell_type": "code",
      "source": [
        "#EX0502 จงเขียนฟังก์ชัน max3() เพื่อแสดง ตัวเลขที่มีค่าที่สูงที่สุด 3 ค่าจาก argument\n",
        "#ที่ส่งใน function call การแสดงผลต้องเรียงลำดับจากน้อยไปมาก แยกตัวเลขละบรรทัด\n",
        "def max3(*d):\n",
        "  dd = list(d)      #แปลงเป็น list\n",
        "  dd.sort()         #เรียงลำดับค่าใน list\n",
        "  #print(dd[-3:])\n",
        "  for i in dd[-3:]:\n",
        "    print(i, end='')\n",
        "\n",
        "max3(1,2,3,4,5)\n",
        "print()\n",
        "max3(2,5,5)\n",
        "print()\n",
        "max3(4,5)\n",
        "print()\n",
        "max3(3,8,9,1,0,20)"
      ],
      "metadata": {
        "colab": {
          "base_uri": "https://localhost:8080/"
        },
        "id": "gTV19EOE_NB4",
        "outputId": "642ce8df-7ef1-42fb-f77e-46a9313862d5"
      },
      "execution_count": null,
      "outputs": [
        {
          "output_type": "stream",
          "name": "stdout",
          "text": [
            "345\n",
            "255\n",
            "45\n",
            "8920"
          ]
        }
      ]
    },
    {
      "cell_type": "code",
      "source": [
        "#EX0503 จากโจทย์ EX0501 จงหา แสดงรายการเป็น ผลต่างยกกำลังสอง\n",
        "n = int(input())\n",
        "ids = []\n",
        "gpas = []\n",
        "\n",
        "for i in range(n):\n",
        "  line = input().split(',')\n",
        "  ids.append( line[0] )\n",
        "  gpas.append( float(line[1]) )\n",
        "\n",
        "avg = sum(gpas)/len(gpas)\n",
        "\n",
        "for i in range(len(ids)):\n",
        "  #print(f'{ids[i]},{abs(gpas[i]-avg):.2f}')                #ผลต่าง จาก EX0501\n",
        "  print(f'{ids[i]},{( (gpas[i]-avg)*(gpas[i]-avg) ):.2f}')  #นำมายกกำลังสอง\n",
        "\n",
        "#5\n",
        "#61002001,3.00\n",
        "#61030002,3.00\n",
        "#61004003,4.00\n",
        "#61000004,1.22\n",
        "#61000101,2.50"
      ],
      "metadata": {
        "id": "sRBVnbSj_rxk",
        "colab": {
          "base_uri": "https://localhost:8080/"
        },
        "outputId": "1fba22a0-04dd-44c6-fb61-a5696461d91f"
      },
      "execution_count": null,
      "outputs": [
        {
          "output_type": "stream",
          "name": "stdout",
          "text": [
            "5\n",
            "61002001,3.00\n",
            "61030002,3.00\n",
            "61004003,4.00\n",
            "61000004,1.22\n",
            "61000101,2.50\n",
            "61002001,0.07\n",
            "61030002,0.07\n",
            "61004003,1.58\n",
            "61000004,2.32\n",
            "61000101,0.06\n"
          ]
        }
      ]
    },
    {
      "cell_type": "code",
      "source": [
        "#EX0504 จากโจทย์ EX0503 จงหาผลรวมของผลต่างยกกำลังสองของทุกคน\n",
        "#แล้วแสดงค่า รากที่สองของผลรวมนั้น\n",
        "import math\n",
        "\n",
        "n = int(input())\n",
        "ids = []\n",
        "gpas = []\n",
        "\n",
        "for i in range(n):\n",
        "  line = input().split(',')\n",
        "  ids.append( line[0] )\n",
        "  gpas.append( float(line[1]) )\n",
        "\n",
        "avg = sum(gpas)/len(gpas)\n",
        "\n",
        "total = 0\n",
        "for i in range(len(ids)):\n",
        "  difsqt = (gpas[i]-avg)*(gpas[i]-avg)    #หาผลต่างกำลังสอง จาก EX0503\n",
        "  total = total + difsqt                  #หาผลรวมของ ผลต่างกำลังสอง\n",
        "  print(f'{ids[i]},{difsqt:.2f}')\n",
        "print(f'{total:.2f}')                     #แสดงผลรวม\n",
        "print(f'{math.sqrt(total):.2f}')          #แสดงผลของรากที่สองของ ผลรวม"
      ],
      "metadata": {
        "id": "z6BnkPTR_1A7",
        "colab": {
          "base_uri": "https://localhost:8080/"
        },
        "outputId": "740094e5-7f42-42c8-e0f8-c1b7ab1b7bd2"
      },
      "execution_count": null,
      "outputs": [
        {
          "output_type": "stream",
          "name": "stdout",
          "text": [
            "5\n",
            "61000101,2.50\n",
            "61000004,1.22\n",
            "61004003,4.00\n",
            "61002001,3.00\n",
            "61002002,3.00\n",
            "61000101,0.06\n",
            "61000004,2.32\n",
            "61004003,1.58\n",
            "61002001,0.07\n",
            "61002002,0.07\n",
            "4.09\n",
            "2.02\n"
          ]
        }
      ]
    },
    {
      "cell_type": "code",
      "source": [
        "#EX0505 จงเขียนโปรแกรมเพื่อหาค่าเบี่ยงเบนมาตรฐานของผลการเรียนของนักศึกษา\n",
        "#ตามรูปแบบข้อมูลนำเข้าข้อ EX0501\n",
        "import math\n",
        "\n",
        "n = int(input())\n",
        "ids = []\n",
        "gpas = []\n",
        "\n",
        "for i in range(n):\n",
        "  line = input().split(',')\n",
        "  ids.append( line[0] )\n",
        "  gpas.append( float(line[1]) )\n",
        "\n",
        "avg = sum(gpas)/len(gpas)\n",
        "\n",
        "total = 0\n",
        "for i in range(len(ids)):\n",
        "  difsqt = (gpas[i]-avg)*(gpas[i]-avg)    # 4-2 = 2  >>> 2 * 2\n",
        "  total = total + difsqt\n",
        "  print(f'{ids[i]},{difsqt:.2f}')\n",
        "\n",
        "std = math.sqrt(total/(n-1))\n",
        "print(f'{std:.2f}')"
      ],
      "metadata": {
        "id": "t2DTE7cwAJL6"
      },
      "execution_count": null,
      "outputs": []
    },
    {
      "cell_type": "markdown",
      "source": [
        "## โจทย์เพิ่มเติม"
      ],
      "metadata": {
        "id": "Vw69gtWhC7Gs"
      }
    },
    {
      "cell_type": "markdown",
      "source": [
        "### [List]"
      ],
      "metadata": {
        "id": "46AOyD7uDFPV"
      }
    },
    {
      "cell_type": "code",
      "source": [
        "pow2 = [2 ** x for x in range(10)]\n",
        "print(pow2)"
      ],
      "metadata": {
        "id": "Xxu7DSuxC6GV",
        "colab": {
          "base_uri": "https://localhost:8080/"
        },
        "outputId": "a8c1c0a6-fc9f-4f36-8007-5367db1677b3"
      },
      "execution_count": null,
      "outputs": [
        {
          "output_type": "stream",
          "name": "stdout",
          "text": [
            "[1, 2, 4, 8, 16, 32, 64, 128, 256, 512]\n"
          ]
        }
      ]
    },
    {
      "cell_type": "code",
      "source": [
        "#ให้เขียนสร้าง list ที่ได้ผลลัพธ์เช่นเดียวกับโค้ดด้านบน (ใช้ .append)\n",
        "pow3 = []\n",
        "for i in range(10):\n",
        "  pow3.append(2**i)\n",
        "print(pow3)"
      ],
      "metadata": {
        "id": "d-NdMKwsDKFU",
        "colab": {
          "base_uri": "https://localhost:8080/"
        },
        "outputId": "6d0b3e0c-2151-4ba0-d5cc-b058a7c2059d"
      },
      "execution_count": null,
      "outputs": [
        {
          "output_type": "stream",
          "name": "stdout",
          "text": [
            "[1, 2, 4, 8, 16, 32, 64, 128, 256, 512]\n"
          ]
        }
      ]
    },
    {
      "cell_type": "code",
      "source": [
        "#ให้เขียนคำสั่งโดยใช้ for แสดงผลจาก list ['apple','banana','mango'] ดังนี้\n",
        "#output:\n",
        "#I like apple\n",
        "#I like banana\n",
        "#I like mango\n",
        "for a in ['apple','banana','mango']:\n",
        "  print(f'I like {a}')"
      ],
      "metadata": {
        "id": "zWqNnrMaDKA2",
        "colab": {
          "base_uri": "https://localhost:8080/"
        },
        "outputId": "6b4c9db1-5b93-4cba-bdeb-2abd39e7b6af"
      },
      "execution_count": null,
      "outputs": [
        {
          "output_type": "stream",
          "name": "stdout",
          "text": [
            "I like apple\n",
            "I like banana\n",
            "I like mango\n"
          ]
        }
      ]
    },
    {
      "cell_type": "code",
      "source": [
        "#กำหนดให้ list1 = [0, 1, 2, 'a', 'b', 'c'] จงเขียนโปรแกรมเพื่อพิมพ์ b ออกมา\n",
        "list1 = [0, 1, 2, 'a', 'b', 'c']\n",
        "print(list1[4])"
      ],
      "metadata": {
        "id": "ePZgRcxGDJ8L",
        "colab": {
          "base_uri": "https://localhost:8080/"
        },
        "outputId": "6b7b5a7d-1633-47fb-dcd2-483d3a3edb6d"
      },
      "execution_count": null,
      "outputs": [
        {
          "output_type": "stream",
          "name": "stdout",
          "text": [
            "b\n"
          ]
        }
      ]
    },
    {
      "cell_type": "code",
      "source": [
        "print(list1[-2])"
      ],
      "metadata": {
        "colab": {
          "base_uri": "https://localhost:8080/"
        },
        "id": "UmYbnh9mzA4s",
        "outputId": "6b137a23-f3a4-4cab-f5ff-a86ffd060db6"
      },
      "execution_count": null,
      "outputs": [
        {
          "output_type": "stream",
          "name": "stdout",
          "text": [
            "b\n"
          ]
        }
      ]
    },
    {
      "cell_type": "code",
      "source": [
        "#กำหนดให้ list1 = [0, 1, 2, 'a', 'b', 'c'] จงเขียนโปรแกรมเพื่อพิมพ์ list ที่มีสมาชิก\n",
        "#ตั้งแต่ index ที่ 2 จนถึง index ที่ 3 ของ list1 ออกมา\n",
        "list1 = [0, 1, 2, 'a', 'b', 'c']\n",
        "print(list1[2:4])"
      ],
      "metadata": {
        "id": "BM1IVAtEDJyr",
        "colab": {
          "base_uri": "https://localhost:8080/"
        },
        "outputId": "4eb84016-f6bc-4d7a-e23f-9263e724d9d4"
      },
      "execution_count": null,
      "outputs": [
        {
          "output_type": "stream",
          "name": "stdout",
          "text": [
            "[2, 'a']\n"
          ]
        }
      ]
    },
    {
      "cell_type": "code",
      "source": [
        "#กำหนดให้ list1 = [0, 1, 2, 'a', 'b', 'c'] จงเขียนโปรแกรมเพื่อพิมพ์ list ที่มีสมาชิก\n",
        "#ตั้งแต่ index ที่ 1 จนถึง index ที่ -2 ของ list1 ออกมา\n",
        "list1 = [0, 1, 2, 'a', 'b', 'c']\n",
        "print(list1[1:-1])"
      ],
      "metadata": {
        "id": "B-MVlQwODSMS",
        "colab": {
          "base_uri": "https://localhost:8080/"
        },
        "outputId": "cf3e42a7-54a4-4a00-8264-900bdcd163ed"
      },
      "execution_count": null,
      "outputs": [
        {
          "output_type": "stream",
          "name": "stdout",
          "text": [
            "[1, 2, 'a', 'b']\n"
          ]
        }
      ]
    },
    {
      "cell_type": "code",
      "source": [
        "#กำหนดให้ list1 = [0, 1, 2, 'a', 'b', 'c']\n",
        "#จงเขียนโปรแกรมเพื่อพิมพ์ [1, 2, 'a', 'b'] ออกมา\n",
        "list1 = [0, 1, 2, 'a', 'b', 'c']\n",
        "print(list1[1:5])"
      ],
      "metadata": {
        "id": "YrmUanGXDSJ4",
        "colab": {
          "base_uri": "https://localhost:8080/"
        },
        "outputId": "82d9b71c-34ba-4393-8120-55789b996664"
      },
      "execution_count": null,
      "outputs": [
        {
          "output_type": "stream",
          "name": "stdout",
          "text": [
            "[1, 2, 'a', 'b']\n"
          ]
        }
      ]
    },
    {
      "cell_type": "code",
      "source": [
        "print(list1[-5:-1])"
      ],
      "metadata": {
        "colab": {
          "base_uri": "https://localhost:8080/"
        },
        "id": "8qhxDEF_hfui",
        "outputId": "1133610e-9fd1-42a3-a588-614c40050d69"
      },
      "execution_count": null,
      "outputs": [
        {
          "output_type": "stream",
          "name": "stdout",
          "text": [
            "[1, 2, 'a', 'b']\n"
          ]
        }
      ]
    },
    {
      "cell_type": "code",
      "source": [
        "#กำหนดให้ list2 = ['ant', 'bird', 'cat', 'dog', 'eagle']\n",
        "#จงเขียนโปรแกรมเพื่อเปลี่ยนค่าสมาชิกใน index ที่ 3 เป็น 'duck'\n",
        "#หลังจากนั้นให้พิมพ์ list2 ออกมา\n",
        "list2 = ['ant', 'bird', 'cat', 'dog', 'eagle']\n",
        "list2[3] = 'duck'\n",
        "print(list2)"
      ],
      "metadata": {
        "id": "4fHyEFTLDSHT",
        "colab": {
          "base_uri": "https://localhost:8080/"
        },
        "outputId": "c3c535d4-bcfb-4d09-d973-3586ecfdae63"
      },
      "execution_count": null,
      "outputs": [
        {
          "output_type": "stream",
          "name": "stdout",
          "text": [
            "['ant', 'bird', 'cat', 'duck', 'eagle']\n"
          ]
        }
      ]
    },
    {
      "cell_type": "code",
      "source": [
        "#กำหนดให้ list2 = ['ant', 'bird', 'cat', 'dog', 'eagle']\n",
        "#จงเขียนโปรแกรมเพื่อเปลี่ยนค่า 'ant' เป็น 'ape'\n",
        "#หลังจากนั้นให้พิมพ์ list2 ออกมา\n",
        "list2 = ['ant', 'bird', 'cat', 'dog', 'eagle']\n",
        "list2[0] = 'ape'\n",
        "print(list2)"
      ],
      "metadata": {
        "id": "kX7jDaa3DSEn",
        "colab": {
          "base_uri": "https://localhost:8080/"
        },
        "outputId": "9792be27-1fdd-4d4a-a7c1-9108da7d412c"
      },
      "execution_count": null,
      "outputs": [
        {
          "output_type": "stream",
          "name": "stdout",
          "text": [
            "['ape', 'bird', 'cat', 'dog', 'eagle']\n"
          ]
        }
      ]
    },
    {
      "cell_type": "code",
      "source": [
        "#กำหนดให้ list2 = ['ant', 'bird', 'cat', 'dog', 'eagle']\n",
        "#จงเขียนโปรแกรมเพื่อเพิ่ม 'fish' เป็นสมาชิกตัวสุดท้ายของ list2\n",
        "#หลังจากนั้นให้พิมพ์ list2 ออกมา\n",
        "list2 = ['ant', 'bird', 'cat', 'dog', 'eagle']\n",
        "list2.append('fish')\n",
        "print(list2)"
      ],
      "metadata": {
        "id": "JQvdxmu5DR8J",
        "colab": {
          "base_uri": "https://localhost:8080/"
        },
        "outputId": "32d919db-dbfa-46ec-b8d7-dde72a1303a4"
      },
      "execution_count": null,
      "outputs": [
        {
          "output_type": "stream",
          "name": "stdout",
          "text": [
            "['ant', 'bird', 'cat', 'dog', 'eagle', 'fish']\n"
          ]
        }
      ]
    },
    {
      "cell_type": "code",
      "source": [
        "#เขียนโปรแกรมสร้าง list ว่าง และรับ input 3 ตัวที่เป็นสายอักขระ (str1, str2, str3)\n",
        "#จากนั้นให้ทำการเพิ่มสายอักขระทั้งสามไปเป็นสมาชิกของ list โดยใช้ append แล้วให้พิมพ์ list ออกมา\n",
        "list4 = []\n",
        "a = input()\n",
        "list4.append(a)\n",
        "a = input()\n",
        "list4.append(a)\n",
        "a = input()\n",
        "list4.append(a)\n",
        "print(list4)"
      ],
      "metadata": {
        "id": "6-xSmvH4DfNj",
        "colab": {
          "base_uri": "https://localhost:8080/"
        },
        "outputId": "aa228c97-c584-455a-ed32-b817fe15c417"
      },
      "execution_count": null,
      "outputs": [
        {
          "output_type": "stream",
          "name": "stdout",
          "text": [
            "aaa\n",
            "bbb\n",
            "ccc\n",
            "['aaa', 'bbb', 'ccc']\n"
          ]
        }
      ]
    },
    {
      "cell_type": "code",
      "source": [
        "#กำหนดให้ list3 = ['apple', 'cherry', 'eggfruit']\n",
        "#จงเขียนโปรแกรมเพื่อแทรก banana ไปเป็นสมาชิกใน index ที่ 1 ของ list3\n",
        "#หลังจากนั้นให้พิมพ์ list3 ออกมา\n",
        "list3 = ['apple', 'cherry', 'eggfruit']\n",
        "list3.insert(1, 'banana')\n",
        "print(list3)"
      ],
      "metadata": {
        "id": "9DElLmpTDfKW",
        "colab": {
          "base_uri": "https://localhost:8080/"
        },
        "outputId": "8aa630c8-3ac2-4d42-a37c-e4c341a8b9a5"
      },
      "execution_count": null,
      "outputs": [
        {
          "output_type": "stream",
          "name": "stdout",
          "text": [
            "['apple', 'banana', 'cherry', 'eggfruit']\n"
          ]
        }
      ]
    },
    {
      "cell_type": "code",
      "source": [
        "#กำหนดให้ list3 = ['apple', 'banana', 'cherry', 'eggfruit']\n",
        "#จงเขียนโปรแกรมเพื่อแทรก kiwi ไปเป็นสมาชิกใน index ที่ -2 ของ list3\n",
        "#หลังจากนั้นให้พิมพ์ list3 ออกมา\n",
        "list3 = ['apple', 'banana', 'cherry', 'eggfruit']\n",
        "list3.insert(-2, 'kiwi')\n",
        "print(list3)"
      ],
      "metadata": {
        "id": "yd6Hafd5DfHl",
        "colab": {
          "base_uri": "https://localhost:8080/"
        },
        "outputId": "d6dbd751-198c-421f-a329-e6571de16524"
      },
      "execution_count": null,
      "outputs": [
        {
          "output_type": "stream",
          "name": "stdout",
          "text": [
            "['apple', 'banana', 'kiwi', 'cherry', 'eggfruit']\n"
          ]
        }
      ]
    },
    {
      "cell_type": "code",
      "source": [
        "#กำหนดให้ list4 = [0, 4, 2, 3, 1]\n",
        "#จงเขียนโปรแกรมเพื่อเรียงลำดับข้อมูลใน list4 จากน้อยไปมาก\n",
        "#หลังจากนั้นให้พิมพ์ list4 ออกมา\n",
        "list4 = [0, 4, 2, 3, 1]\n",
        "list4.sort()\n",
        "print(list4)"
      ],
      "metadata": {
        "id": "A0PMQndrDfEz",
        "colab": {
          "base_uri": "https://localhost:8080/"
        },
        "outputId": "4d27fc4d-d5db-4a4a-e28c-12f77e06b5b1"
      },
      "execution_count": null,
      "outputs": [
        {
          "output_type": "stream",
          "name": "stdout",
          "text": [
            "[0, 1, 2, 3, 4]\n"
          ]
        }
      ]
    },
    {
      "cell_type": "code",
      "source": [
        "#กำหนดให้ list4 = [0, 4, 2, 3, 1]\n",
        "#จงเขียนโปรแกรมเพื่อเรียงลำดับข้อมูลใน list4 จากมากไปน้อย\n",
        "#หลังจากนั้นให้พิมพ์ list4 ออกมา\n",
        "list4 = [0, 4, 2, 3, 1]\n",
        "list4.sort(reverse=True)\n",
        "print(list4)"
      ],
      "metadata": {
        "id": "fdTTtJCfDe9Q",
        "colab": {
          "base_uri": "https://localhost:8080/"
        },
        "outputId": "c3cd268f-85e5-4f70-bf0d-468cd5de8839"
      },
      "execution_count": null,
      "outputs": [
        {
          "output_type": "stream",
          "name": "stdout",
          "text": [
            "[4, 3, 2, 1, 0]\n"
          ]
        }
      ]
    },
    {
      "cell_type": "code",
      "source": [
        "#กำหนดให้ list4 = [0, 4, 2, 3, 1]\n",
        "#จงเขียนโปรแกรมเพื่อเรียงลำดับข้อมูลใน list4 จากน้อยไปมาก และเก็บค่าไว้ในตัวแปร sorted_list4\n",
        "#หลังจากนั้นให้พิมพ์ sorted_list4 ออกมา\n",
        "list4 = [0, 4, 2, 3, 1]\n",
        "sorted_list4 = sorted(list4)\n",
        "print(list4)\n",
        "print(sorted_list4)"
      ],
      "metadata": {
        "id": "zGq3J3qhDnUf",
        "colab": {
          "base_uri": "https://localhost:8080/"
        },
        "outputId": "06289891-cb68-49f0-d65d-5244926bf359"
      },
      "execution_count": null,
      "outputs": [
        {
          "output_type": "stream",
          "name": "stdout",
          "text": [
            "[0, 4, 2, 3, 1]\n",
            "[0, 1, 2, 3, 4]\n"
          ]
        }
      ]
    },
    {
      "cell_type": "code",
      "source": [
        "#กำหนดให้ list5 = ['d', 'a', 'c', 'b', 'e']\n",
        "#จงเขียนโปรแกรมเพื่อเรียงลำดับข้อมูลใน list5 จากมากไปน้อย\n",
        "#หลังจากนั้นให้พิมพ์ list5 ออกมา\n",
        "list5 = ['d', 'a', 'c', 'b', 'e']\n",
        "list5.sort()\n",
        "print(list5)"
      ],
      "metadata": {
        "id": "B4lQk1gQDnR4",
        "colab": {
          "base_uri": "https://localhost:8080/"
        },
        "outputId": "8411fc4b-fb92-4380-cbc9-c365e7d965ea"
      },
      "execution_count": null,
      "outputs": [
        {
          "output_type": "stream",
          "name": "stdout",
          "text": [
            "['a', 'b', 'c', 'd', 'e']\n"
          ]
        }
      ]
    },
    {
      "cell_type": "code",
      "source": [
        "#กำหนดให้ list1 = ['a', 'b', 'c'] และ list2 = [0, 1, 2]\n",
        "#จงเขียนโปรแกรมเพื่อนำสมาชิกทั้งหมดของ list2 ไปต่อท้าย list1 และเก็บไว้ใน list3\n",
        "#จากนั้นให้พิมพ์ list1, list2 และ list3 ออกมา\n",
        "list1 = ['a', 'b', 'c']\n",
        "list2 = [0, 1, 2]\n",
        "list3 = list1 + list2\n",
        "print(list1)\n",
        "print(list2)\n",
        "print(list3)"
      ],
      "metadata": {
        "id": "xuhimLX3DnPF",
        "colab": {
          "base_uri": "https://localhost:8080/"
        },
        "outputId": "a34f9b43-4512-448b-dfce-8ee6df4884d7"
      },
      "execution_count": null,
      "outputs": [
        {
          "output_type": "stream",
          "name": "stdout",
          "text": [
            "['a', 'b', 'c']\n",
            "[0, 1, 2]\n",
            "['a', 'b', 'c', 0, 1, 2]\n"
          ]
        }
      ]
    },
    {
      "cell_type": "code",
      "source": [
        "#กำหนดให้ list1 = [1, 2, 3, 1, 2, 3]\n",
        "#จงเขียนโปรแกรมลบสมาชิกใน index ที่ 2 ออกจาก list1 โดยใช้คำสั่ง del\n",
        "#หลังจากนั้นให้พิมพ์ list1 ออกมา\n",
        "list1 = [1, 2, 3, 1, 2, 3]\n",
        "del list1[2]\n",
        "print(list1)"
      ],
      "metadata": {
        "id": "1hwWqr2xDnMO",
        "colab": {
          "base_uri": "https://localhost:8080/"
        },
        "outputId": "c3efb2f8-32b4-458f-e548-41eddff2f2d7"
      },
      "execution_count": null,
      "outputs": [
        {
          "output_type": "stream",
          "name": "stdout",
          "text": [
            "[1, 2, 1, 2, 3]\n"
          ]
        }
      ]
    },
    {
      "cell_type": "code",
      "source": [
        "#กำหนดให้ list1 = [1, 2, 3, 1, 2, 3]\n",
        "#จงเขียนโปรแกรมลบ 3 ทั้งหมดออกจาก list1 โดยใช้คำสั่ง del\n",
        "#หลังจากนั้นให้พิมพ์ list1 ออกมา\n",
        "list1 = [1, 2, 3, 1, 2, 3]\n",
        "del list1[2]\n",
        "del list1[-1]\n",
        "print(list1)"
      ],
      "metadata": {
        "id": "zohc-zwJDnJe",
        "colab": {
          "base_uri": "https://localhost:8080/"
        },
        "outputId": "a4eda42c-29bf-48ec-ac9e-a19be7c94aed"
      },
      "execution_count": null,
      "outputs": [
        {
          "output_type": "stream",
          "name": "stdout",
          "text": [
            "[1, 2, 1, 2]\n"
          ]
        }
      ]
    },
    {
      "cell_type": "code",
      "source": [
        "#กำหนดให้ list1 = [1, 2, 3, 1, 2, 3]\n",
        "#จงเขียนโปรแกรมลบ 1 ทั้งหมดออกจาก list1 โดยใช้ remove\n",
        "#หลังจากนั้นให้พิมพ์ list1 ออกมา\n",
        "list1 = [1, 2, 3, 1, 2, 3]\n",
        "list1.remove(1)\n",
        "list1.remove(1)\n",
        "print(list1)"
      ],
      "metadata": {
        "id": "1Uy3EGBSDnGt",
        "colab": {
          "base_uri": "https://localhost:8080/"
        },
        "outputId": "98757204-d222-47a2-817b-3eb8f72dbdea"
      },
      "execution_count": null,
      "outputs": [
        {
          "output_type": "stream",
          "name": "stdout",
          "text": [
            "[2, 3, 2, 3]\n"
          ]
        }
      ]
    },
    {
      "cell_type": "code",
      "source": [
        "#กำหนดให้ list1 = [1, 2, 3, 4, 5]\n",
        "#จงเขียนโปรแกรมรับอินพุต 1 ตัวที่เป็นจำนวนเต็ม (num1) ให้ตรวจสอบว่า num1 เป็นสมาชิกใน list1 หรือไม่\n",
        "#แล้วให้พิมพ์ผลการตรวจสอบออกมา\n",
        "list1 = [1, 2, 3, 4, 5]\n",
        "num1 = int(input())\n",
        "print(num1 in list1)"
      ],
      "metadata": {
        "id": "bxBexJ2rDyla",
        "colab": {
          "base_uri": "https://localhost:8080/"
        },
        "outputId": "36ab6062-cddf-44a8-c4c0-c519f2a725bf"
      },
      "execution_count": null,
      "outputs": [
        {
          "output_type": "stream",
          "name": "stdout",
          "text": [
            "7\n",
            "False\n"
          ]
        }
      ]
    },
    {
      "cell_type": "markdown",
      "source": [
        "### (Tuple)"
      ],
      "metadata": {
        "id": "-K8DEAlID7I6"
      }
    },
    {
      "cell_type": "code",
      "source": [
        "#กำหนดให้ tuple1 = ('America', 'Brazil', 'China', 'Dominican', 'Egypt')\n",
        "#จงเขียนโปรแกรมเพื่อพิมพ์สมาชิกที่ index เป็น -2 ออกมา\n",
        "tuple1 = ('America', 'Brazil', 'China', 'Dominican', 'Egypt')\n",
        "print(tuple1[-2])"
      ],
      "metadata": {
        "id": "P8TKu24yDyi-",
        "colab": {
          "base_uri": "https://localhost:8080/"
        },
        "outputId": "879e9f5d-c700-4b8e-e790-22e6228c1169"
      },
      "execution_count": null,
      "outputs": [
        {
          "output_type": "stream",
          "name": "stdout",
          "text": [
            "Dominican\n"
          ]
        }
      ]
    },
    {
      "cell_type": "code",
      "source": [
        "#กำหนดให้ tuple1 = ('America', 'Brazil', 'China', 'Dominican', 'Egypt')\n",
        "#จงเขียนโปรแกรมเพื่อพิมพ์ Egypt ออกมา\n",
        "tuple1 = ('America', 'Brazil', 'China', 'Dominican', 'Egypt')\n",
        "print(tuple1[-1])"
      ],
      "metadata": {
        "id": "zg8VSzwJDygq",
        "colab": {
          "base_uri": "https://localhost:8080/"
        },
        "outputId": "9eb0baae-88fe-436f-d763-02d4f3db540a"
      },
      "execution_count": null,
      "outputs": [
        {
          "output_type": "stream",
          "name": "stdout",
          "text": [
            "Egypt\n"
          ]
        }
      ]
    },
    {
      "cell_type": "code",
      "source": [
        "#กำหนดให้ tuple2 = ('one', 'two', 'three', 1, 2, 3)\n",
        "#จงเขียนโปรแกรมเพื่อพิมพ์สมาชิกที่ index ที่ 2 ถึง -1 ออกมา\n",
        "tuple2 = ('one', 'two', 'three', 1, 2, 3)\n",
        "print(tuple2[2:])"
      ],
      "metadata": {
        "id": "xerQAuhYDydU",
        "colab": {
          "base_uri": "https://localhost:8080/"
        },
        "outputId": "34ea23cb-7915-4792-99ca-92bbb1add90f"
      },
      "execution_count": null,
      "outputs": [
        {
          "output_type": "stream",
          "name": "stdout",
          "text": [
            "('three', 1, 2, 3)\n"
          ]
        }
      ]
    },
    {
      "cell_type": "code",
      "source": [
        "#กำหนดให้ tuple2 = ('one', 'two', 'three', 1, 2, 3)\n",
        "#จงเขียนโปรแกรมเพื่อพิมพ์ three และ 1 ออกมา\n",
        "tuple2 = ('one', 'two', 'three', 1, 2, 3)\n",
        "print(tuple2[-4:-2])        #มีหลายวิธีนะ"
      ],
      "metadata": {
        "id": "LnZOeIrLEGfH",
        "colab": {
          "base_uri": "https://localhost:8080/"
        },
        "outputId": "ea11748f-ed38-49e6-8dd6-3f1dd7ee934a"
      },
      "execution_count": null,
      "outputs": [
        {
          "output_type": "stream",
          "name": "stdout",
          "text": [
            "('three', 1)\n"
          ]
        }
      ]
    },
    {
      "cell_type": "code",
      "source": [
        "#กำหนดให้ tuple3 = ('one', 'two', 'three', 'four', 'five')\n",
        "#จงเขียนโปรแกรมเพื่อหาจำนวนสมาชิกของ tuple3 ออกมา\n",
        "tuple3 = ('one', 'two', 'three', 'four', 'five')\n",
        "print(len(tuple3))"
      ],
      "metadata": {
        "id": "QB_kVUkIEIio",
        "colab": {
          "base_uri": "https://localhost:8080/"
        },
        "outputId": "cb6aa5b6-a0bd-4e77-9b63-4a203c3b8d32"
      },
      "execution_count": null,
      "outputs": [
        {
          "output_type": "stream",
          "name": "stdout",
          "text": [
            "5\n"
          ]
        }
      ]
    },
    {
      "cell_type": "code",
      "source": [
        "#กำหนดให้ tuple3 = ('one', 'two', 'three', 'four', 'five')\n",
        "#จงเขียนโปรแกรมรับอินพุต 1 ตัวที่เป็น string (str1) ให้ตรวจสอบว่า str1 เป็นสมาชิกใน tuple3 หรือไม่\n",
        "#แล้วให้พิมพ์ผลการตรวจสอบออกมา\n",
        "tuple3 = ('one', 'two', 'three', 'four', 'five')\n",
        "str1 = input()\n",
        "print(str1 in tuple3)"
      ],
      "metadata": {
        "id": "2Y671DbpEIfm",
        "colab": {
          "base_uri": "https://localhost:8080/"
        },
        "outputId": "e63902c3-3227-4040-a122-d8ee99dbca48"
      },
      "execution_count": null,
      "outputs": [
        {
          "output_type": "stream",
          "name": "stdout",
          "text": [
            "six\n",
            "False\n"
          ]
        }
      ]
    },
    {
      "cell_type": "markdown",
      "source": [
        "# 18 August 2022 หยุดวันวิทยาศาสตร์"
      ],
      "metadata": {
        "id": "de6Sg4kqQxKK"
      }
    },
    {
      "cell_type": "markdown",
      "source": [
        "# Week07: 17 August 2022 (ทบทวนเนื้อหาครึ่งแรก)"
      ],
      "metadata": {
        "id": "u0AUjtnOPcZo"
      }
    },
    {
      "cell_type": "markdown",
      "source": [
        "## การบ้าน\n",
        "ให้ฝึกเขียน Code จากโจทย์"
      ],
      "metadata": {
        "id": "K230CkVWQjqb"
      }
    },
    {
      "cell_type": "code",
      "source": [
        "#EX0502 จงเขียนฟังก์ชัน max3() เพื่อแสดง ตัวเลขที่มีค่าที่สูงที่สุด 3 ค่าจาก argument\n",
        "#ที่ส่งใน function call การแสดงผลต้องเรียงลำดับจากน้อยไปมาก แยกตัวเลขละบรรทัด"
      ],
      "metadata": {
        "id": "HMfqu7aFQjUz"
      },
      "execution_count": null,
      "outputs": []
    },
    {
      "cell_type": "code",
      "source": [
        "#EX0503 จากโจทย์ EX0501 จงหา แสดงรายการเป็น ผลต่างยกกำลังสอง"
      ],
      "metadata": {
        "id": "x6iPUB3DzR1K"
      },
      "execution_count": null,
      "outputs": []
    },
    {
      "cell_type": "code",
      "source": [
        "#EX0504 จากโจทย์ EX0503 จงหาผลรวมของผลต่างยกกำลังสองของทุกคน แล้วแสดงค่า รากที่สองของผลรวมนั้น"
      ],
      "metadata": {
        "id": "Z051SCfHzYqb"
      },
      "execution_count": null,
      "outputs": []
    },
    {
      "cell_type": "code",
      "source": [
        "#EX0505 จงเขียนโปรแกรมเพื่อหาค่าเบี่ยงเบนมาตรฐานของผลการเรียนของนักศึกษาตามรูปแบบข้อมูลนำเข้าข้อ EX0501"
      ],
      "metadata": {
        "id": "zYvqKNmTzb-Q"
      },
      "execution_count": null,
      "outputs": []
    },
    {
      "cell_type": "markdown",
      "source": [
        "## Midterm Exam"
      ],
      "metadata": {
        "id": "x8G9bGWSQZ3C"
      }
    },
    {
      "cell_type": "code",
      "source": [
        "#1.1\n",
        "birth_year = int(input(\"ค.ศ.เกิดของคุณ: \"))\n",
        "print(\"พ.ศ.เกิดของคุณคือ \", birth_year+543)"
      ],
      "metadata": {
        "id": "f8ednanpPR2O",
        "colab": {
          "base_uri": "https://localhost:8080/"
        },
        "outputId": "68531b93-ce59-4fad-8940-471cb34bf6b0"
      },
      "execution_count": null,
      "outputs": [
        {
          "output_type": "stream",
          "name": "stdout",
          "text": [
            "ค.ศ.เกิดของคุณ: 1990\n",
            "พ.ศ.เกิดของคุณคือ  2533\n"
          ]
        }
      ]
    },
    {
      "cell_type": "code",
      "source": [
        "#1.3\n",
        "a, b, c, d = eval(input())\n",
        "print(d*a**b**d-c*d%b)"
      ],
      "metadata": {
        "colab": {
          "base_uri": "https://localhost:8080/"
        },
        "id": "dlCzz4gnlj2X",
        "outputId": "104d51e7-636c-4d7e-bbd2-bb6af4cbb3c3"
      },
      "execution_count": null,
      "outputs": [
        {
          "output_type": "stream",
          "name": "stdout",
          "text": [
            "2,3,4,1\n",
            "7\n"
          ]
        }
      ]
    },
    {
      "cell_type": "code",
      "source": [
        "#2.6\n",
        "n = int(input())\n",
        "#for i in range(n):\n",
        "#  print(2*i)\n",
        "\n",
        "for i in range(0, 2*n, 2):\n",
        "  print(i)"
      ],
      "metadata": {
        "colab": {
          "base_uri": "https://localhost:8080/"
        },
        "id": "FVa4BUjsoGPw",
        "outputId": "b47ed904-de97-4fb7-daa4-9b91bb804fd3"
      },
      "execution_count": null,
      "outputs": [
        {
          "output_type": "stream",
          "name": "stdout",
          "text": [
            "4\n",
            "0\n",
            "2\n",
            "4\n",
            "6\n"
          ]
        }
      ]
    },
    {
      "cell_type": "code",
      "source": [
        "#3.1\n",
        "st = input()\n",
        "c = 0\n",
        "for i in st:\n",
        "  c = c + 1\n",
        "\n",
        "print(c)"
      ],
      "metadata": {
        "colab": {
          "base_uri": "https://localhost:8080/"
        },
        "id": "IHfUCt7npIOE",
        "outputId": "f7a62542-8c11-4dbb-c08c-30c7b332cd11"
      },
      "execution_count": null,
      "outputs": [
        {
          "output_type": "stream",
          "name": "stdout",
          "text": [
            "infinity war\n",
            "12\n"
          ]
        }
      ]
    },
    {
      "cell_type": "code",
      "source": [
        "#3.2\n",
        "st = input()\n",
        "f = st[0]\n",
        "st = st.replace(f, '@')\n",
        "st = f + st[1:]\n",
        "print(st)"
      ],
      "metadata": {
        "colab": {
          "base_uri": "https://localhost:8080/"
        },
        "id": "s6-KT38Zq0dt",
        "outputId": "a2033b0d-6cc6-440f-f193-8702b8e56892"
      },
      "execution_count": null,
      "outputs": [
        {
          "output_type": "stream",
          "name": "stdout",
          "text": [
            "infinity war\n",
            "inf@n@ty war\n"
          ]
        }
      ]
    },
    {
      "cell_type": "code",
      "source": [
        "#3.3\n",
        "st = input()\n",
        "n = int(input())\n",
        "f = st[0:n]\n",
        "l = st[n+1:]\n",
        "print(f+l)"
      ],
      "metadata": {
        "colab": {
          "base_uri": "https://localhost:8080/"
        },
        "id": "GWsoPq7Es4rj",
        "outputId": "fb2ee93b-14e1-4820-e383-890126be6600"
      },
      "execution_count": null,
      "outputs": [
        {
          "output_type": "stream",
          "name": "stdout",
          "text": [
            "infinity Way\n",
            "5\n",
            "infinty Way\n"
          ]
        }
      ]
    },
    {
      "cell_type": "code",
      "source": [
        "#3.4\n",
        "num = eval(input())\n",
        "#print(num)\n",
        "sum = 0\n",
        "for i in num:\n",
        "  sum = sum + i\n",
        "\n",
        "print(sum)"
      ],
      "metadata": {
        "colab": {
          "base_uri": "https://localhost:8080/"
        },
        "id": "BxnTVmett61D",
        "outputId": "6049d0a2-668a-4ed7-e0f3-8fd276c9170d"
      },
      "execution_count": null,
      "outputs": [
        {
          "output_type": "stream",
          "name": "stdout",
          "text": [
            "2,3,5\n",
            "10\n"
          ]
        }
      ]
    },
    {
      "cell_type": "code",
      "source": [
        "def greeting(age, name):\n",
        "  for i in range(age//10):\n",
        "    print(\"Have a good day\", name)\n",
        "\n",
        "age = int(input())\n",
        "name = input()\n",
        "greeting(age, name)"
      ],
      "metadata": {
        "colab": {
          "base_uri": "https://localhost:8080/"
        },
        "id": "GD7XlfW4u1gL",
        "outputId": "83b46e70-5d3b-461f-9e6f-4ce9106867fa"
      },
      "execution_count": null,
      "outputs": [
        {
          "output_type": "stream",
          "name": "stdout",
          "text": [
            "20\n",
            "Nadh\n",
            "Have a good day Nadh\n",
            "Have a good day Nadh\n"
          ]
        }
      ]
    },
    {
      "cell_type": "markdown",
      "source": [
        "## ฟังก์ชัน"
      ],
      "metadata": {
        "id": "CxIwNEZoP71X"
      }
    },
    {
      "cell_type": "code",
      "source": [
        "def xxx(name):\n",
        "  print('Hello', name)\n",
        "  return \"คณะวิทยาศาสตร์\"\n",
        "\n",
        "fac = xxx(\"อณัฏฐ์\")\n",
        "print(\"คุณสังกัด\", fac)"
      ],
      "metadata": {
        "id": "GfQ_cJm_PRsV",
        "colab": {
          "base_uri": "https://localhost:8080/"
        },
        "outputId": "2ffbed88-47d3-4d67-a73c-98f3028ca33a"
      },
      "execution_count": null,
      "outputs": [
        {
          "output_type": "stream",
          "name": "stdout",
          "text": [
            "Hello อณัฏฐ์\n",
            "คุณสังกัด คณะวิทยาศาสตร์\n"
          ]
        }
      ]
    },
    {
      "cell_type": "markdown",
      "source": [
        "## List"
      ],
      "metadata": {
        "id": "rSug5uhoQBAx"
      }
    },
    {
      "cell_type": "code",
      "source": [
        "a = [3, 4, 5]\n",
        "print(sum(a))\n",
        "for i in a:\n",
        "  print(i, end=',')"
      ],
      "metadata": {
        "id": "09QT4IPjQF3e",
        "colab": {
          "base_uri": "https://localhost:8080/"
        },
        "outputId": "2a7d4768-3fa1-47d3-9e52-1499a6a6bad3"
      },
      "execution_count": null,
      "outputs": [
        {
          "output_type": "stream",
          "name": "stdout",
          "text": [
            "12\n",
            "3,4,5,"
          ]
        }
      ]
    },
    {
      "cell_type": "markdown",
      "source": [
        "## Strings"
      ],
      "metadata": {
        "id": "r8ufBwnYQGOx"
      }
    },
    {
      "cell_type": "code",
      "source": [
        "name = \"a b c\"\n",
        "s = '5+6+7'\n",
        "a = name.split()\n",
        "print(a)\n",
        "b = s.split(\"+\")\n",
        "print(b)"
      ],
      "metadata": {
        "id": "8iT5Vz_hQIIg",
        "colab": {
          "base_uri": "https://localhost:8080/"
        },
        "outputId": "3f20b6ba-8754-45da-b4da-8574222ea0d9"
      },
      "execution_count": null,
      "outputs": [
        {
          "output_type": "stream",
          "name": "stdout",
          "text": [
            "['a', 'b', 'c']\n",
            "['5', '6', '7']\n"
          ]
        }
      ]
    },
    {
      "cell_type": "markdown",
      "source": [
        "## Numbers"
      ],
      "metadata": {
        "id": "oo5X7ag5QKRY"
      }
    },
    {
      "cell_type": "code",
      "source": [
        "a, b, c = eval(input())\n",
        "print(a+b+c)"
      ],
      "metadata": {
        "id": "x0afSuA5QJ51",
        "colab": {
          "base_uri": "https://localhost:8080/"
        },
        "outputId": "f7ea8ffd-3bfc-4bb0-b54d-fc759ad38669"
      },
      "execution_count": null,
      "outputs": [
        {
          "output_type": "stream",
          "name": "stdout",
          "text": [
            "5,9,7\n",
            "21\n"
          ]
        }
      ]
    },
    {
      "cell_type": "markdown",
      "source": [
        "## Input & Output"
      ],
      "metadata": {
        "id": "elKI7sQOQRni"
      }
    },
    {
      "cell_type": "code",
      "source": [
        "x = int(input(\"กรอกค่า x \"))\n",
        "print(x+50)"
      ],
      "metadata": {
        "id": "LPirVxZcQRVB",
        "colab": {
          "base_uri": "https://localhost:8080/"
        },
        "outputId": "f14d867b-69df-4075-b858-2929f436ea5c"
      },
      "execution_count": null,
      "outputs": [
        {
          "output_type": "stream",
          "name": "stdout",
          "text": [
            "กรอกค่า x 5\n",
            "55\n"
          ]
        }
      ]
    },
    {
      "cell_type": "markdown",
      "source": [
        "# 1-11 August 2022 Midterm"
      ],
      "metadata": {
        "id": "zynUaP8IPSVD"
      }
    },
    {
      "cell_type": "markdown",
      "source": [
        "# Week06: 27 July 2022 (Functions & Common Packages)"
      ],
      "metadata": {
        "id": "ONIvIZk7-qF8"
      }
    },
    {
      "cell_type": "markdown",
      "source": [
        "## (in lab)"
      ],
      "metadata": {
        "id": "qPvtH9IA_tWp"
      }
    },
    {
      "cell_type": "markdown",
      "source": [
        "### เริ่มต้นกับฟังก์ชัน"
      ],
      "metadata": {
        "id": "ZbS7bxVW_AFD"
      }
    },
    {
      "cell_type": "code",
      "source": [],
      "metadata": {
        "id": "p3NjEN8C-p1y"
      },
      "execution_count": null,
      "outputs": []
    },
    {
      "cell_type": "markdown",
      "source": [
        "### ฟังชั่นแบบ***ไม่มี parameter***"
      ],
      "metadata": {
        "id": "vd5GsrMc_RGq"
      }
    },
    {
      "cell_type": "code",
      "source": [],
      "metadata": {
        "id": "3ofbuioA-pvg"
      },
      "execution_count": null,
      "outputs": []
    },
    {
      "cell_type": "markdown",
      "source": [
        "### ฟังชั่นแบบ***มี parameter***"
      ],
      "metadata": {
        "id": "YbpqkGXO_Wlh"
      }
    },
    {
      "cell_type": "code",
      "source": [],
      "metadata": {
        "id": "ekpYgmpC-png"
      },
      "execution_count": null,
      "outputs": []
    },
    {
      "cell_type": "markdown",
      "source": [
        "### ฟังชั่นแบบ***มี parameter มากกว่า 1***"
      ],
      "metadata": {
        "id": "qtqzq49k_aqd"
      }
    },
    {
      "cell_type": "code",
      "source": [],
      "metadata": {
        "id": "gphHefr4_Yuc"
      },
      "execution_count": null,
      "outputs": []
    },
    {
      "cell_type": "markdown",
      "source": [
        "### 5.10 Exercises"
      ],
      "metadata": {
        "id": "PlvCBxc-_d2I"
      }
    },
    {
      "cell_type": "code",
      "source": [],
      "metadata": {
        "id": "4KYxQJPU_YlE"
      },
      "execution_count": null,
      "outputs": []
    },
    {
      "cell_type": "markdown",
      "source": [
        "### ฟังก์ชั่นที่มีการ return ค่า"
      ],
      "metadata": {
        "id": "HA2PSMup_hxy"
      }
    },
    {
      "cell_type": "code",
      "source": [],
      "metadata": {
        "id": "EQCNTJSo_X0o"
      },
      "execution_count": null,
      "outputs": []
    },
    {
      "cell_type": "markdown",
      "source": [
        "### Common Packages"
      ],
      "metadata": {
        "id": "EbEWZwJZ_6Dc"
      }
    },
    {
      "cell_type": "code",
      "source": [],
      "metadata": {
        "id": "DsPavzf0_5kr"
      },
      "execution_count": null,
      "outputs": []
    },
    {
      "cell_type": "markdown",
      "source": [
        "## (การบ้าน)"
      ],
      "metadata": {
        "id": "jnayoRhW_kPq"
      }
    },
    {
      "cell_type": "code",
      "source": [],
      "metadata": {
        "id": "pgNG9v5j_lfr"
      },
      "execution_count": null,
      "outputs": []
    },
    {
      "cell_type": "markdown",
      "source": [
        "# Week05: 21 July 2022 (Data Types: List)"
      ],
      "metadata": {
        "id": "i08cIOiGAvT6"
      }
    },
    {
      "cell_type": "markdown",
      "source": [
        "## (in lab)"
      ],
      "metadata": {
        "id": "gTfh9HptA1QO"
      }
    },
    {
      "cell_type": "code",
      "source": [
        "n = int(input('จะวนรับกี่รอบ : '))\n",
        "list1 = []\n",
        "for i in range(n):\n",
        "    x = int(input())\n",
        "    list1.append(x)\n",
        "\n",
        "print(list1)\n"
      ],
      "metadata": {
        "id": "NwUbf-lZChvv",
        "colab": {
          "base_uri": "https://localhost:8080/"
        },
        "outputId": "4dda0600-8311-4474-ba11-32a2f013303b"
      },
      "execution_count": null,
      "outputs": [
        {
          "output_type": "stream",
          "name": "stdout",
          "text": [
            "จะวนรับกี่รอบ : 2\n",
            "5\n",
            "6\n",
            "[5, 6]\n"
          ]
        }
      ]
    },
    {
      "cell_type": "code",
      "source": [
        "s = \"2.55, 3.40, 3.55, 2.95, 3.00, 3.25\"\n",
        "S = s.split(',')\n",
        "print(S)\n",
        "\n",
        "list1 = []\n",
        "for i in S:\n",
        "  list1.append(float(i))\n",
        "\n",
        "print(list1)\n",
        "print(sum(list1))\n",
        "print(min(list1))\n",
        "print(len(list1))"
      ],
      "metadata": {
        "colab": {
          "base_uri": "https://localhost:8080/"
        },
        "id": "PqnNUevgk_jK",
        "outputId": "317adecb-8053-4e66-9a3a-ab228ced416f"
      },
      "execution_count": null,
      "outputs": [
        {
          "output_type": "stream",
          "name": "stdout",
          "text": [
            "['2.55', ' 3.40', ' 3.55', ' 2.95', ' 3.00', ' 3.25']\n",
            "[2.55, 3.4, 3.55, 2.95, 3.0, 3.25]\n",
            "18.7\n",
            "2.55\n",
            "6\n"
          ]
        }
      ]
    },
    {
      "cell_type": "code",
      "source": [
        "#4.21. ตัวอย่างการเขียนโปรแกรมเพื่อหาหลักสูตรที่มีเกรดเฉลี่ยสูงที่สุด\n",
        "#จงเขียนโปรแกรมเพื่อหาหลักสูตรที่มีเกรดเฉลี่ยรวมของนักศึกษาสูงที่สุด ผลลัพธ์ของโปรแกรมจะต้องแสดง เกรดเฉลี่ยของหลักสูตรที่สูงที่สุด\n",
        "\n",
        "n = int(input())              #รับค่าว่าจะวนกี่ครั้ง ตามตัวอย่าง คือ 3\n",
        "all_avg = []                   #ตัวแปรที่เป็นชนิดข้อมูล list กำหนดให้เริ่มต้นเป็นค่าว่าง จะไว้ใช้เก็บผลลัพธ์สุดท้าย คือค่าเฉลี่ยของแต่หลักสูตร หรือค่าเฉลี่ยของแต่ละแถว\n",
        "\n",
        "for i in range(n):             #วนทำ..บรรทัดที่ 8-15 ตามจำนวนรอบที่รับค่า n มา\n",
        "  line = input()                #รับค่าทั้งบรรทัด เช่น 2.55, 3.40, 3.55, 2.95, 3.00, 3.25\n",
        "  info = line.split(',')         #แบ่งสตริงด้วย , เก็บลงตัวแปร info (เป็นชนิด list)\n",
        "  gpa = []                       #ตัวแปรที่เป็นชนิดข้อมูล list กำหนดให้เริ่มต้นเป็นค่าว่าง จะไว้ใช้เก็บข้อมูลที่แปลงเป็น float\n",
        "  for e in info:                  #วนเพื่อแปลงค่าจากสตริง เป็น float\n",
        "    gpa.append(float(e))    #แปลงค่าสตริงเป็น float แล้วเก็บลงในลิสต์ gpa\n",
        "\n",
        "  avg = sum(gpa)/len(gpa) #หาค่าเฉลี่ยของแต่ละแถว\n",
        "  all_avg.append(avg)        #เก็บค่าเฉลี่ยลงไปในลิสต์ผลลัพธ์ (all_avg)\n",
        "\n",
        "print( max(all_avg) )         #พิมพ์ค่าที่มากที่สุดในลิสต์ all_avg"
      ],
      "metadata": {
        "id": "qYjPDhAHAvth",
        "colab": {
          "base_uri": "https://localhost:8080/"
        },
        "outputId": "19659a67-0b26-42df-f9b3-bb9c8f8b8ddc"
      },
      "execution_count": null,
      "outputs": [
        {
          "output_type": "stream",
          "name": "stdout",
          "text": [
            "3\n",
            "2.55, 3.40, 3.55, 2.95, 3.00, 3.25\n",
            "3.25, 2.40, 3.55, 3.95, 3.22, 3.53, 3.20, 3.32\n",
            "3.45, 3.22, 2.95, 3.95, 2.75, 3.66, 2.99, 3.34\n",
            "3.3024999999999998\n"
          ]
        }
      ]
    },
    {
      "cell_type": "code",
      "source": [
        "#EX0403 จงเขียนโปรแกรมเพื่อหาเกรดเฉลี่ยรวมที่น้อยที่สุดของทุกหลักสูตร\n",
        "n = int(input())\n",
        "all_avg = []\n",
        "for i in range(n):\n",
        "  info = input().split(',')\n",
        "  gpa = []\n",
        "  for e in info:\n",
        "    gpa.append( float(e) )\n",
        "\n",
        "  all_avg.append(sum(gpa)/len(gpa))\n",
        "\n",
        "print(min(all_avg))\n",
        "\n",
        "#ให้การบ้านไปเขียน flowchart & pseudocode"
      ],
      "metadata": {
        "id": "L2le9kmuAw0_",
        "colab": {
          "base_uri": "https://localhost:8080/"
        },
        "outputId": "68d713a1-ecb4-4cac-8921-9d1c8d038d22"
      },
      "execution_count": null,
      "outputs": [
        {
          "output_type": "stream",
          "name": "stdout",
          "text": [
            "2\n",
            "3.25, 2.40, 3.55, 3.95, 3.22, 3.53, 3.20, 3.32\n",
            "2.55, 3.40, 3.55, 2.95, 3.00, 3.25\n",
            "3.1166666666666667\n"
          ]
        }
      ]
    },
    {
      "cell_type": "markdown",
      "source": [
        "ให้เขียนโปรแกรมหาค่าเฉลี่ยของชุดตัวเลขที่รับเข้ามา ตามจำนวนชุดที่ผู้ใช้กรอก ตัวอย่างการแสดงผลเช่น <br>\n",
        "(ตัวอย่าง Input) <br>\n",
        "กรอกจำนวนชุด : 3 <br>\n",
        "4, 5, 9, 10 <br>\n",
        "3, 5, 5 <br>\n",
        "2, 4, 5, 6, 20, 24 <br>\n",
        "(ตัวอย่าง Output) <br>\n",
        "7.00<br>\n",
        "4.33<br>\n",
        "10.17"
      ],
      "metadata": {
        "id": "tVbcfDgGEZfv"
      }
    },
    {
      "cell_type": "code",
      "source": [
        "n = int(input())\n",
        "all_avg = []\n",
        "for i in range(n):\n",
        "  gpa = eval(input())\n",
        "  all_avg.append(sum(gpa)/len(gpa))\n",
        "\n",
        "print('----output----')\n",
        "for i in all_avg:\n",
        "  print(f'{i:.2f}')\n",
        "\n",
        "#ให้การบ้านไปเขียน flowchart & pseudocode"
      ],
      "metadata": {
        "colab": {
          "base_uri": "https://localhost:8080/"
        },
        "id": "fhWK6X-4tm9A",
        "outputId": "62a8bc21-ae19-4c5e-f5ff-fb790d15e74c"
      },
      "execution_count": null,
      "outputs": [
        {
          "output_type": "stream",
          "name": "stdout",
          "text": [
            "3\n",
            "4, 5, 9, 10\n",
            "3, 5, 5\n",
            "2, 4, 5, 6, 20, 24\n",
            "----output----\n",
            "7.00\n",
            "4.33\n",
            "10.17\n"
          ]
        }
      ]
    },
    {
      "cell_type": "code",
      "source": [],
      "metadata": {
        "id": "1-rR4wVotm6f"
      },
      "execution_count": null,
      "outputs": []
    },
    {
      "cell_type": "code",
      "source": [],
      "metadata": {
        "id": "wtkGWllPtm1m"
      },
      "execution_count": null,
      "outputs": []
    },
    {
      "cell_type": "code",
      "source": [
        "a = [ [2,'A'], [1,'B'], [3,'C'] ]\n",
        "a.sort()\n",
        "print(a)\n",
        "print(a[0][1])"
      ],
      "metadata": {
        "colab": {
          "base_uri": "https://localhost:8080/"
        },
        "id": "NsJ_I6NJtmg4",
        "outputId": "d604e2f9-b870-41d9-a6cd-40cb1e85488f"
      },
      "execution_count": null,
      "outputs": [
        {
          "output_type": "stream",
          "name": "stdout",
          "text": [
            "[[1, 'B'], [2, 'A'], [3, 'C']]\n",
            "B\n"
          ]
        }
      ]
    },
    {
      "cell_type": "code",
      "source": [
        "#ชนิดข้อมูลทุกอันที่สอนเมื่อวาน\n",
        "#ยกตัวอย่าง\n",
        "\n",
        "#int\n",
        "a = 20\n",
        "#float\n",
        "b = 3.50\n",
        "#string\n",
        "name = 'nadh'\n",
        "#list\n",
        "c = [1, 2, 3]\n",
        "#tuple\n",
        "d = (1, 2, 3)\n",
        "#set\n",
        "e = {1, 2, 3}\n",
        "#dict\n",
        "f = {1: 10, 2:30, 4:80}\n",
        "\n",
        "\n",
        "print(name[2])"
      ],
      "metadata": {
        "id": "23wocnpLEYWK",
        "colab": {
          "base_uri": "https://localhost:8080/"
        },
        "outputId": "6ec15427-3c58-4f60-f6da-8eb4877c7bfa"
      },
      "execution_count": null,
      "outputs": [
        {
          "output_type": "stream",
          "name": "stdout",
          "text": [
            "d\n"
          ]
        }
      ]
    },
    {
      "cell_type": "code",
      "source": [],
      "metadata": {
        "id": "QZT_Ux1nAwpj"
      },
      "execution_count": null,
      "outputs": []
    },
    {
      "cell_type": "markdown",
      "source": [
        "# Week05: 20 July 2022 (Data Types: String)"
      ],
      "metadata": {
        "id": "xLS6UGVjx_0u"
      }
    },
    {
      "cell_type": "markdown",
      "source": [
        "## (เฉลยการบ้าน)"
      ],
      "metadata": {
        "id": "652mSQ_7yR4v"
      }
    },
    {
      "cell_type": "code",
      "source": [
        "#EX0402 จงเขียนโปรแกรมเพื่อรับตัวเลขจากผู้ใช้แล้วแสดงชื่อเดือนตามหมายเลขนั้น (เดือนเริ่มจาก 1 เป็น January)\n",
        "months = \"January February March April May June July August September October November December\"\n",
        "Months = months.split(' ')\n",
        "n = int(input())\n",
        "print(Months[n-1])"
      ],
      "metadata": {
        "colab": {
          "base_uri": "https://localhost:8080/"
        },
        "id": "VeMiMOAx_533",
        "outputId": "4f3335d8-7fa4-469b-901f-ad595ebc82fe"
      },
      "execution_count": null,
      "outputs": [
        {
          "output_type": "stream",
          "name": "stdout",
          "text": [
            "1\n",
            "January\n"
          ]
        }
      ]
    },
    {
      "cell_type": "code",
      "source": [
        "#4.18. Exercises แสดงอักขระในช่วงต่อไปนี้\n",
        "#0x2654 ถึง 0x265F\n",
        "\n",
        "for c in range(0x2654, 0x265F+1):\n",
        "  print(chr(c), end=' ')\n",
        "print()"
      ],
      "metadata": {
        "colab": {
          "base_uri": "https://localhost:8080/"
        },
        "id": "tVjtaGXhACb3",
        "outputId": "18697e4e-b0c5-46dd-d8f8-dddc05fce833"
      },
      "execution_count": null,
      "outputs": [
        {
          "output_type": "stream",
          "name": "stdout",
          "text": [
            "♔ ♕ ♖ ♗ ♘ ♙ ♚ ♛ ♜ ♝ ♞ ♟ \n"
          ]
        }
      ]
    },
    {
      "cell_type": "code",
      "source": [
        "#0x2660 ถึง 0x2667\n",
        "for c in range(0x2660, 0x2667+1):\n",
        "  print(chr(c), end=' ')"
      ],
      "metadata": {
        "colab": {
          "base_uri": "https://localhost:8080/"
        },
        "id": "sUg9Q3UvACNU",
        "outputId": "5139a6e2-6e32-4588-8f01-f05d2a2defe0"
      },
      "execution_count": null,
      "outputs": [
        {
          "output_type": "stream",
          "name": "stdout",
          "text": [
            "♠ ♡ ♢ ♣ ♤ ♥ ♦ ♧ "
          ]
        }
      ]
    },
    {
      "cell_type": "markdown",
      "source": [
        "## (in lab)"
      ],
      "metadata": {
        "id": "Hw07itCIyPov"
      }
    },
    {
      "cell_type": "code",
      "source": [
        "name = 'nadh'\n",
        "surname = \"ditcharoen\"\n",
        "major = 'ศึกษาศาสตรบัณฑิต เอกเทคโนโลยี'\n",
        "list1 = [1,2,3]\n",
        "list2 = ['a', 'b', 'c']\n",
        "list3 = [2, 'aaa', 3.5]\n",
        "\n",
        "tuple1 = (1, 3, 4)\n",
        "tuple2 = ('aaa', 'bbb', 'กกก')\n",
        "\n",
        "set1 = {2, 3, 4}\n",
        "set2 = {'a', 'b', 'c'}\n",
        "\n",
        "dict1 = {\n",
        "              'key'   :  'value',\n",
        "              'key2' :  'value2',\n",
        "              'key3' :  'value3'\n",
        "            }"
      ],
      "metadata": {
        "id": "dmg2p0PLyBB1"
      },
      "execution_count": null,
      "outputs": []
    },
    {
      "cell_type": "code",
      "source": [
        "name = 'Paul Phoenix'\n",
        "print(name[5])\n",
        "print(name[8])\n",
        "\n",
        "print(name[len(name)-1])\n",
        "print(len(name))\n",
        "\n",
        "print(name[-1])\n",
        "print(name[-3])"
      ],
      "metadata": {
        "colab": {
          "base_uri": "https://localhost:8080/"
        },
        "id": "te0Rs1erSw76",
        "outputId": "faa8664f-23e9-48b3-f172-448f395e692b"
      },
      "execution_count": null,
      "outputs": [
        {
          "output_type": "stream",
          "name": "stdout",
          "text": [
            "P\n",
            "e\n",
            "x\n",
            "12\n",
            "x\n",
            "n\n"
          ]
        }
      ]
    },
    {
      "cell_type": "code",
      "source": [
        "name = 'Paul Phoenix'\n",
        "print(name[0:4])\n",
        "print(name[5:8])\n",
        "print(name[5:])\n",
        "print(name[:4])"
      ],
      "metadata": {
        "colab": {
          "base_uri": "https://localhost:8080/"
        },
        "id": "5P9ciKuSULL6",
        "outputId": "2002b55b-b923-40ee-a1dc-d72d2fc5a1ca"
      },
      "execution_count": null,
      "outputs": [
        {
          "output_type": "stream",
          "name": "stdout",
          "text": [
            "Paul\n",
            "Pho\n",
            "Phoenix\n",
            "Paul\n"
          ]
        }
      ]
    },
    {
      "cell_type": "code",
      "source": [
        "name = 'nadh'\n",
        "sname = 'ditcharoen'\n",
        "\n",
        "print(name + sname)\n",
        "\n",
        "print(name * 3)\n",
        "print(5*name)"
      ],
      "metadata": {
        "colab": {
          "base_uri": "https://localhost:8080/"
        },
        "id": "-5wsBvBhU_Uy",
        "outputId": "7a722fa0-f395-43d9-ae40-842f1873a15e"
      },
      "execution_count": null,
      "outputs": [
        {
          "output_type": "stream",
          "name": "stdout",
          "text": [
            "nadhditcharoen\n",
            "nadhnadhnadh\n",
            "nadhnadhnadhnadhnadh\n"
          ]
        }
      ]
    },
    {
      "cell_type": "code",
      "source": [
        "name = 'Paul Phoenix'\n",
        "for i in name:\n",
        "  print(i, end=',')"
      ],
      "metadata": {
        "colab": {
          "base_uri": "https://localhost:8080/"
        },
        "id": "gEX9Shg2Vd-a",
        "outputId": "3c15a687-4f12-4d30-ead0-2a03cfb86c45"
      },
      "execution_count": null,
      "outputs": [
        {
          "output_type": "stream",
          "name": "stdout",
          "text": [
            "P,a,u,l, ,P,h,o,e,n,i,x,"
          ]
        }
      ]
    },
    {
      "cell_type": "code",
      "source": [
        "for i in name:\n",
        "  print(i)"
      ],
      "metadata": {
        "colab": {
          "base_uri": "https://localhost:8080/"
        },
        "id": "aZWkBfPIV1hF",
        "outputId": "97276801-e721-4d9a-c91f-d7607c408ee3"
      },
      "execution_count": null,
      "outputs": [
        {
          "output_type": "stream",
          "name": "stdout",
          "text": [
            "P\n",
            "a\n",
            "u\n",
            "l\n",
            " \n",
            "P\n",
            "h\n",
            "o\n",
            "e\n",
            "n\n",
            "i\n",
            "x\n"
          ]
        }
      ]
    },
    {
      "cell_type": "code",
      "source": [
        "days = 'MonTueWedThuFriSatSun'\n",
        "print(days[0:3])   # 'Mon'\n",
        "print(days[3:6])   # 'Tue'\n",
        "print(days[6:9])   # 'Wed'\n",
        "print(days[9:12])  # 'Thu'\n",
        "print(days[12:15]) # 'Fri'\n",
        "print(days[15:18]) # 'Sat'\n",
        "print(days[18:21]) # 'Sun'"
      ],
      "metadata": {
        "colab": {
          "base_uri": "https://localhost:8080/"
        },
        "id": "1ODoAN72WQOR",
        "outputId": "ff45d2ab-f682-40a6-ad6c-f76f226aae45"
      },
      "execution_count": null,
      "outputs": [
        {
          "output_type": "stream",
          "name": "stdout",
          "text": [
            "Mon\n",
            "Tue\n",
            "Wed\n",
            "Thu\n",
            "Fri\n",
            "Sat\n",
            "Sun\n"
          ]
        }
      ]
    },
    {
      "cell_type": "code",
      "source": [
        "#โจทย์ จงเขียนโปรแกรมเพื่อรับตัวเลขจากผู้ใช้แล้วแสดงชื่อวัน\n",
        "days = 'SunMonTueWedThuFriSat'\n",
        "n = int(input())\n",
        "print(days[(n-1)*3:n*3])"
      ],
      "metadata": {
        "colab": {
          "base_uri": "https://localhost:8080/"
        },
        "id": "LDdaugSZWka6",
        "outputId": "76272d7f-aaa0-466a-fcaf-21656646174d"
      },
      "execution_count": null,
      "outputs": [
        {
          "output_type": "stream",
          "name": "stdout",
          "text": [
            "5\n",
            "Thu\n"
          ]
        }
      ]
    },
    {
      "cell_type": "code",
      "source": [
        "DAYS = 'จันทร์ อังคาร พุธ พฤหัสบดี ศุกร์ เสาร์ อาทิตย์'\n",
        "days = DAYS.split(' ')\n",
        "print(days)\n",
        "n = int(input())\n",
        "print(days[n-1])"
      ],
      "metadata": {
        "colab": {
          "base_uri": "https://localhost:8080/"
        },
        "id": "45yff7tLYHPr",
        "outputId": "334c5048-2f09-4ed8-864d-0e9274ea16aa"
      },
      "execution_count": null,
      "outputs": [
        {
          "output_type": "stream",
          "name": "stdout",
          "text": [
            "['จันทร์', 'อังคาร', 'พุธ', 'พฤหัสบดี', 'ศุกร์', 'เสาร์', 'อาทิตย์']\n",
            "3\n",
            "พุธ\n"
          ]
        }
      ]
    },
    {
      "cell_type": "code",
      "source": [
        "GPA = '3.40,2.55,3.00,3,3.65'\n",
        "gpas = GPA.split(',')\n",
        "\n",
        "print(gpas)\n",
        "\n",
        "list1 = []\n",
        "for i in gpas:\n",
        "  f = float(i)\n",
        "  list1.append(f)\n",
        "\n",
        "print(list1)\n",
        "print(sum(list1))\n",
        "print(sum(list1)/len(list1))"
      ],
      "metadata": {
        "colab": {
          "base_uri": "https://localhost:8080/"
        },
        "id": "RaOJaWQPY1Fs",
        "outputId": "5635f18e-80fb-4f35-ba26-2e5f48cdc020"
      },
      "execution_count": null,
      "outputs": [
        {
          "output_type": "stream",
          "name": "stdout",
          "text": [
            "['3.40', '2.55', '3.00', '3', '3.65']\n",
            "[3.4, 2.55, 3.0, 3.0, 3.65]\n",
            "15.6\n",
            "3.12\n"
          ]
        }
      ]
    },
    {
      "cell_type": "code",
      "source": [
        "x = input()\n",
        "y = x.split(' ')\n",
        "\n",
        "print(y)\n",
        "print(len(y))"
      ],
      "metadata": {
        "colab": {
          "base_uri": "https://localhost:8080/"
        },
        "id": "dY6pdbRmeJXs",
        "outputId": "b55c8f91-f09e-4212-88b3-43b194ccc6f5"
      },
      "execution_count": null,
      "outputs": [
        {
          "output_type": "stream",
          "name": "stdout",
          "text": [
            "my name is nadh\n",
            "['my', 'name', 'is', 'nadh']\n",
            "4\n"
          ]
        }
      ]
    },
    {
      "cell_type": "code",
      "source": [
        "len(input().split(' '))"
      ],
      "metadata": {
        "colab": {
          "base_uri": "https://localhost:8080/"
        },
        "id": "dqUUDAh_e5dz",
        "outputId": "fb849c7d-8339-4d2d-8539-82f404b01671"
      },
      "execution_count": null,
      "outputs": [
        {
          "name": "stdout",
          "output_type": "stream",
          "text": [
            "my name is nadh\n"
          ]
        },
        {
          "output_type": "execute_result",
          "data": {
            "text/plain": [
              "4"
            ]
          },
          "metadata": {},
          "execution_count": 43
        }
      ]
    },
    {
      "cell_type": "code",
      "source": [
        "#EX0402 จงเขียนโปรแกรมเพื่อรับตัวเลขจากผู้ใช้แล้วแสดงชื่อเดือนตามหมายเลขนั้น (เดือนเริ่มจาก 1 เป็น January)"
      ],
      "metadata": {
        "id": "yNkcq19KgHSk"
      },
      "execution_count": null,
      "outputs": []
    },
    {
      "cell_type": "code",
      "source": [
        "name = 'Paul'\n",
        "lastname = 'Phoenix'\n",
        "gpa = 3.123456\n",
        "print( f'GPA of {name} {lastname} is {gpa:5.2f}' )"
      ],
      "metadata": {
        "colab": {
          "base_uri": "https://localhost:8080/"
        },
        "id": "U9F2YKoVg60F",
        "outputId": "2685f5c5-ca97-40e6-d5da-9520c249ac97"
      },
      "execution_count": null,
      "outputs": [
        {
          "output_type": "stream",
          "name": "stdout",
          "text": [
            "GPA of Paul Phoenix is  3.12\n"
          ]
        }
      ]
    },
    {
      "cell_type": "code",
      "source": [
        "print('\\u0E01')\n",
        "print('\\u23F0 = ⏰')\n",
        "c = 0x23F0\n",
        "for i in range(10):\n",
        "    print(chr(c+i), end=' ')"
      ],
      "metadata": {
        "colab": {
          "base_uri": "https://localhost:8080/"
        },
        "id": "vnHQ3LHFiuxm",
        "outputId": "f6602816-9403-4feb-fe2b-ad5a6c77a651"
      },
      "execution_count": null,
      "outputs": [
        {
          "output_type": "stream",
          "name": "stdout",
          "text": [
            "ก\n",
            "⏰ = ⏰\n",
            "⏰ ⏱ ⏲ ⏳ ⏴ ⏵ ⏶ ⏷ ⏸ ⏹ "
          ]
        }
      ]
    },
    {
      "cell_type": "code",
      "source": [
        "kor = ord('ก')\n",
        "hor = ord('ฮ')\n",
        "for i in range(kor, hor+1):\n",
        "    print(chr(i), end=' ')"
      ],
      "metadata": {
        "colab": {
          "base_uri": "https://localhost:8080/"
        },
        "id": "FB7wvOoyi9wj",
        "outputId": "38a720fe-6894-4152-c8d5-056031c1c38d"
      },
      "execution_count": null,
      "outputs": [
        {
          "output_type": "stream",
          "name": "stdout",
          "text": [
            "ก ข ฃ ค ฅ ฆ ง จ ฉ ช ซ ฌ ญ ฎ ฏ ฐ ฑ ฒ ณ ด ต ถ ท ธ น บ ป ผ ฝ พ ฟ ภ ม ย ร ฤ ล ฦ ว ศ ษ ส ห ฬ อ ฮ "
          ]
        }
      ]
    },
    {
      "cell_type": "code",
      "source": [
        "a = [1, 2, 3, 4]\n",
        "a.append(5)\n",
        "print(a)"
      ],
      "metadata": {
        "colab": {
          "base_uri": "https://localhost:8080/"
        },
        "id": "NJX28cMYjc1c",
        "outputId": "abe9f4c2-89eb-428e-b0b8-334873e10423"
      },
      "execution_count": null,
      "outputs": [
        {
          "output_type": "stream",
          "name": "stdout",
          "text": [
            "[1, 2, 3, 4, 5]\n"
          ]
        }
      ]
    },
    {
      "cell_type": "code",
      "source": [
        "a = []\n",
        "for i in range(5):\n",
        "    n = int(input())\n",
        "    a.append(n)\n",
        "print(a)"
      ],
      "metadata": {
        "colab": {
          "base_uri": "https://localhost:8080/"
        },
        "id": "7AmzVj4cjmPU",
        "outputId": "bfffbdc5-f255-454c-ff6e-b29db2b21ec8"
      },
      "execution_count": null,
      "outputs": [
        {
          "output_type": "stream",
          "name": "stdout",
          "text": [
            "5\n",
            "6\n",
            "4\n",
            "7\n",
            "8\n",
            "[5, 6, 4, 7, 8]\n"
          ]
        }
      ]
    },
    {
      "cell_type": "code",
      "source": [
        "s = []\n",
        "n = int(input('จะรับกี่ตัว '))\n",
        "for i in range(n):\n",
        "  t = int(input())\n",
        "  s.append(t)\n",
        "\n",
        "print(s)"
      ],
      "metadata": {
        "colab": {
          "base_uri": "https://localhost:8080/"
        },
        "id": "DLdciCzVj66c",
        "outputId": "2c0697c6-faf2-4b8b-9dee-c570525f8fa8"
      },
      "execution_count": null,
      "outputs": [
        {
          "output_type": "stream",
          "name": "stdout",
          "text": [
            "จะรับกี่ตัว 5\n",
            "5\n",
            "4\n",
            "3\n",
            "7\n",
            "1\n",
            "[5, 4, 3, 7, 1]\n"
          ]
        }
      ]
    },
    {
      "cell_type": "markdown",
      "source": [
        "# 14-15 July 2022 วันหยุด"
      ],
      "metadata": {
        "id": "X9k8QHBhx3NR"
      }
    },
    {
      "cell_type": "markdown",
      "source": [
        "# Week04: 7 July 2022 (Numbers - for loop)"
      ],
      "metadata": {
        "id": "sQtZQRNrRlJ3"
      }
    },
    {
      "cell_type": "markdown",
      "source": [
        "## (เฉลยการบ้าน)"
      ],
      "metadata": {
        "id": "CDvQ4RQkruiR"
      }
    },
    {
      "cell_type": "code",
      "source": [
        "#EX0306 จงเขียนโปรแกรมเพื่อหาค่า factorial ของตัวเลขที่ผู้ใช้กรอก โดย factorial ของตัวเลข n  ใดๆ\n",
        "n = int(input(\"Enter number for n! :\"))\n",
        "fac = 1\n",
        "for i in range(n,1,-1):\n",
        "  fac *= i        #fac = fac * i\n",
        "print(f'{n}! = {fac}')"
      ],
      "metadata": {
        "id": "0H6DqdbrrpvW",
        "colab": {
          "base_uri": "https://localhost:8080/"
        },
        "outputId": "f03adce2-5a6d-44d8-f574-d16ded7dd920"
      },
      "execution_count": null,
      "outputs": [
        {
          "output_type": "stream",
          "name": "stdout",
          "text": [
            "Enter number for n! :3\n",
            "3! = 6\n"
          ]
        }
      ]
    },
    {
      "cell_type": "code",
      "source": [
        "#EX0307 จงเขียนโปรแกรมเพื่อคำนวณหายอดเงินฝากธนาคารรวมเมื่อสิ้นปีที่ 4 จากเงินต้นที่ผู้ใช้กรอก และอัตราดอกเบี้ยร้อยละ 4 ต่อปี\n",
        "principal = int(input('กรอกจำนวนเงินต้น '))\n",
        "for year in range(1, 5):\n",
        "  principal = principal + principal * 0.04\n",
        "print(f'เมื่อสิ้นปีที่ 4 ยอดเงินรวมคือ {principal:,.2f}')"
      ],
      "metadata": {
        "id": "6oePNAmRr1mu",
        "colab": {
          "base_uri": "https://localhost:8080/"
        },
        "outputId": "b60088c2-59d8-414e-e770-772c7323ef3c"
      },
      "execution_count": null,
      "outputs": [
        {
          "output_type": "stream",
          "name": "stdout",
          "text": [
            "กรอกจำนวนเงินต้น 10000\n",
            "เมื่อสิ้นปีที่ 4 ยอดเงินรวมคือ 11,698.59\n"
          ]
        }
      ]
    },
    {
      "cell_type": "code",
      "source": [
        "#EX0308 แสดงสูตรคูณแม่ 12\n",
        "for i in range(1, 13):\n",
        "  print(f'{i} x 12 = {i*12}')"
      ],
      "metadata": {
        "id": "9KK5hh2iuc7I",
        "colab": {
          "base_uri": "https://localhost:8080/"
        },
        "outputId": "f22625d0-27f3-487c-9dc0-a7b2403fc87c"
      },
      "execution_count": null,
      "outputs": [
        {
          "output_type": "stream",
          "name": "stdout",
          "text": [
            "1 x 12 = 12\n",
            "2 x 12 = 24\n",
            "3 x 12 = 36\n",
            "4 x 12 = 48\n",
            "5 x 12 = 60\n",
            "6 x 12 = 72\n",
            "7 x 12 = 84\n",
            "8 x 12 = 96\n",
            "9 x 12 = 108\n",
            "10 x 12 = 120\n",
            "11 x 12 = 132\n",
            "12 x 12 = 144\n"
          ]
        }
      ]
    },
    {
      "cell_type": "code",
      "source": [
        "#EX0309 แสดงสูตรคูณแม่ใดๆ ก็ได้ที่ผู้ใช้กำหนด\n",
        "n = int(input())\n",
        "for i in range(1, 13):\n",
        "  print(f'{i} x {n} = {i*n}')"
      ],
      "metadata": {
        "id": "zLLBLYzZu75v",
        "colab": {
          "base_uri": "https://localhost:8080/"
        },
        "outputId": "cc32c745-1e8b-4925-88cc-d8814af8f26f"
      },
      "execution_count": null,
      "outputs": [
        {
          "output_type": "stream",
          "name": "stdout",
          "text": [
            "1500\n",
            "1 x 1500 = 1500\n",
            "2 x 1500 = 3000\n",
            "3 x 1500 = 4500\n",
            "4 x 1500 = 6000\n",
            "5 x 1500 = 7500\n",
            "6 x 1500 = 9000\n",
            "7 x 1500 = 10500\n",
            "8 x 1500 = 12000\n",
            "9 x 1500 = 13500\n",
            "10 x 1500 = 15000\n",
            "11 x 1500 = 16500\n",
            "12 x 1500 = 18000\n"
          ]
        }
      ]
    },
    {
      "cell_type": "code",
      "source": [
        "n = int(input('Enter number: '))\n",
        "for i in range(1, 13):\n",
        "  print(f'{n:,} x {i} = {n*i:,}')"
      ],
      "metadata": {
        "colab": {
          "base_uri": "https://localhost:8080/"
        },
        "id": "O4NKmjKF240L",
        "outputId": "b1e5b771-5402-421a-fb37-cbd972994ca4"
      },
      "execution_count": null,
      "outputs": [
        {
          "output_type": "stream",
          "name": "stdout",
          "text": [
            "Enter number: 1500\n",
            "1,500 x 1 = 1,500\n",
            "1,500 x 2 = 3,000\n",
            "1,500 x 3 = 4,500\n",
            "1,500 x 4 = 6,000\n",
            "1,500 x 5 = 7,500\n",
            "1,500 x 6 = 9,000\n",
            "1,500 x 7 = 10,500\n",
            "1,500 x 8 = 12,000\n",
            "1,500 x 9 = 13,500\n",
            "1,500 x 10 = 15,000\n",
            "1,500 x 11 = 16,500\n",
            "1,500 x 12 = 18,000\n"
          ]
        }
      ]
    },
    {
      "cell_type": "code",
      "source": [
        "#EX0310 แสดงผลลัพธ์ของการรวมเลขคี่ทั้งหมดที่มากกว่า 0 แต่น้อยกว่า 200000\n",
        "sum = 0\n",
        "for i in range(1, 200000, 2):\n",
        "  sum += i\n",
        "print(sum)\n",
        "print(f'{sum:,}')"
      ],
      "metadata": {
        "id": "gBlISjVqvl7_",
        "colab": {
          "base_uri": "https://localhost:8080/"
        },
        "outputId": "db67d01e-9035-4b0c-d305-00ca0a64881c"
      },
      "execution_count": null,
      "outputs": [
        {
          "output_type": "stream",
          "name": "stdout",
          "text": [
            "10000000000\n",
            "10,000,000,000\n"
          ]
        }
      ]
    },
    {
      "cell_type": "code",
      "source": [
        "#EX03A แสดงผลคูณทั้งหมดของเลขคู่ที่อยู่ระหว่าง 200 กับ 2000\n",
        "total = 1\n",
        "for i in range(200, 2000, 2):\n",
        "  total *= i\n",
        "print(f'{total:,}')"
      ],
      "metadata": {
        "id": "_ujCt3_YZ_jM",
        "colab": {
          "base_uri": "https://localhost:8080/"
        },
        "outputId": "a9ce6c85-0fb9-4b72-827b-232d9d45eea9"
      },
      "execution_count": null,
      "outputs": [
        {
          "output_type": "stream",
          "name": "stdout",
          "text": [
            "3,644,489,178,285,860,333,195,440,453,027,424,495,435,950,998,525,379,779,855,457,188,280,105,947,211,066,319,367,213,550,248,933,233,318,893,277,740,052,673,931,152,998,413,035,537,688,500,414,303,865,188,898,576,123,894,359,441,168,184,970,238,057,201,029,241,223,540,475,633,047,910,182,428,427,387,446,787,928,228,172,082,593,168,812,319,496,060,930,211,673,014,733,033,379,016,198,731,885,932,500,460,634,658,744,986,996,544,363,275,842,088,473,555,080,973,637,548,827,816,184,725,908,743,446,869,294,468,561,622,162,391,660,706,707,240,717,093,841,697,014,912,859,835,982,112,436,977,451,539,790,617,596,136,039,440,234,234,266,857,708,433,108,753,323,039,567,453,574,302,000,363,852,918,242,436,089,037,040,288,536,650,078,317,755,291,417,687,548,922,100,778,992,158,815,759,983,805,976,692,656,718,842,939,026,563,314,639,554,961,732,489,243,109,058,891,702,217,174,243,520,656,019,946,687,880,658,542,307,087,514,874,459,804,969,501,546,197,310,855,323,942,198,862,473,788,723,311,406,666,721,168,789,372,054,168,837,791,041,995,199,009,711,892,300,104,558,836,850,898,655,327,432,329,022,850,840,336,639,653,211,133,668,094,295,510,607,312,611,965,171,605,766,349,500,713,617,445,290,099,957,164,996,034,775,848,681,600,303,669,370,707,273,805,957,891,361,230,190,448,564,229,162,575,893,457,094,781,798,000,175,000,909,731,498,594,130,704,389,737,084,672,967,745,793,818,937,124,995,378,254,924,020,680,065,762,866,507,111,043,853,471,768,944,458,624,416,732,595,502,524,242,417,586,479,340,820,948,977,070,387,308,603,556,799,022,977,386,980,759,848,663,294,246,894,141,239,644,663,607,865,038,852,333,526,111,636,364,615,410,587,361,321,963,883,371,963,922,876,510,059,770,159,128,559,713,911,587,654,639,160,181,248,282,985,579,362,334,587,842,826,086,376,253,517,379,850,789,519,624,277,922,697,043,486,768,752,215,324,718,572,931,494,852,553,055,803,875,296,899,952,371,287,935,125,301,413,351,100,811,762,146,836,042,421,316,274,956,415,517,804,160,401,862,597,328,799,945,758,444,062,969,011,757,191,848,760,380,121,083,094,160,706,200,524,624,726,974,261,798,563,793,961,210,716,505,470,496,439,955,170,481,177,224,269,934,701,731,150,940,663,540,752,711,360,600,759,498,764,590,751,968,907,696,010,049,022,437,833,925,183,933,664,328,456,015,007,223,058,635,177,334,131,035,264,338,104,331,359,313,914,575,052,384,627,689,645,325,080,877,729,733,235,997,978,689,801,777,218,475,737,928,187,774,418,138,715,673,343,073,881,290,116,180,970,745,411,597,869,112,414,100,223,737,711,833,177,727,393,931,102,496,991,272,684,277,631,675,797,733,193,800,091,176,723,950,487,131,278,749,782,358,658,341,478,756,723,246,976,242,587,502,589,621,717,937,052,791,496,864,186,246,215,491,213,776,108,208,462,329,636,973,869,250,401,048,401,042,475,507,492,772,854,599,653,751,656,766,068,874,635,230,188,716,428,609,324,208,134,941,162,138,857,668,969,715,973,175,939,528,291,580,529,816,992,908,664,935,738,099,791,030,734,682,558,299,962,097,010,757,923,742,247,471,377,592,641,812,451,035,811,233,370,959,241,185,937,852,977,638,793,438,193,297,121,334,793,146,547,817,920,348,096,057,503,992,702,637,816,399,642,515,891,004,064,553,067,613,119,598,369,831,815,150,758,666,190,860,188,989,594,869,803,545,497,750,754,711,352,717,269,889,347,037,730,707,231,001,804,800,000,000,000,000,000,000,000,000,000,000,000,000,000,000,000,000,000,000,000,000,000,000,000,000,000,000,000,000,000,000,000,000,000,000,000,000,000,000,000,000,000,000,000,000,000,000,000,000,000,000,000,000,000,000,000,000,000,000,000,000,000,000,000,000,000,000,000,000,000,000,000,000,000,000\n"
          ]
        }
      ]
    },
    {
      "cell_type": "code",
      "source": [
        "#EX03B คำนวณยอดเงินฝากธนาคารหลังปีที่ 20\n",
        "amount, rate = eval(input(\"Enter amount, interest: \"))\n",
        "for i in range(20):\n",
        "  amount += amount*rate/100\n",
        "  print(f'{i+1} {amount}')\n",
        "print(f'>> {amount:,.2f}')"
      ],
      "metadata": {
        "id": "SssMBn7taCr9",
        "colab": {
          "base_uri": "https://localhost:8080/"
        },
        "outputId": "56a42ebe-c8ba-4078-9870-2fad404178b1"
      },
      "execution_count": null,
      "outputs": [
        {
          "output_type": "stream",
          "name": "stdout",
          "text": [
            "Enter amount, interest: 10000,5\n",
            "1 10500.0\n",
            "2 11025.0\n",
            "3 11576.25\n",
            "4 12155.0625\n",
            "5 12762.815625\n",
            "6 13400.95640625\n",
            "7 14071.0042265625\n",
            "8 14774.554437890625\n",
            "9 15513.282159785156\n",
            "10 16288.946267774414\n",
            "11 17103.393581163135\n",
            "12 17958.56326022129\n",
            "13 18856.491423232354\n",
            "14 19799.31599439397\n",
            "15 20789.28179411367\n",
            "16 21828.745883819356\n",
            "17 22920.183178010324\n",
            "18 24066.19233691084\n",
            "19 25269.501953756382\n",
            "20 26532.977051444203\n",
            ">> 26,532.98\n"
          ]
        }
      ]
    },
    {
      "cell_type": "code",
      "source": [
        "#EX03C คำนวณยอดเงินคืนกยศ.หลังจากปีที่ 5\n",
        "amount, rate = eval(input(\"Enter amount, interest: \"))\n",
        "for i in range(5):\n",
        "  amount += amount*rate/100\n",
        "  print(f'{i+1} {amount}')\n",
        "print(f'>> {amount:,.2f}')"
      ],
      "metadata": {
        "id": "c8xL-z_SaIVK",
        "colab": {
          "base_uri": "https://localhost:8080/"
        },
        "outputId": "4a5c1ec9-ed68-4130-c405-66630e8c4f0e"
      },
      "execution_count": null,
      "outputs": [
        {
          "output_type": "stream",
          "name": "stdout",
          "text": [
            "Enter amount, interest: 1000, 2\n",
            "1 1020.0\n",
            "2 1040.4\n",
            "3 1061.208\n",
            "4 1082.43216\n",
            "5 1104.0808032\n",
            ">> 1,104.08\n"
          ]
        }
      ]
    },
    {
      "cell_type": "code",
      "source": [
        "#EX03D คำนวณเกรดเฉลี่ยสะสมของนักศึกษาหลังเรียนแล้ว 3 ภาคเรียน (เก็บอยู่ใน list)\n",
        "totalGpa = 0.0\n",
        "for i in [3.44, 2.22, 3.00]:\n",
        "  totalGpa += i\n",
        "print(f'{totalGpa/3 :.2f}')"
      ],
      "metadata": {
        "id": "E1rFOpJUwf3P",
        "colab": {
          "base_uri": "https://localhost:8080/"
        },
        "outputId": "b01107ad-84cf-44b8-d620-232c49011a25"
      },
      "execution_count": null,
      "outputs": [
        {
          "output_type": "stream",
          "name": "stdout",
          "text": [
            "2.89\n"
          ]
        }
      ]
    },
    {
      "cell_type": "markdown",
      "source": [
        "## (in lab)"
      ],
      "metadata": {
        "id": "ByJT-HC-rxH5"
      }
    },
    {
      "cell_type": "code",
      "source": [
        "principal, rate = eval(input('ต้นทุน, อัตราค่าตอบแทน: '))\n",
        "for year in range(0,10):\n",
        "  principal = principal + principal * rate\n",
        "print('ยอดเงินลงทุนรวมหลังจากปีที่ 10 เป็น ', principal)"
      ],
      "metadata": {
        "colab": {
          "base_uri": "https://localhost:8080/"
        },
        "id": "GRAI-hWjqoNA",
        "outputId": "d54ed5c8-2940-4919-bcbf-1e52e12cf2ac"
      },
      "execution_count": null,
      "outputs": [
        {
          "output_type": "stream",
          "name": "stdout",
          "text": [
            "ต้นทุน, อัตราค่าตอบแทน: 10000,0.03\n",
            "ยอดเงินลงทุนรวมหลังจากปีที่ 10 เป็น  13439.16379344122\n"
          ]
        }
      ]
    },
    {
      "cell_type": "code",
      "source": [
        "allFruit = ''\n",
        "for fruit in ['avocado', 'banana', 'cranberry', 'durian']:\n",
        "  allFruit += fruit\n",
        "\n",
        "print(f'allFruit = {allFruit}')"
      ],
      "metadata": {
        "colab": {
          "base_uri": "https://localhost:8080/"
        },
        "id": "jzp9hJ3Ao6WW",
        "outputId": "80c9dcb5-5f07-47b9-f516-c44c3f6b71bc"
      },
      "execution_count": null,
      "outputs": [
        {
          "output_type": "stream",
          "name": "stdout",
          "text": [
            "allFruit = avocadobananacranberrydurian\n"
          ]
        }
      ]
    },
    {
      "cell_type": "code",
      "source": [
        "total = 0\n",
        "for i in [1, 2, 3, 4, 5]:\n",
        "  total += i    #total = total * i  หมายถึง   total *= i\n",
        "  print(f'{i} : {total} ')\n",
        "\n",
        "print(f'total = {total}')"
      ],
      "metadata": {
        "colab": {
          "base_uri": "https://localhost:8080/"
        },
        "id": "xmj5G6ImoiYm",
        "outputId": "ebc4969e-8fe0-477c-c278-5966f862f527"
      },
      "execution_count": null,
      "outputs": [
        {
          "output_type": "stream",
          "name": "stdout",
          "text": [
            "1 : 1 \n",
            "2 : 3 \n",
            "3 : 6 \n",
            "4 : 10 \n",
            "5 : 15 \n",
            "total = 15\n"
          ]
        }
      ]
    },
    {
      "cell_type": "code",
      "source": [
        "x = [1, 2, 3, 4, 5]\n",
        "print(sum(x))"
      ],
      "metadata": {
        "colab": {
          "base_uri": "https://localhost:8080/"
        },
        "id": "Zp81jGA7om7e",
        "outputId": "99045cd5-c93e-411a-9100-444dfe943eb4"
      },
      "execution_count": null,
      "outputs": [
        {
          "output_type": "stream",
          "name": "stdout",
          "text": [
            "15\n"
          ]
        }
      ]
    },
    {
      "cell_type": "code",
      "source": [
        "for fruit in ['avocado', 'banana', 'cranberry', 'durian']:\n",
        "  print(fruit)"
      ],
      "metadata": {
        "colab": {
          "base_uri": "https://localhost:8080/"
        },
        "id": "pxFXw79joXHW",
        "outputId": "621e3dfa-4a36-42ec-aa4c-b11d9a68f0e2"
      },
      "execution_count": null,
      "outputs": [
        {
          "output_type": "stream",
          "name": "stdout",
          "text": [
            "avocado\n",
            "banana\n",
            "cranberry\n",
            "durian\n"
          ]
        }
      ]
    },
    {
      "cell_type": "code",
      "source": [
        "for i in [1, 2, 3, 4, 5]:\n",
        "  print(i)"
      ],
      "metadata": {
        "colab": {
          "base_uri": "https://localhost:8080/"
        },
        "id": "WKTnyOQ1oTkW",
        "outputId": "035772c1-7f1e-4d0c-9aeb-a1538e5e9f95"
      },
      "execution_count": null,
      "outputs": [
        {
          "output_type": "stream",
          "name": "stdout",
          "text": [
            "1\n",
            "2\n",
            "3\n",
            "4\n",
            "5\n"
          ]
        }
      ]
    },
    {
      "cell_type": "code",
      "source": [
        "#3.18 Exercise\n",
        "for i in range(2, 11, 2):\n",
        "  print(i, end='  ')"
      ],
      "metadata": {
        "colab": {
          "base_uri": "https://localhost:8080/"
        },
        "id": "zoI3BblRkSKE",
        "outputId": "cd602d3e-1ffa-4379-8a86-87fe077e4be1"
      },
      "execution_count": null,
      "outputs": [
        {
          "output_type": "stream",
          "name": "stdout",
          "text": [
            "2  4  6  8  10  "
          ]
        }
      ]
    },
    {
      "cell_type": "code",
      "source": [
        "for i in range(-5, 3):\n",
        "  print(i, end='  ')"
      ],
      "metadata": {
        "colab": {
          "base_uri": "https://localhost:8080/"
        },
        "id": "8DJ0m-Hzks3V",
        "outputId": "61a45bb2-01d7-4114-902d-bb7b0335ec4c"
      },
      "execution_count": null,
      "outputs": [
        {
          "output_type": "stream",
          "name": "stdout",
          "text": [
            "-5  -4  -3  -2  -1  0  1  2  "
          ]
        }
      ]
    },
    {
      "cell_type": "code",
      "source": [
        "#แสดงเลขคู่ตั้งแต่ 10 ถึง 20 (รวม 20)\n",
        "for i in range(10, 21, 2):\n",
        "  print(i, end='  ')"
      ],
      "metadata": {
        "colab": {
          "base_uri": "https://localhost:8080/"
        },
        "id": "rc6dAEUNk1h2",
        "outputId": "bacab4ae-5623-4013-afe4-4f53d845a35a"
      },
      "execution_count": null,
      "outputs": [
        {
          "output_type": "stream",
          "name": "stdout",
          "text": [
            "10  12  14  16  18  20  "
          ]
        }
      ]
    },
    {
      "cell_type": "code",
      "source": [
        "#แสดงเลขที่หาร 3 ลงตัวตั้งแต่ 1 ถึง 30 (รวม 30)\n",
        "for i in range(3, 31, 3):\n",
        "  print(i, end='  ')"
      ],
      "metadata": {
        "colab": {
          "base_uri": "https://localhost:8080/"
        },
        "id": "xFxO3oQalBXs",
        "outputId": "90be6852-f21d-4ff6-9e07-f9bc501f5bee"
      },
      "execution_count": null,
      "outputs": [
        {
          "output_type": "stream",
          "name": "stdout",
          "text": [
            "3  6  9  12  15  18  21  24  27  30  "
          ]
        }
      ]
    },
    {
      "cell_type": "code",
      "source": [
        "#แสดงเลขที่หาร 10 ลงตัวตั้งแต่ -100 ถึง 100 (ไม่รวม -100 และไม่รวม 100)\n",
        "for i in range(-90, 100, 10):\n",
        "  print(i, end='  ')"
      ],
      "metadata": {
        "colab": {
          "base_uri": "https://localhost:8080/"
        },
        "id": "6MRPvYAnlWOT",
        "outputId": "9b55c3ef-4d3a-45b7-c31e-76fd5b0d295e"
      },
      "execution_count": null,
      "outputs": [
        {
          "output_type": "stream",
          "name": "stdout",
          "text": [
            "-90  -80  -70  -60  -50  -40  -30  -20  -10  0  10  20  30  40  50  60  70  80  90  "
          ]
        }
      ]
    },
    {
      "cell_type": "code",
      "source": [
        "for i in range(-99, 100):\n",
        "  if i%10 == 0:\n",
        "    print(i, end='  ')"
      ],
      "metadata": {
        "colab": {
          "base_uri": "https://localhost:8080/"
        },
        "id": "gemTBxtelzNt",
        "outputId": "bb99b791-c213-47d0-8674-08400e79f213"
      },
      "execution_count": null,
      "outputs": [
        {
          "output_type": "stream",
          "name": "stdout",
          "text": [
            "-90  -80  -70  -60  -50  -40  -30  -20  -10  0  10  20  30  40  50  60  70  80  90  "
          ]
        }
      ]
    },
    {
      "cell_type": "code",
      "source": [
        "for i in range(15, 1, -2):\n",
        "  print(i, end='  ')"
      ],
      "metadata": {
        "colab": {
          "base_uri": "https://localhost:8080/"
        },
        "id": "vu5sTBFviMIW",
        "outputId": "e1c2ffcb-e152-4d18-d29e-e82cc4ae8694"
      },
      "execution_count": null,
      "outputs": [
        {
          "output_type": "stream",
          "name": "stdout",
          "text": [
            "15  13  11  9  7  5  3  "
          ]
        }
      ]
    },
    {
      "cell_type": "code",
      "source": [
        "for i in range(1, 14, 3):\n",
        "  print(i, end='  ')"
      ],
      "metadata": {
        "colab": {
          "base_uri": "https://localhost:8080/"
        },
        "id": "1rqGv1kWh5zN",
        "outputId": "2c161fea-4ebe-408e-dc60-e9e785266610"
      },
      "execution_count": null,
      "outputs": [
        {
          "output_type": "stream",
          "name": "stdout",
          "text": [
            "1  4  7  10  13  "
          ]
        }
      ]
    },
    {
      "cell_type": "code",
      "source": [
        "for i in range(1, 15, 2):\n",
        "  print(i, end='  ')"
      ],
      "metadata": {
        "colab": {
          "base_uri": "https://localhost:8080/"
        },
        "id": "HIwQwUqNhs9N",
        "outputId": "634f73ab-ab77-4f37-eb16-8060f49ebf03"
      },
      "execution_count": null,
      "outputs": [
        {
          "output_type": "stream",
          "name": "stdout",
          "text": [
            "1  3  5  7  9  11  13  "
          ]
        }
      ]
    },
    {
      "cell_type": "code",
      "source": [
        "for i in range(3, 15):\n",
        "  print(i, end='  ')"
      ],
      "metadata": {
        "colab": {
          "base_uri": "https://localhost:8080/"
        },
        "id": "-4-Z6B0jhb0O",
        "outputId": "a3c3dab1-e840-41e2-e97c-fd4ce220a2eb"
      },
      "execution_count": null,
      "outputs": [
        {
          "output_type": "stream",
          "name": "stdout",
          "text": [
            "3  4  5  6  7  8  9  10  11  12  13  14  "
          ]
        }
      ]
    },
    {
      "cell_type": "code",
      "source": [
        "for i in range(1, 9):\n",
        "  print(i)"
      ],
      "metadata": {
        "colab": {
          "base_uri": "https://localhost:8080/"
        },
        "id": "F3RzVCZqhA02",
        "outputId": "d1140009-268b-4af6-9d16-e3303bf78dc1"
      },
      "execution_count": null,
      "outputs": [
        {
          "output_type": "stream",
          "name": "stdout",
          "text": [
            "1\n",
            "2\n",
            "3\n",
            "4\n",
            "5\n",
            "6\n",
            "7\n",
            "8\n"
          ]
        }
      ]
    },
    {
      "cell_type": "code",
      "source": [
        "for i in range(10):\n",
        "  print(i)"
      ],
      "metadata": {
        "colab": {
          "base_uri": "https://localhost:8080/"
        },
        "id": "dFBdDX_LhLYV",
        "outputId": "e41417c0-eaa4-4741-aa2d-c17be72fd431"
      },
      "execution_count": null,
      "outputs": [
        {
          "output_type": "stream",
          "name": "stdout",
          "text": [
            "0\n",
            "1\n",
            "2\n",
            "3\n",
            "4\n",
            "5\n",
            "6\n",
            "7\n",
            "8\n",
            "9\n"
          ]
        }
      ]
    },
    {
      "cell_type": "code",
      "source": [
        "total = 0\n",
        "n = int(input('ต้องการกรอกกี่คน : '))\n",
        "\n",
        "for i in range(n):\n",
        "  x = float(input('กรอกค่า gpa: '))\n",
        "  total = total + x\n",
        "\n",
        "print(f'ผลรวมคือ {total}')\n",
        "print(f'ค่าเฉลี่ย gpa คือ {total/n}')"
      ],
      "metadata": {
        "colab": {
          "base_uri": "https://localhost:8080/"
        },
        "id": "bhR2LuavfkC2",
        "outputId": "c82da79c-231f-4ebd-c4ee-c032aae7ca3c"
      },
      "execution_count": null,
      "outputs": [
        {
          "output_type": "stream",
          "name": "stdout",
          "text": [
            "ต้องการกรอกกี่คน : 2\n",
            "กรอกค่า gpa: 3.5\n",
            "กรอกค่า gpa: 3.0\n",
            "ผลรวมคือ 6.5\n",
            "ค่าเฉลี่ย gpa คือ 3.25\n"
          ]
        }
      ]
    },
    {
      "cell_type": "code",
      "source": [
        "#EX0303 จงเขียนโปรแกรมเพื่อหาค่าเฉลี่ย gpa ของนักศึกษา 10 คน\n",
        "total = 0\n",
        "\n",
        "for i in range(10):\n",
        "  x = float(input('กรอกค่า gpa: '))\n",
        "  total = total + x\n",
        "\n",
        "print(f'ผลรวมคือ {total}')\n",
        "print(f'ค่าเฉลี่ย gpa คือ {total/10}')"
      ],
      "metadata": {
        "colab": {
          "base_uri": "https://localhost:8080/"
        },
        "id": "E-iDUOGycyzE",
        "outputId": "a2d2846e-f146-42a3-b78c-50334bbda694"
      },
      "execution_count": null,
      "outputs": [
        {
          "output_type": "stream",
          "name": "stdout",
          "text": [
            "กรอกค่า gpa: 2.5\n",
            "กรอกค่า gpa: 3.0\n",
            "กรอกค่า gpa: 1.5\n",
            "กรอกค่า gpa: 2.9\n",
            "กรอกค่า gpa: 3.6\n",
            "กรอกค่า gpa: 4.0\n",
            "กรอกค่า gpa: 2.9\n",
            "กรอกค่า gpa: 4.0\n",
            "กรอกค่า gpa: 3.4\n",
            "กรอกค่า gpa: 3.6\n",
            "ผลรวมคือ 31.4\n",
            "ค่าเฉลี่ย gpa คือ 3.1399999999999997\n"
          ]
        }
      ]
    },
    {
      "cell_type": "code",
      "source": [
        "total = 0\n",
        "\n",
        "for i in range(5):\n",
        "  x = int(input('กรอกค่า x: '))\n",
        "  total = total + x\n",
        "\n",
        "print(f'ผลรวมคือ {total}')"
      ],
      "metadata": {
        "colab": {
          "base_uri": "https://localhost:8080/"
        },
        "id": "zH-bxJM2Rl3j",
        "outputId": "ab52d954-0c91-443e-8e79-b1f6a16d602a"
      },
      "execution_count": null,
      "outputs": [
        {
          "output_type": "stream",
          "name": "stdout",
          "text": [
            "กรอกค่า x: 5\n",
            "กรอกค่า x: 1\n",
            "กรอกค่า x: 3\n",
            "กรอกค่า x: 4\n",
            "กรอกค่า x: 7\n",
            "ผลรวมคือ 20\n"
          ]
        }
      ]
    },
    {
      "cell_type": "code",
      "source": [
        "total = 0\n",
        "x = int(input('กรอกค่า x: '))\n",
        "total = total + x\n",
        "x = int(input('กรอกค่า x: '))\n",
        "total = total + x\n",
        "x = int(input('กรอกค่า x: '))\n",
        "total = total + x\n",
        "x = int(input('กรอกค่า x: '))\n",
        "total = total + x\n",
        "x = int(input('กรอกค่า x: '))\n",
        "total = total + x\n",
        "print('ผลรวมคือ '+str(total))"
      ],
      "metadata": {
        "colab": {
          "base_uri": "https://localhost:8080/"
        },
        "id": "p6cEAzMHRlyj",
        "outputId": "4ceaf971-9942-43d0-8d78-280702e595df"
      },
      "execution_count": null,
      "outputs": [
        {
          "output_type": "stream",
          "name": "stdout",
          "text": [
            "กรอกค่า x: 2\n",
            "กรอกค่า x: 5\n",
            "กรอกค่า x: 7\n",
            "กรอกค่า x: 5\n",
            "กรอกค่า x: 1\n",
            "ผลรวมคือ 20\n"
          ]
        }
      ]
    },
    {
      "cell_type": "markdown",
      "source": [
        "# Week04: 6 July 2022 (flowchart, psuedocode)"
      ],
      "metadata": {
        "id": "Sald_vbzQhxl"
      }
    },
    {
      "cell_type": "code",
      "source": [
        "A, B, C = 17, 4, 21\n",
        "if A >= B:\n",
        "  C = B + 1\n",
        "  if C >= A:\n",
        "    C += A - 2\n",
        "  else:\n",
        "    C = B * 3\n",
        "if C >= A:\n",
        "  A = ++C\n",
        "  if A >= B:\n",
        "    A = A - C\n",
        "  else:\n",
        "    C = B - C\n",
        "else:\n",
        "  if A == B:\n",
        "    C = A - 7\n",
        "  elif A > B:\n",
        "    A = C * 2\n",
        "  else:\n",
        "    C = A % C\n",
        "print(f'A = {A} B = {B} C = {C}')"
      ],
      "metadata": {
        "colab": {
          "base_uri": "https://localhost:8080/"
        },
        "id": "GBI18IYzQivF",
        "outputId": "400e4ce4-dc64-40e4-e38b-d211fb6d9f34"
      },
      "execution_count": null,
      "outputs": [
        {
          "output_type": "stream",
          "name": "stdout",
          "text": [
            "A = 24 B = 4 C = 12\n"
          ]
        }
      ]
    },
    {
      "cell_type": "markdown",
      "source": [
        "## (เฉลยการบ้าน)"
      ],
      "metadata": {
        "id": "mFEbRPWZRvDt"
      }
    },
    {
      "cell_type": "code",
      "source": [
        "#EX0301 จงเขียนโปรแกรมเพื่อคำนวณหาความเร็วปลาย ของรถที่มีความเร็วต้น v0 แล้วใช้ความเร่ง a เป็นเวลา t วินาที\n",
        "a, v0, t = eval(input())\n",
        "vs = v0+a*t\n",
        "print(vs)"
      ],
      "metadata": {
        "colab": {
          "base_uri": "https://localhost:8080/"
        },
        "id": "SFOGQnP2Qil3",
        "outputId": "15f52cc4-7ed7-488b-b3cc-77fa556abb09"
      },
      "execution_count": null,
      "outputs": [
        {
          "output_type": "stream",
          "name": "stdout",
          "text": [
            "5,10,20\n",
            "110\n"
          ]
        }
      ]
    },
    {
      "cell_type": "markdown",
      "source": [
        "# Week03: 29 June 2022 (Computing with Numbers)"
      ],
      "metadata": {
        "id": "N7N5cHdVbyKb"
      }
    },
    {
      "cell_type": "code",
      "source": [
        "type(3)\n",
        "type(5.5)\n",
        "type(8//3)\n",
        "print(8//3)\n",
        "print(type(8//3))"
      ],
      "metadata": {
        "id": "ZwHszHdNb_1O",
        "colab": {
          "base_uri": "https://localhost:8080/"
        },
        "outputId": "01d7d485-3848-40b8-8106-de1fed131aaa"
      },
      "execution_count": null,
      "outputs": [
        {
          "output_type": "stream",
          "name": "stdout",
          "text": [
            "2\n",
            "<class 'int'>\n"
          ]
        }
      ]
    },
    {
      "cell_type": "code",
      "source": [
        "print(8/3)\n",
        "print(type(8/3))"
      ],
      "metadata": {
        "id": "fBPxgH3LcAZh",
        "colab": {
          "base_uri": "https://localhost:8080/"
        },
        "outputId": "b3541b89-ac92-4fa9-ece9-f6d1bd3931bc"
      },
      "execution_count": null,
      "outputs": [
        {
          "output_type": "stream",
          "name": "stdout",
          "text": [
            "2.6666666666666665\n",
            "<class 'float'>\n"
          ]
        }
      ]
    },
    {
      "cell_type": "code",
      "source": [
        "# รวมตังค์\n",
        "print(\"โปรแกรมรวมตังค์\")\n",
        "print()\n",
        "print(\"กรอกจำนวนเงินตามประเภท\")\n",
        "tens = int(input(\"มูลค่า 10 มีจำนวน: \"))\n",
        "twenties = int(input(\"แบงค์ 20 มีจำนวน: \"))\n",
        "fifties = int(input(\"แบงค์ 50 มีจำนวน: \"))\n",
        "hundreds = int(input(\"แบงค์ 100 มีจำนวน: \"))\n",
        "total = tens*10 + twenties*20 + fifties*50 + hundreds*100\n",
        "print()\n",
        "print(\"รวมมีเงินทั้งหมด \", total)"
      ],
      "metadata": {
        "id": "G4GwYF0FcAVj",
        "colab": {
          "base_uri": "https://localhost:8080/"
        },
        "outputId": "509ca1c5-2163-43fe-9927-03831d0fe32a"
      },
      "execution_count": null,
      "outputs": [
        {
          "output_type": "stream",
          "name": "stdout",
          "text": [
            "โปรแกรมรวมตังค์\n",
            "\n",
            "กรอกจำนวนเงินตามประเภท\n",
            "มูลค่า 10 มีจำนวน: 5\n",
            "แบงค์ 20 มีจำนวน: 3\n",
            "แบงค์ 50 มีจำนวน: 10\n",
            "แบงค์ 100 มีจำนวน: 2\n",
            "\n",
            "รวมมีเงินทั้งหมด  810\n"
          ]
        }
      ]
    },
    {
      "cell_type": "code",
      "source": [
        "import math\n",
        "\n",
        "a = float(input('กรอกค่า a: '))\n",
        "b = float(input('กรอกค่า b: '))\n",
        "c = float(input('กรอกค่า c: '))\n",
        "x1 = (-b + math.sqrt(b**2 - 4*a*c))/(2*a)\n",
        "x2 = (-b - math.sqrt(b**2 - 4*a*c))/(2*a)\n",
        "print('รากที่หนึ่งของสมการคือ '+str(x1))\n",
        "print('รากที่สองของสมการคือ '+str(x2))"
      ],
      "metadata": {
        "colab": {
          "base_uri": "https://localhost:8080/"
        },
        "id": "cFV5Lc3MV9LQ",
        "outputId": "ac8891bb-74ed-45f8-eea6-e8f904126ece"
      },
      "execution_count": null,
      "outputs": [
        {
          "output_type": "stream",
          "name": "stdout",
          "text": [
            "กรอกค่า a: 3\n",
            "กรอกค่า b: 4\n",
            "กรอกค่า c: -1\n",
            "รากที่หนึ่งของสมการคือ 0.21525043702153024\n",
            "รากที่สองของสมการคือ -1.5485837703548635\n"
          ]
        }
      ]
    },
    {
      "cell_type": "code",
      "source": [
        "import math\n",
        "\n",
        "a, b, c = eval(input('กรอกค่า a, b, c: '))\n",
        "x1 = (-b + math.sqrt(b**2 - 4*a*c))/(2*a)\n",
        "x2 = (-b - math.sqrt(b**2 - 4*a*c))/(2*a)\n",
        "print('รากที่หนึ่งของสมการคือ '+str(x1))\n",
        "print('รากที่สองของสมการคือ '+str(x2))"
      ],
      "metadata": {
        "id": "KIgA2I96XCtQ",
        "colab": {
          "base_uri": "https://localhost:8080/"
        },
        "outputId": "49d53dd3-ed58-4a40-88bd-70ec2634de9a"
      },
      "execution_count": null,
      "outputs": [
        {
          "output_type": "stream",
          "name": "stdout",
          "text": [
            "กรอกค่า a, b, c: 3,4,-1\n",
            "รากที่หนึ่งของสมการคือ 0.21525043702153024\n",
            "รากที่สองของสมการคือ -1.5485837703548635\n"
          ]
        }
      ]
    },
    {
      "cell_type": "markdown",
      "source": [
        "## (เฉลยการบ้าน)"
      ],
      "metadata": {
        "id": "br1NyjDOtmC_"
      }
    },
    {
      "cell_type": "markdown",
      "source": [
        "\n",
        "[Problem 10](https://docs.google.com/document/d/123X8SGfmTS4tgXs-Z4FwyHbv5xu2UyAE_unJZ_zmb_Q/edit?usp=sharing)\n",
        "\n",
        "```\n",
        "```\n",
        "\n",
        "\n",
        "\n",
        "[Problem 13](https://docs.google.com/document/d/123X8SGfmTS4tgXs-Z4FwyHbv5xu2UyAE_unJZ_zmb_Q/edit?usp=sharing)\n",
        "\n"
      ],
      "metadata": {
        "id": "eDCM9gPjtzGc"
      }
    },
    {
      "cell_type": "code",
      "source": [
        "#ข้อ 1 จงหาค่าตัวแปร x, y, z จากโค้ดต่อไปนี้\n",
        "x = 3\n",
        "y = 2\n",
        "z = x + 3\n",
        "print(z)\n",
        "y = (z/2) + x - 1\n",
        "print(y)\n",
        "x = 17 % y\n",
        "print(x)\n",
        "\n",
        "x = x + 1\n",
        "print(x)\n",
        "y = (x + 1) + 3\n",
        "print(y)\n",
        "x = 4\n",
        "\n",
        "x += y\n",
        "print(x)\n",
        "y %= 2\n",
        "print(y)\n",
        "z /= 3\n",
        "print(z)"
      ],
      "metadata": {
        "colab": {
          "base_uri": "https://localhost:8080/"
        },
        "id": "Dql71CMMtqkd",
        "outputId": "03af8584-2133-4ba2-fe3e-fcf0f7a08f76"
      },
      "execution_count": null,
      "outputs": [
        {
          "output_type": "stream",
          "name": "stdout",
          "text": [
            "6\n",
            "5.0\n",
            "2.0\n",
            "3.0\n",
            "7.0\n",
            "11.0\n",
            "1.0\n",
            "2.0\n"
          ]
        }
      ]
    },
    {
      "cell_type": "code",
      "source": [
        "#ข้อ 2 จงจัดกลุ่มลำดับการทำงาน (เขียนเป็นผังต้นไม้)"
      ],
      "metadata": {
        "id": "YhlD3RPQuhHf"
      },
      "execution_count": null,
      "outputs": []
    },
    {
      "cell_type": "code",
      "source": [
        "#ข้อ 3 จงแสดงวิธีหาค่า X\n",
        "A=10\n",
        "B=7\n",
        "C=3\n",
        "D=6\n",
        "E=1\n",
        "F=2\n",
        "\n",
        "#3.1\n",
        "X = A / F - C * B + E\n",
        "print(X)\n",
        "#3.2\n",
        "X = B + C * E - F % A\n",
        "print(X)\n",
        "#3.3\n",
        "X = E * B - D ** F % A\n",
        "print(X)\n",
        "#3.4\n",
        "X = C % F + A + B // E\n",
        "print(X)\n",
        "#3.5\n",
        "X = A - B * E / B % D\n",
        "print(X)\n",
        "#3.6\n",
        "X = F // A - D ** E * D\n",
        "print(X)\n",
        "#3.7\n",
        "X = A * D - B + B * D\n",
        "print(X)\n",
        "#3.8\n",
        "X = D / E % A + F - D\n",
        "print(X)\n",
        "#3.9\n",
        "X = E % A - B * C - A\n",
        "print(X)\n",
        "#3.10\n",
        "X = B + F - B % E ** F\n",
        "print(X)"
      ],
      "metadata": {
        "colab": {
          "base_uri": "https://localhost:8080/"
        },
        "id": "-tiIBtXKusP_",
        "outputId": "e1fa5d56-034b-4d5f-81ef-c4e7a98d8b13"
      },
      "execution_count": null,
      "outputs": [
        {
          "output_type": "stream",
          "name": "stdout",
          "text": [
            "-15.0\n",
            "8\n",
            "1\n",
            "18\n",
            "9.0\n",
            "-36\n",
            "95\n",
            "2.0\n",
            "-30\n",
            "9\n"
          ]
        }
      ]
    },
    {
      "cell_type": "code",
      "source": [
        "#ข้อ 3 จงแสดงวิธีหาผลลัพธ์เมื่อกำหนดให้\n",
        "A=7\n",
        "B=3\n",
        "C=2\n",
        "D=9\n",
        "#3.1\n",
        "print(A < 5 or C > B)\n",
        "#3.2\n",
        "print(C == A and A < D)\n",
        "#3.3\n",
        "print(B <= 3 or D > A)\n",
        "#3.4\n",
        "print(A >= C + 9 and C > D - B)\n",
        "#3.5\n",
        "print(C != B or A < D)\n",
        "#3.6\n",
        "print(D < A - 7 or C < A % 9)\n",
        "#3.7\n",
        "print(C > D and C > A + 3)\n",
        "#3.8\n",
        "print(D <= C * B and D == A)\n",
        "#3.9\n",
        "print(A < B or A < C)\n",
        "#3.10\n",
        "print(B != D / A and A % B == C)"
      ],
      "metadata": {
        "colab": {
          "base_uri": "https://localhost:8080/"
        },
        "id": "bRPuW94bu1Kj",
        "outputId": "7c3b0974-50e1-4afe-e5c6-76448bcc5a13"
      },
      "execution_count": null,
      "outputs": [
        {
          "output_type": "stream",
          "name": "stdout",
          "text": [
            "False\n",
            "False\n",
            "True\n",
            "False\n",
            "True\n",
            "True\n",
            "False\n",
            "False\n",
            "False\n",
            "False\n"
          ]
        }
      ]
    },
    {
      "cell_type": "code",
      "source": [
        "#ข้อ 4 ให้แสดงวิธีจัดกลุ่มลำดับการทำงาน (เขียนแสดงในลักษณะผังต้นไม้)"
      ],
      "metadata": {
        "id": "Ouc2JTzDvoOq"
      },
      "execution_count": null,
      "outputs": []
    },
    {
      "cell_type": "code",
      "source": [
        "#ข้อ 5 จงหาค่าของตัวแปร X, Y, Z เมื่อโปรแกรมจบการทำงานต่อไปนี้\n",
        "#ข้อ 5.1\n",
        "A, B, C = 9, 2, 3\n",
        "X = 5\n",
        "Y = X % 3\n",
        "Z = Y - C * 2\n",
        "Y = X - 1\n",
        "X = Z - Y\n",
        "print(X, Y, Z)"
      ],
      "metadata": {
        "colab": {
          "base_uri": "https://localhost:8080/"
        },
        "id": "32OjqESJvCMR",
        "outputId": "483aa0bd-db99-4184-d4de-1c6c74d4f2f2"
      },
      "execution_count": null,
      "outputs": [
        {
          "output_type": "stream",
          "name": "stdout",
          "text": [
            "-8 4 -4\n"
          ]
        }
      ]
    },
    {
      "cell_type": "code",
      "source": [
        "#ข้อ 5.2\n",
        "A, B, C = 9, 2, 3\n",
        "X = 2 * (B + A ** B)\n",
        "Z = X / B - C\n",
        "print(X, Z)"
      ],
      "metadata": {
        "colab": {
          "base_uri": "https://localhost:8080/"
        },
        "id": "nLnGZcJ7vDCe",
        "outputId": "33d15cbd-14c9-4b0f-f644-ff3cc9a287ee"
      },
      "execution_count": null,
      "outputs": [
        {
          "output_type": "stream",
          "name": "stdout",
          "text": [
            "166 80.0\n"
          ]
        }
      ]
    },
    {
      "cell_type": "markdown",
      "source": [
        "# 22-23 June 2022 งดเรียน"
      ],
      "metadata": {
        "id": "1eJ_bwGkbm7O"
      }
    },
    {
      "cell_type": "markdown",
      "source": [
        "# Week02: 16 June 2022 (input, eval)"
      ],
      "metadata": {
        "id": "nvDjw6ak-sXN"
      }
    },
    {
      "cell_type": "code",
      "source": [
        "#ไม่ได้เขียนโค้ด มี PPT Algorithms, Psuedocode"
      ],
      "metadata": {
        "id": "FvGWVyX8-rU-"
      },
      "execution_count": null,
      "outputs": []
    },
    {
      "cell_type": "markdown",
      "source": [
        "## (การบ้าน)"
      ],
      "metadata": {
        "id": "0dzDsJaP_Gqe"
      }
    },
    {
      "cell_type": "code",
      "source": [
        "#1.1 เกรดเฉลี่ยของนักศึกษา\n",
        "#1.2 อายุของนักศึกษาระดับปริญญาตรี\n",
        "#1.3 ชื่อของผู้ใช้งานระบบ\n",
        "#1.4 เงินเดือนสะสมรายปีของพนักงาน\n",
        "#1.5 รหัสบัตร ATM\n",
        "#1.6 รหัสประจำตัวประชาชน 13 หลัก\n",
        "#1.7 หมายเลขโทรศัพท์มือถือ 10 หลัก\n",
        "#1.8 ผลสอบเข้ามหาวิทยาลัย (ผ่านกับไม่ผ่าน)\n",
        "#1.9 พื้นที่ของวงกลม\n",
        "#1.10 น้ำหนักของนักศึกษา"
      ],
      "metadata": {
        "id": "f_d5Q0R6_FXA"
      },
      "execution_count": null,
      "outputs": []
    },
    {
      "cell_type": "code",
      "source": [
        "#Problem 8.2 เขียนโปรแกรมหาพื้นที่ของสี่เหลี่ยมขนาด X*Y"
      ],
      "metadata": {
        "id": "ZU1JzIVG_FNI",
        "colab": {
          "base_uri": "https://localhost:8080/"
        },
        "outputId": "98adecf4-745b-49de-f26d-2d2460dce210"
      },
      "execution_count": null,
      "outputs": [
        {
          "output_type": "stream",
          "name": "stdout",
          "text": [
            "Enter Width, Height of Rectangle: 10,15\n",
            "พื้นที่ของสี่เหลี่ยม กว้าง 10 หน่วย ยาว 15 หน่วย คือ 150 ตารางหน่วย\n"
          ]
        }
      ]
    },
    {
      "cell_type": "code",
      "source": [
        "#EX02_02 จงเขียนโปรแกรมรับชุดข้อมูลตัวเลขในหนึ่งบรรทัดที่แต่ละตัวคั่นด้วย , แล้วหาค่าที่มากที่สุดในชุดข้อมูล"
      ],
      "metadata": {
        "colab": {
          "base_uri": "https://localhost:8080/"
        },
        "id": "aCnGTPetmgAb",
        "outputId": "6ae76200-05bc-487e-e186-b7c4d117ea00"
      },
      "execution_count": null,
      "outputs": [
        {
          "output_type": "stream",
          "name": "stdout",
          "text": [
            "20,30,2,4\n",
            "30\n"
          ]
        }
      ]
    },
    {
      "cell_type": "code",
      "source": [
        "#วัชรพล\n",
        "a=eval(input())\n",
        "print(\"ค่าที่มากที่สุดในชุดข้อมูล=\",max(a))"
      ],
      "metadata": {
        "colab": {
          "base_uri": "https://localhost:8080/"
        },
        "id": "T7LLiywTEeZY",
        "outputId": "a985df7f-adf1-4e00-aca7-9543cb3c0c99"
      },
      "execution_count": null,
      "outputs": [
        {
          "output_type": "stream",
          "name": "stdout",
          "text": [
            "1,2,3,4,5,6,7,8,9\n",
            "ค่าที่มากที่สุดในชุดข้อมูล= 9\n"
          ]
        }
      ]
    },
    {
      "cell_type": "code",
      "source": [
        "#EX02_03 จงเขียนโปรแกรมรับชุดข้อมูลตัวเลขในหนึ่งบรรทัดที่แต่ละตัวคั่นด้วย , แล้วหาค่าเฉลี่ย"
      ],
      "metadata": {
        "colab": {
          "base_uri": "https://localhost:8080/"
        },
        "id": "DeodQPhnmlC4",
        "outputId": "594a297d-6bcb-4748-8f4d-157812326f34"
      },
      "execution_count": null,
      "outputs": [
        {
          "output_type": "stream",
          "name": "stdout",
          "text": [
            "2,4,5,7\n",
            "4.5\n"
          ]
        }
      ]
    },
    {
      "cell_type": "markdown",
      "source": [
        "# Week02: 15 June 2022 (input, print)"
      ],
      "metadata": {
        "id": "EAlJL0mQ9UQm"
      }
    },
    {
      "cell_type": "code",
      "source": [
        "C = float(input('กรอกอุณหภูมิ(Celsius) '))\n",
        "F = 9 * C / 5 + 32\n",
        "print('อุณหภูมิ(Fahrenheit) '+str(F))"
      ],
      "metadata": {
        "id": "RToSBxDj9Tne",
        "colab": {
          "base_uri": "https://localhost:8080/"
        },
        "outputId": "a790fc61-3add-49f1-bbc8-1c81538a102b"
      },
      "execution_count": null,
      "outputs": [
        {
          "output_type": "stream",
          "name": "stdout",
          "text": [
            "กรอกอุณหภูมิ(Celsius) 35\n",
            "อุณหภูมิ(Fahrenheit) 95.0\n"
          ]
        }
      ]
    },
    {
      "cell_type": "code",
      "source": [
        "name = \"ณัฏฐ์ ดิษเจริญ\"\n",
        "#print()\n",
        "print('Your GPA is ', 3.44)\n",
        "print('Hello, ', name, '. You are ', 2561 - 2540, ' years old.')\n",
        "print(4, 5, 6, 7, 8, sep=' ', end='\\n')\n",
        "print(4, 5, 6, 7, 8, sep=' ')\n",
        "print(4, 5, 6, 7, 8, sep=',', end='\\n')\n",
        "print(4, 5, 6, 7, 8, sep=',')\n",
        "print(4, 5, 6, 7, 8, sep='', end='\\n')\n",
        "print(4, 5, 6, 7, 8, sep='', end='')\n",
        "print('Result is ', 4, 5, 6, 7, 8, sep='', end='\\n')"
      ],
      "metadata": {
        "id": "Lzx6WGwL9Tkf",
        "colab": {
          "base_uri": "https://localhost:8080/"
        },
        "outputId": "a94fde2a-3213-491b-fb43-f83997407f90"
      },
      "execution_count": null,
      "outputs": [
        {
          "output_type": "stream",
          "name": "stdout",
          "text": [
            "Your GPA is  3.44\n",
            "Hello,  ณัฏฐ์ ดิษเจริญ . You are  21  years old.\n",
            "4 5 6 7 8\n",
            "4 5 6 7 8\n",
            "4,5,6,7,8\n",
            "4,5,6,7,8\n",
            "45678\n",
            "45678Result is 45678\n"
          ]
        }
      ]
    },
    {
      "cell_type": "code",
      "source": [
        "a = 5\n",
        "b = 6\n",
        "print(a+b)"
      ],
      "metadata": {
        "id": "LhHLga_29Tf-",
        "colab": {
          "base_uri": "https://localhost:8080/"
        },
        "outputId": "c67ab1e0-60e3-4a15-c5c6-852c1b08196d"
      },
      "execution_count": null,
      "outputs": [
        {
          "output_type": "stream",
          "name": "stdout",
          "text": [
            "11\n"
          ]
        }
      ]
    },
    {
      "cell_type": "code",
      "source": [
        "a, b, c, d = 9, 7, 4, 10\n",
        "print(a, b)\n",
        "print(a+b, end=\"***\")\n",
        "print(a*b+c/d)"
      ],
      "metadata": {
        "colab": {
          "base_uri": "https://localhost:8080/"
        },
        "id": "eWEFPkFLN52n",
        "outputId": "b62c735e-5764-479a-9873-1ba748a87d46"
      },
      "execution_count": null,
      "outputs": [
        {
          "output_type": "stream",
          "name": "stdout",
          "text": [
            "9 7\n",
            "16***63.4\n"
          ]
        }
      ]
    },
    {
      "cell_type": "code",
      "source": [
        "#a = input()\n",
        "a, b, c = eval(   input()   )\n",
        "print(a+b+c)"
      ],
      "metadata": {
        "colab": {
          "base_uri": "https://localhost:8080/"
        },
        "id": "jmtnrBQfOnYw",
        "outputId": "98fe3222-9bb7-472f-9012-5aeaf2f396b9"
      },
      "execution_count": null,
      "outputs": [
        {
          "output_type": "stream",
          "name": "stdout",
          "text": [
            "6,7,8\n",
            "21\n"
          ]
        }
      ]
    },
    {
      "cell_type": "code",
      "source": [
        "a, b, c, d, e = eval(input(\"Enter values of a, b, c, d, e: \"))\n",
        "avg = (a+b+c+d+e)/5\n",
        "print(f'                  Avg of {a},{b},{c},{d},{e} = {avg}')"
      ],
      "metadata": {
        "colab": {
          "base_uri": "https://localhost:8080/"
        },
        "id": "l9ImiK5JPhcm",
        "outputId": "62c73f57-1aae-4e20-fead-07335ebaa940"
      },
      "execution_count": null,
      "outputs": [
        {
          "output_type": "stream",
          "name": "stdout",
          "text": [
            "Enter values of a, b, c, d, e: 1,3,9,2,6\n",
            "                  Avg of 1,3,9,2,6 = 4.2\n"
          ]
        }
      ]
    },
    {
      "cell_type": "code",
      "source": [
        "a = list(eval(input()))\n",
        "\n",
        "print(a)\n",
        "print(sum(a))\n",
        "print(len(a))"
      ],
      "metadata": {
        "colab": {
          "base_uri": "https://localhost:8080/"
        },
        "id": "bUuKFm_-Qjpu",
        "outputId": "5b1b7952-8eb8-46c9-b849-27d9334c7ad8"
      },
      "execution_count": null,
      "outputs": [
        {
          "output_type": "stream",
          "name": "stdout",
          "text": [
            "4,6,7,8,4,9\n",
            "[4, 6, 7, 8, 4, 9]\n",
            "38\n",
            "6\n"
          ]
        }
      ]
    },
    {
      "cell_type": "markdown",
      "source": [
        "## (การบ้าน)"
      ],
      "metadata": {
        "id": "13kK6g_c_s6t"
      }
    },
    {
      "cell_type": "code",
      "source": [
        "#ข้อ 1\n",
        "x=int(input())\n",
        "y=int(input())\n",
        "print(\"x+y=\",x+y)\n",
        "print(\"x-y=\",x-y)\n",
        "print(\"x*y=\",x*y)\n",
        "print(\"x/y=\",x/y)"
      ],
      "metadata": {
        "colab": {
          "base_uri": "https://localhost:8080/"
        },
        "id": "101eQWeD9TWm",
        "outputId": "36d67211-9cc2-441e-ed15-a5ea150807bd"
      },
      "execution_count": null,
      "outputs": [
        {
          "output_type": "stream",
          "name": "stdout",
          "text": [
            "12\n",
            "11\n",
            "x+y= 23\n",
            "x-y= 1\n",
            "x*y= 132\n",
            "x/y= 1.0909090909090908\n"
          ]
        }
      ]
    },
    {
      "cell_type": "code",
      "source": [
        "m=int(input('กรอกปีเกิด'))\n",
        "print('คุณอายุ',2565-m,'ปี')"
      ],
      "metadata": {
        "colab": {
          "base_uri": "https://localhost:8080/"
        },
        "id": "C3pjAdsH-qR3",
        "outputId": "fc7ce94c-61e5-46cb-93ec-3a1886bc370a"
      },
      "execution_count": null,
      "outputs": [
        {
          "output_type": "stream",
          "name": "stdout",
          "text": [
            "กรอกปีเกิด2546\n",
            "คุณอายุ 19 ปี\n"
          ]
        }
      ]
    },
    {
      "cell_type": "code",
      "source": [
        "m = 2565 - int(input('กรอกปีเกิด '))\n",
        "print(m)"
      ],
      "metadata": {
        "colab": {
          "base_uri": "https://localhost:8080/"
        },
        "id": "dwBK-2dqD6cI",
        "outputId": "880047fe-2fc8-4747-a8ff-16a283447811"
      },
      "execution_count": null,
      "outputs": [
        {
          "output_type": "stream",
          "name": "stdout",
          "text": [
            "กรอกปีเกิด 2546\n",
            "19\n"
          ]
        }
      ]
    },
    {
      "cell_type": "code",
      "source": [
        "x = int(input('กรอกปี พ.ศ. เกิดของท่าน '))\n",
        "y = 543\n",
        "print('คุณเกิดปี ค.ศ. ',x-y)"
      ],
      "metadata": {
        "colab": {
          "base_uri": "https://localhost:8080/"
        },
        "id": "6nPO6FZgCsaN",
        "outputId": "8aa3d58a-2e4c-413f-892f-5242d4e49506"
      },
      "execution_count": null,
      "outputs": [
        {
          "output_type": "stream",
          "name": "stdout",
          "text": [
            "กรอกปี พ.ศ. เกิดของท่าน 2546\n",
            "คุณเกิดปี ค.ศ.  2003\n"
          ]
        }
      ]
    },
    {
      "cell_type": "code",
      "source": [
        "x = int(input())-543\n",
        "print(x)"
      ],
      "metadata": {
        "colab": {
          "base_uri": "https://localhost:8080/"
        },
        "id": "owsbZ3ZgEg9o",
        "outputId": "9d3af7e8-b4db-410d-cbc5-dc1a730f72cd"
      },
      "execution_count": null,
      "outputs": [
        {
          "output_type": "stream",
          "name": "stdout",
          "text": [
            "2565\n",
            "2022\n"
          ]
        }
      ]
    },
    {
      "cell_type": "code",
      "source": [
        "x = float(input('เกรดเฉลี่ยเทอมต้น   : '))\n",
        "y = float(input('เกรดเฉลี่ยเทอมปลาย : '))\n",
        "print('เกรดเฉลี่ยสะสม',(x+y)/2)"
      ],
      "metadata": {
        "colab": {
          "base_uri": "https://localhost:8080/"
        },
        "id": "OaNhHXdXC_zP",
        "outputId": "722395c3-085f-4dde-d34b-d9dcd9406cee"
      },
      "execution_count": null,
      "outputs": [
        {
          "output_type": "stream",
          "name": "stdout",
          "text": [
            "เกรดเฉลี่ยเทอมต้น   : 3.4\n",
            "เกรดเฉลี่ยเทอมปลาย : 3.5\n",
            "เกรดเฉลี่ยสะสม 3.45\n"
          ]
        }
      ]
    },
    {
      "cell_type": "markdown",
      "source": [
        "# Week01: 9 June 2022 (print)"
      ],
      "metadata": {
        "id": "kpS8iBso9GUQ"
      }
    },
    {
      "cell_type": "code",
      "execution_count": null,
      "metadata": {
        "colab": {
          "base_uri": "https://localhost:8080/"
        },
        "id": "V9dJNdHFNdN_",
        "outputId": "91f1d451-4cfd-4c92-d3d1-5a5769a6e235"
      },
      "outputs": [
        {
          "output_type": "stream",
          "name": "stdout",
          "text": [
            "5\n"
          ]
        }
      ],
      "source": [
        "print(2+3)"
      ]
    },
    {
      "cell_type": "code",
      "source": [
        "print(\"2+3\")"
      ],
      "metadata": {
        "colab": {
          "base_uri": "https://localhost:8080/"
        },
        "id": "WQqINDxvN6Ti",
        "outputId": "bfe1ba4b-b8e8-49e7-e0bd-41dbb71c1f76"
      },
      "execution_count": null,
      "outputs": [
        {
          "output_type": "stream",
          "name": "stdout",
          "text": [
            "2+3\n"
          ]
        }
      ]
    },
    {
      "cell_type": "code",
      "source": [
        "print(\"2+3 = \", 2+3)"
      ],
      "metadata": {
        "colab": {
          "base_uri": "https://localhost:8080/"
        },
        "id": "07ag88YpOIGa",
        "outputId": "37470de3-e323-43c1-c35f-5a6f7805761e"
      },
      "execution_count": null,
      "outputs": [
        {
          "output_type": "stream",
          "name": "stdout",
          "text": [
            "2+3 =  5\n"
          ]
        }
      ]
    },
    {
      "cell_type": "markdown",
      "source": [
        "**Ex. **ให้เขียนโค้ดแสดงค่าต่อไปนี้\n",
        "\n",
        "2x5+7/100-4"
      ],
      "metadata": {
        "id": "iF0PAK7xOaFR"
      }
    },
    {
      "cell_type": "code",
      "source": [
        "print('ผลลัพธ์ของ 2x5+7/100-4 คือ ', 2*5+7/100-4)"
      ],
      "metadata": {
        "colab": {
          "base_uri": "https://localhost:8080/"
        },
        "id": "VODlcieJOgai",
        "outputId": "a1817b0b-1061-484d-8ef8-bf52dc054d49"
      },
      "execution_count": null,
      "outputs": [
        {
          "output_type": "stream",
          "name": "stdout",
          "text": [
            "ผลลัพธ์ของ 2x5+7/100-4 คือ  6.07\n"
          ]
        }
      ]
    },
    {
      "cell_type": "markdown",
      "source": [
        "### Exercise 01.5 จงเขียนคำสั่งเพื่อแสดงผลลัพธ์ของสมการต่อไปนี้"
      ],
      "metadata": {
        "id": "eYPKYea3Quqp"
      }
    },
    {
      "cell_type": "code",
      "source": [
        "print((2**3)+9*7)"
      ],
      "metadata": {
        "colab": {
          "base_uri": "https://localhost:8080/"
        },
        "id": "zzdP7RFBQtBi",
        "outputId": "ca5e23d7-f194-4625-827c-d5e589e25949"
      },
      "execution_count": null,
      "outputs": [
        {
          "output_type": "stream",
          "name": "stdout",
          "text": [
            "71\n"
          ]
        }
      ]
    },
    {
      "cell_type": "code",
      "source": [
        "print( (1/2)+(1/3)+(1/4)+(1/5) )"
      ],
      "metadata": {
        "colab": {
          "base_uri": "https://localhost:8080/"
        },
        "id": "5FjMrHW_SWDx",
        "outputId": "74b836bc-6371-492c-9ef6-43986da702f5"
      },
      "execution_count": null,
      "outputs": [
        {
          "output_type": "stream",
          "name": "stdout",
          "text": [
            "1.2833333333333332\n"
          ]
        }
      ]
    },
    {
      "cell_type": "code",
      "source": [
        "print( (3**2 - 4 * 1 * 2) ** 0.5 )"
      ],
      "metadata": {
        "colab": {
          "base_uri": "https://localhost:8080/"
        },
        "id": "aJoVmLV9Shyp",
        "outputId": "35849559-a513-4340-b127-649f30745d7b"
      },
      "execution_count": null,
      "outputs": [
        {
          "output_type": "stream",
          "name": "stdout",
          "text": [
            "1.0\n"
          ]
        }
      ]
    },
    {
      "cell_type": "code",
      "source": [
        "print( ((4*3*7)**0.5) / (2*3)  )"
      ],
      "metadata": {
        "colab": {
          "base_uri": "https://localhost:8080/"
        },
        "id": "vq8AQzgvQ78X",
        "outputId": "f64d0b10-ddd4-4462-fa84-4be7e971d7ed"
      },
      "execution_count": null,
      "outputs": [
        {
          "output_type": "stream",
          "name": "stdout",
          "text": [
            "1.5275252316519465\n"
          ]
        }
      ]
    },
    {
      "cell_type": "code",
      "source": [
        "print(bin(8))"
      ],
      "metadata": {
        "colab": {
          "base_uri": "https://localhost:8080/"
        },
        "id": "6CMVS-tgUuYy",
        "outputId": "49d87eac-d5d8-4e9b-867a-8f77fc2be24b"
      },
      "execution_count": null,
      "outputs": [
        {
          "output_type": "stream",
          "name": "stdout",
          "text": [
            "0b1000\n"
          ]
        }
      ]
    },
    {
      "cell_type": "code",
      "source": [
        "type('ข้อความ')"
      ],
      "metadata": {
        "colab": {
          "base_uri": "https://localhost:8080/"
        },
        "id": "o_o024--VHFq",
        "outputId": "7ea0177c-7f4e-4c4e-fde0-c8b7ea0f666e"
      },
      "execution_count": null,
      "outputs": [
        {
          "output_type": "execute_result",
          "data": {
            "text/plain": [
              "str"
            ]
          },
          "metadata": {},
          "execution_count": 11
        }
      ]
    },
    {
      "cell_type": "code",
      "source": [
        "type(8000)"
      ],
      "metadata": {
        "colab": {
          "base_uri": "https://localhost:8080/"
        },
        "id": "rb2_zztIVJzC",
        "outputId": "253d2b1c-9ab7-4f79-a357-414a79166ceb"
      },
      "execution_count": null,
      "outputs": [
        {
          "output_type": "execute_result",
          "data": {
            "text/plain": [
              "int"
            ]
          },
          "metadata": {},
          "execution_count": 12
        }
      ]
    },
    {
      "cell_type": "code",
      "source": [
        "type(10.5126446)"
      ],
      "metadata": {
        "colab": {
          "base_uri": "https://localhost:8080/"
        },
        "id": "ngZLtMn1VM2C",
        "outputId": "aad21e65-7613-401b-8867-627a785f2e59"
      },
      "execution_count": null,
      "outputs": [
        {
          "output_type": "execute_result",
          "data": {
            "text/plain": [
              "float"
            ]
          },
          "metadata": {},
          "execution_count": 13
        }
      ]
    },
    {
      "cell_type": "markdown",
      "source": [
        "## การรับค่าข้อมูล"
      ],
      "metadata": {
        "id": "Wj9J3ZMwVcOJ"
      }
    },
    {
      "cell_type": "code",
      "source": [
        "a = input(\"กรอกชื่อ: \")\n",
        "b = input('กรอกนามสกุล: ')\n",
        "print('hello', a, b)\n",
        "print('สวัสดี' + a + b)"
      ],
      "metadata": {
        "colab": {
          "base_uri": "https://localhost:8080/"
        },
        "id": "YjYXLjl8Vgtp",
        "outputId": "861b9631-b600-46d8-9cd9-180a259359e1"
      },
      "execution_count": null,
      "outputs": [
        {
          "output_type": "stream",
          "name": "stdout",
          "text": [
            "กรอกชื่อ: ณัฏฐ์\n",
            "กรอกนามสกุล: ดิษเจริญ\n",
            "hello ณัฏฐ์ ดิษเจริญ\n",
            "สวัสดีณัฏฐ์ดิษเจริญ\n"
          ]
        }
      ]
    },
    {
      "cell_type": "code",
      "source": [
        "#ฝึกตั้งชื่อตัวแปร\n",
        "username = \"nadh\"\n",
        "age = 50\n",
        "x = 10.5\n",
        "y = 10\n",
        "z = 10\n",
        "birthyear = 2530\n"
      ],
      "metadata": {
        "id": "t3Rb65ohZ1qt"
      },
      "execution_count": null,
      "outputs": []
    },
    {
      "cell_type": "code",
      "source": [
        "x = input()\n",
        "print(type(x))\n",
        "age = int(x)\n",
        "print(type(age))"
      ],
      "metadata": {
        "colab": {
          "base_uri": "https://localhost:8080/"
        },
        "id": "6AvDoH1odpZB",
        "outputId": "10158186-1ea2-4872-ecad-ca2f40c27900"
      },
      "execution_count": null,
      "outputs": [
        {
          "output_type": "stream",
          "name": "stdout",
          "text": [
            "50\n",
            "<class 'str'>\n",
            "<class 'int'>\n"
          ]
        }
      ]
    },
    {
      "cell_type": "code",
      "source": [
        "age = int(  input('กรอกอายุ ')  )\n",
        "print(\"คุณอายุ\", age, \" ปี\")"
      ],
      "metadata": {
        "colab": {
          "base_uri": "https://localhost:8080/"
        },
        "id": "-5cgtEDqeAnT",
        "outputId": "183cb28d-273a-4b0e-a487-e2d4e3b7d98c"
      },
      "execution_count": null,
      "outputs": [
        {
          "output_type": "stream",
          "name": "stdout",
          "text": [
            "กรอกอายุ 20\n",
            "คุณอายุ 20  ปี\n"
          ]
        }
      ]
    },
    {
      "cell_type": "code",
      "source": [
        "gpa = float( input('กรอกเกรดเฉลี่ย') )\n",
        "print(\"คุณได้เกรดเฉลี่ย\", gpa)"
      ],
      "metadata": {
        "colab": {
          "base_uri": "https://localhost:8080/"
        },
        "id": "Cr85_UQYe-ds",
        "outputId": "4a3e36aa-7a86-41d9-ef25-8cf3128f85fb"
      },
      "execution_count": null,
      "outputs": [
        {
          "output_type": "stream",
          "name": "stdout",
          "text": [
            "กรอกเกรดเฉลี่ย3.50\n",
            "คุณได้เกรดเฉลี่ย 3.5\n"
          ]
        }
      ]
    },
    {
      "cell_type": "code",
      "source": [
        "fname = input()\n",
        "lname = input()\n",
        "age = int(input())\n",
        "gpa = float(input())\n",
        "print(f' คุณชื่อ {fname} นามสกุล {lname} อายุ {age} ปี ได้เกรดเฉลี่ย {gpa}  ')"
      ],
      "metadata": {
        "colab": {
          "base_uri": "https://localhost:8080/"
        },
        "id": "PXDEYz-pfMX6",
        "outputId": "13e266b0-f7b6-41ac-db55-6ef970d3937c"
      },
      "execution_count": null,
      "outputs": [
        {
          "output_type": "stream",
          "name": "stdout",
          "text": [
            "ณัฏฐ์\n",
            "ดิษเจริญ\n",
            "20\n",
            "3.5\n",
            " คุณชื่อ ณัฏฐ์ นามสกุล ดิษเจริญ อายุ 20 ปี ได้เกรดเฉลี่ย 3.5  \n"
          ]
        }
      ]
    },
    {
      "cell_type": "code",
      "source": [
        "x = int(input('กรอกตัวเลข (x) '))\n",
        "y = int(input('กรอกอีกตัวเลข (y) '))\n",
        "print('ค่า x + y คือ ', x+y)"
      ],
      "metadata": {
        "colab": {
          "base_uri": "https://localhost:8080/"
        },
        "id": "aNyxGFeZhvxp",
        "outputId": "62876198-300a-4434-f934-e6fb9cdbf2a2"
      },
      "execution_count": null,
      "outputs": [
        {
          "output_type": "stream",
          "name": "stdout",
          "text": [
            "กรอกตัวเลข (x) 6\n",
            "กรอกอีกตัวเลข (y) 89\n",
            "ค่า x + y คือ  95\n"
          ]
        }
      ]
    }
  ]
}